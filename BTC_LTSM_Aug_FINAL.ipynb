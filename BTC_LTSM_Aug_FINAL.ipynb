{
 "cells": [
  {
   "cell_type": "code",
   "execution_count": 1,
   "metadata": {
    "id": "aGCqWQ04oML6"
   },
   "outputs": [],
   "source": [
    "import tensorflow as tf\n",
    "from tensorflow.keras.models import Sequential\n",
    "from tensorflow.keras.layers import LSTM, Dense, Dropout, Bidirectional, BatchNormalization\n",
    "from tensorflow.keras.callbacks import ModelCheckpoint, TensorBoard\n",
    "from sklearn import preprocessing\n",
    "from sklearn.model_selection import train_test_split\n",
    "from collections import deque\n",
    "\n",
    "import os\n",
    "import numpy as np\n",
    "import pandas as pd\n",
    "import random\n",
    "import time\n",
    "import requests"
   ]
  },
  {
   "cell_type": "code",
   "execution_count": 2,
   "metadata": {},
   "outputs": [],
   "source": [
    "# This is to choose which GPU to use. Set to -1 for no GPU\n",
    "# If using Colab comment out this code\n",
    "os.environ[\"CUDA_VISIBLE_DEVICES\"]=\"1\""
   ]
  },
  {
   "cell_type": "code",
   "execution_count": 3,
   "metadata": {
    "id": "QJInK-LFTFFC"
   },
   "outputs": [],
   "source": [
    "import subprocess \n",
    "import tempfile "
   ]
  },
  {
   "cell_type": "code",
   "execution_count": 4,
   "metadata": {
    "colab": {
     "base_uri": "https://localhost:8080/"
    },
    "id": "LP3ZYHowTWe3",
    "outputId": "2fd09131-c966-4cbb-9aa8-8008af6cb675"
   },
   "outputs": [],
   "source": [
    "# If using Colab put the files on your Drive account and uncomment this code. \n",
    "#Follow the instructions after running block\n",
    "\n",
    "#from google.colab import drive\n",
    "#drive.mount('/content/gdrive')"
   ]
  },
  {
   "cell_type": "code",
   "execution_count": 5,
   "metadata": {
    "colab": {
     "base_uri": "https://localhost:8080/"
    },
    "id": "qXfr1usCTFFD",
    "outputId": "34c62637-eb31-4cc8-b895-2c949acc6465"
   },
   "outputs": [
    {
     "name": "stdout",
     "output_type": "stream",
     "text": [
      "[PhysicalDevice(name='/physical_device:GPU:0', device_type='GPU')]\n",
      "/device:GPU:0\n"
     ]
    }
   ],
   "source": [
    "print(tf.config.experimental.list_physical_devices(device_type='GPU'))\n",
    "print(tf.test.gpu_device_name())"
   ]
  },
  {
   "cell_type": "code",
   "execution_count": 6,
   "metadata": {
    "colab": {
     "base_uri": "https://localhost:8080/"
    },
    "id": "3GHr7QJDTFFF",
    "outputId": "967e5fc5-0a42-40a6-ca51-6c25885a35e8"
   },
   "outputs": [
    {
     "name": "stdout",
     "output_type": "stream",
     "text": [
      "{'device_name': 'GeForce GTX 1660 Ti', 'compute_capability': (7, 5)}\n"
     ]
    }
   ],
   "source": [
    "physical_devices = tf.config.list_physical_devices('GPU')\n",
    "for d in physical_devices:\n",
    "    try:\n",
    "        tf.config.experimental.set_memory_growth(d, True)\n",
    "    except:\n",
    "        pass\n",
    "\n",
    "try:\n",
    "    print(tf.config.experimental.get_device_details(physical_devices[0]))\n",
    "except:\n",
    "    print(\"No GPU\")"
   ]
  },
  {
   "cell_type": "code",
   "execution_count": 7,
   "metadata": {
    "id": "7gWc1Yv5ARJl"
   },
   "outputs": [],
   "source": [
    "# The csv files will need to be located in folder MY_PATH/archive\n",
    "#MY_PATH = './gdrive/MyDrive/project/'\n",
    "MY_PATH = ''\n",
    "FILE_NAME = MY_PATH + 'archive/' + 'BTCUSDT_2017.csv'\n",
    "MULTIYEAR = False"
   ]
  },
  {
   "cell_type": "code",
   "execution_count": 8,
   "metadata": {
    "id": "iNFAmiK-oPLV"
   },
   "outputs": [],
   "source": [
    "# set seed, so we can get the same results after rerunning several times\n",
    "np.random.seed(315)\n",
    "tf.random.set_seed(315)\n",
    "random.seed(315)"
   ]
  },
  {
   "cell_type": "code",
   "execution_count": 9,
   "metadata": {
    "id": "oGfo_8pioPWS"
   },
   "outputs": [],
   "source": [
    "# Window size or the sequence length\n",
    "N_STEPS = 20\n",
    "# Lookup step, 1 is the next day\n",
    "LOOKUP_STEP = 5\n",
    "\n",
    "# whether to scale feature columns & output price as well\n",
    "SCALE = True\n",
    "scale_str = f\"sc-{int(SCALE)}\"\n",
    "# whether to shuffle the dataset\n",
    "SHUFFLE = True\n",
    "shuffle_str = f\"sh-{int(SHUFFLE)}\"\n",
    "# whether to split the training/testing set by date\n",
    "SPLIT_BY_DATE = False\n",
    "split_by_date_str = f\"sbd-{int(SPLIT_BY_DATE)}\"\n",
    "# test ratio size, 0.2 is 20%\n",
    "TEST_SIZE = 0.2\n",
    "# features to use\n",
    "#FEATURE_COLUMNS = [\"close\", \"open\", \"high\", \"low\"]\n",
    "FEATURE_COLUMNS = [\"close\"]\n",
    "# date now\n",
    "date_now = time.strftime(\"%Y-%m-%d\")\n",
    "\n",
    "### model parameters\n",
    "\n",
    "N_LAYERS = 2\n",
    "# LSTM cell\n",
    "CELL = LSTM\n",
    "# 256 LSTM neurons\n",
    "UNITS = 128\n",
    "# 40% dropout\n",
    "DROPOUT = 0.3\n",
    "# whether to use bidirectional RNNs\n",
    "BIDIRECTIONAL = True\n",
    "\n",
    "### training parameters\n",
    "\n",
    "# mean absolute error loss\n",
    "# LOSS = \"mae\"\n",
    "# huber loss\n",
    "LOSS = \"huber_loss\"\n",
    "OPTIMIZER = \"adam\"\n",
    "BATCH_SIZE = 128 # originally 64\n",
    "EPOCHS = 20 # originally 500\n",
    "\n",
    "# Amazon stock market\n",
    "ticker = \"BTC\"\n",
    "ticker_data_filename = os.path.join(MY_PATH + \"data\", f\"{ticker}_{date_now}.csv\")\n",
    "# model name to save, making it as unique as possible based on parameters\n",
    "model_name = f\"{date_now}_{ticker}-{shuffle_str}-{scale_str}-{split_by_date_str}-\\\n",
    "{LOSS}-{OPTIMIZER}-{CELL.__name__}-seq-{N_STEPS}-step-{LOOKUP_STEP}-layers-{N_LAYERS}-\\\n",
    "units-{UNITS}-epochs-{EPOCHS}-batchsize-{BATCH_SIZE}-dropout-{DROPOUT * 100:.0f}\"\n",
    "if BIDIRECTIONAL:\n",
    "    model_name += \"-b\""
   ]
  },
  {
   "cell_type": "code",
   "execution_count": 10,
   "metadata": {
    "id": "uXIzYDVKoPaP"
   },
   "outputs": [],
   "source": [
    "def shuffle_in_unison(a, b):\n",
    "    # shuffle two arrays in the same way\n",
    "    state = np.random.get_state()\n",
    "    np.random.shuffle(a)\n",
    "    np.random.set_state(state)\n",
    "    np.random.shuffle(b)\n",
    "\n",
    "\n",
    "#def load_data(ticker, n_steps=50, scale=True, shuffle=True, lookup_step=1, split_by_date=True,\n",
    "#                test_size=0.2, feature_columns=['close', 'volume', 'open', 'high', 'low']):\n",
    "def load_data(ticker, n_steps=50, scale=True, shuffle=True, lookup_step=1, split_by_date=True,\n",
    "                test_size=0.2, feature_columns=FEATURE_COLUMNS, multiyear=False, file_name=FILE_NAME):\n",
    "\n",
    "    df1 = pd.read_csv(file_name)\n",
    "    \n",
    "    if multiyear and FILE_NAME == MY_PATH + 'archive/' + 'BTCUSDT_2017.csv':\n",
    "        df2 = pd.read_csv(MY_PATH + 'archive/' +'BTCUSDT_2018.csv')\n",
    "        df3 = pd.read_csv(MY_PATH + 'archive/' +'BTCUSDT_2019.csv')\n",
    "        df4 = pd.read_csv(MY_PATH + 'archive/' +'BTCUSDT_2020.csv')\n",
    "        df = df1.append([df2, df3, df4], ignore_index=True)\n",
    "    elif multiyear and FILE_NAME == MY_PATH + 'archive/ETHUSDT_2017.csv':\n",
    "        df2 = pd.read_csv(MY_PATH + 'archive/' +'ETHUSDT_2018.csv')\n",
    "        df3 = pd.read_csv(MY_PATH + 'archive/' +'ETHUSDT_2019.csv')\n",
    "        df4 = pd.read_csv(MY_PATH + 'archive/' +'ETHUSDT_2020.csv')\n",
    "        df = df1.append([df2, df3, df4], ignore_index=True)\n",
    "    else:\n",
    "        df = df1\n",
    "    \n",
    "    #df['date'] = pd.to_datetime(df['date'], unit='s')\n",
    "\n",
    "    print(df)\n",
    "    #print(df.columns)\n",
    "\n",
    "\n",
    "    # this will contain all the elements we want to return from this function\n",
    "    result = {}\n",
    "    # we will also return the original dataframe itself\n",
    "    result['df'] = df.copy()\n",
    "\n",
    "    # make sure that the passed feature_columns exist in the dataframe\n",
    "    for col in feature_columns:\n",
    "        assert col in df.columns, f\"'{col}' does not exist in the dataframe.\"\n",
    "\n",
    "    df.drop(['date'], axis=1, inplace=True)\n",
    "\n",
    "    # add date as a column\n",
    "    if \"date\" not in df.columns:\n",
    "        df[\"date\"] = df.index\n",
    "\n",
    "\n",
    "    if scale:\n",
    "        column_scaler = {}\n",
    "        # scale the data (prices) from 0 to 1\n",
    "        for column in feature_columns:\n",
    "            scaler = preprocessing.MinMaxScaler()\n",
    "            df[column] = scaler.fit_transform(np.expand_dims(df[column].values, axis=1))\n",
    "            column_scaler[column] = scaler\n",
    "\n",
    "        # add the MinMaxScaler instances to the result returned\n",
    "        result[\"column_scaler\"] = column_scaler\n",
    "\n",
    "    # add the target column (label) by shifting by `lookup_step`\n",
    "    df['future'] = df['close'].shift(-lookup_step)\n",
    "\n",
    "    # last `lookup_step` columns contains NaN in future column\n",
    "    # get them before droping NaNs\n",
    "    last_sequence = np.array(df[feature_columns].tail(lookup_step))\n",
    "    \n",
    "    # drop NaNs\n",
    "    df.dropna(inplace=True)\n",
    "\n",
    "    sequence_data = []\n",
    "    sequences = deque(maxlen=n_steps)\n",
    "\n",
    "    for entry, target in zip(df[feature_columns + [\"date\"]].values, df['future'].values):\n",
    "        sequences.append(entry)\n",
    "        if len(sequences) == n_steps:\n",
    "            sequence_data.append([np.array(sequences), target])\n",
    "\n",
    "    # get the last sequence by appending the last `n_step` sequence with `lookup_step` sequence\n",
    "    # for instance, if n_steps=50 and lookup_step=10, last_sequence should be of 60 (that is 50+10) length\n",
    "    # this last_sequence will be used to predict future stock prices that are not available in the dataset\n",
    "    last_sequence = list([s[:len(feature_columns)] for s in sequences]) + list(last_sequence)\n",
    "    last_sequence = np.array(last_sequence).astype(np.float32)\n",
    "    # add to result\n",
    "    result['last_sequence'] = last_sequence\n",
    "    \n",
    "    # construct the X's and y's\n",
    "    X, y = [], []\n",
    "    for seq, target in sequence_data:\n",
    "        X.append(seq)\n",
    "        y.append(target)\n",
    "\n",
    "    # convert to numpy arrays\n",
    "    X = np.array(X)\n",
    "    y = np.array(y)\n",
    "\n",
    "    if split_by_date:\n",
    "        # split the dataset into training & testing sets by date (not randomly splitting)\n",
    "        train_samples = int((1 - test_size) * len(X))\n",
    "        result[\"X_train\"] = X[:train_samples]\n",
    "        result[\"y_train\"] = y[:train_samples]\n",
    "        result[\"X_test\"]  = X[train_samples:]\n",
    "        result[\"y_test\"]  = y[train_samples:]\n",
    "        if shuffle:\n",
    "            # shuffle the datasets for training (if shuffle parameter is set)\n",
    "            shuffle_in_unison(result[\"X_train\"], result[\"y_train\"])\n",
    "            shuffle_in_unison(result[\"X_test\"], result[\"y_test\"])\n",
    "    else:    \n",
    "        # split the dataset randomly\n",
    "        result[\"X_train\"], result[\"X_test\"], result[\"y_train\"], result[\"y_test\"] = train_test_split(X, y, \n",
    "                                                                                test_size=test_size, shuffle=shuffle)\n",
    "\n",
    "    # get the list of test set dates\n",
    "    dates = result[\"X_test\"][:, -1, -1]\n",
    "    # retrieve test features from the original dataframe\n",
    "    result[\"test_df\"] = result[\"df\"].loc[dates]\n",
    "    # remove duplicated dates in the testing dataframe\n",
    "    result[\"test_df\"] = result[\"test_df\"][~result[\"test_df\"].index.duplicated(keep='first')]\n",
    "    # remove dates from the training/testing sets & convert to float32\n",
    "    result[\"X_train\"] = result[\"X_train\"][:, :, :len(feature_columns)].astype(np.float32)\n",
    "    result[\"X_test\"] = result[\"X_test\"][:, :, :len(feature_columns)].astype(np.float32)\n",
    "\n",
    "    return result"
   ]
  },
  {
   "cell_type": "code",
   "execution_count": 11,
   "metadata": {
    "id": "y2SRXF3koPdh"
   },
   "outputs": [],
   "source": [
    "def create_model(sequence_length, n_features, units=256, cell=LSTM, n_layers=2, dropout=0.3,\n",
    "                loss=\"mean_squared_error\", optimizer=\"rmsprop\", bidirectional=False):\n",
    "    model = Sequential()\n",
    "    for i in range(n_layers):\n",
    "        if i == 0:\n",
    "            # first layer\n",
    "            if bidirectional:\n",
    "                model.add(Bidirectional(cell(units, return_sequences=True), batch_input_shape=(None, sequence_length, n_features)))\n",
    "            else:\n",
    "                model.add(cell(units, return_sequences=True, batch_input_shape=(None, sequence_length, n_features)))\n",
    "        elif i == n_layers - 1:\n",
    "            # last layer\n",
    "            if bidirectional:\n",
    "                model.add(Bidirectional(cell(units, return_sequences=False)))\n",
    "            else:\n",
    "                model.add(cell(units, return_sequences=False))\n",
    "        else:\n",
    "            # hidden layers\n",
    "            if bidirectional:\n",
    "                model.add(Bidirectional(cell(units, return_sequences=True)))\n",
    "            else:\n",
    "                model.add(cell(units, return_sequences=True))\n",
    "        # add dropout after each layer\n",
    "        model.add(Dropout(dropout))\n",
    "        #model.add(BatchNormalization())\n",
    "    model.add(Dense(1, activation=\"linear\"))\n",
    "    model.compile(loss=loss, metrics=[\"mean_absolute_error\", \"mean_squared_error\"], optimizer=optimizer)\n",
    "    return model"
   ]
  },
  {
   "cell_type": "code",
   "execution_count": 12,
   "metadata": {
    "colab": {
     "base_uri": "https://localhost:8080/"
    },
    "id": "186j8jcfoPhh",
    "outputId": "dc29c275-21e3-48c1-fdf2-569e331c4faa"
   },
   "outputs": [
    {
     "name": "stdout",
     "output_type": "stream",
     "text": [
      "              date       low      high      open     close    volume\n",
      "0       1502942400   4261.48   4261.48   4261.48   4261.48  1.775183\n",
      "1       1502942460   4261.48   4261.48   4261.48   4261.48  0.000000\n",
      "2       1502942520   4280.56   4280.56   4280.56   4280.56  0.261074\n",
      "3       1502942580   4261.48   4261.48   4261.48   4261.48  0.012008\n",
      "4       1502942640   4261.48   4261.48   4261.48   4261.48  0.140796\n",
      "...            ...       ...       ...       ...       ...       ...\n",
      "196541  1514764500  13685.00  13695.52  13653.76  13695.52  5.565341\n",
      "196542  1514764560  13695.52  13741.81  13668.06  13741.81  3.618499\n",
      "196543  1514764620  13734.29  13741.82  13697.05  13734.27  1.777407\n",
      "196544  1514764680  13734.27  13741.00  13706.61  13740.96  1.014558\n",
      "196545  1514764740  13740.96  13741.00  13697.61  13716.36  4.939606\n",
      "\n",
      "[196546 rows x 6 columns]\n",
      "Model: \"sequential\"\n",
      "_________________________________________________________________\n",
      "Layer (type)                 Output Shape              Param #   \n",
      "=================================================================\n",
      "bidirectional (Bidirectional (None, 20, 256)           133120    \n",
      "_________________________________________________________________\n",
      "dropout (Dropout)            (None, 20, 256)           0         \n",
      "_________________________________________________________________\n",
      "bidirectional_1 (Bidirection (None, 256)               394240    \n",
      "_________________________________________________________________\n",
      "dropout_1 (Dropout)          (None, 256)               0         \n",
      "_________________________________________________________________\n",
      "dense (Dense)                (None, 1)                 257       \n",
      "=================================================================\n",
      "Total params: 527,617\n",
      "Trainable params: 527,617\n",
      "Non-trainable params: 0\n",
      "_________________________________________________________________\n"
     ]
    }
   ],
   "source": [
    "# create these folders if they does not exist\n",
    "if not os.path.isdir(MY_PATH + \"results\"):\n",
    "    os.mkdir(MY_PATH + \"results\")\n",
    "\n",
    "if not os.path.isdir(MY_PATH + \"logs\"):\n",
    "    os.mkdir(MY_PATH + \"logs\")\n",
    "\n",
    "if not os.path.isdir(MY_PATH + \"data\"):\n",
    "    os.mkdir(MY_PATH + \"data\")\n",
    "#print(\"One\")\n",
    "# load the data\n",
    "data = load_data(ticker, N_STEPS, scale=SCALE, split_by_date=SPLIT_BY_DATE, \n",
    "                shuffle=SHUFFLE, lookup_step=LOOKUP_STEP, test_size=TEST_SIZE, \n",
    "                feature_columns=FEATURE_COLUMNS, multiyear=MULTIYEAR, file_name=FILE_NAME)\n",
    "#print(\"Two\")\n",
    "# save the dataframe\n",
    "data[\"df\"].to_csv(ticker_data_filename)\n",
    "#print(\"Three\")\n",
    "# construct the model\n",
    "model = create_model(N_STEPS, len(FEATURE_COLUMNS), loss=LOSS, units=UNITS, cell=CELL, n_layers=N_LAYERS,\n",
    "                    dropout=DROPOUT, optimizer=OPTIMIZER, bidirectional=BIDIRECTIONAL)\n",
    "\n",
    "model.summary()"
   ]
  },
  {
   "cell_type": "code",
   "execution_count": 13,
   "metadata": {
    "colab": {
     "base_uri": "https://localhost:8080/"
    },
    "id": "mTWAq9FdoW04",
    "outputId": "144f86c8-492f-4b80-ca57-8a3212c244da"
   },
   "outputs": [
    {
     "name": "stdout",
     "output_type": "stream",
     "text": [
      "Epoch 1/20\n",
      "1229/1229 [==============================] - 59s 40ms/step - loss: 3.2759e-04 - mean_absolute_error: 0.0126 - mean_squared_error: 6.5518e-04 - val_loss: 8.9552e-06 - val_mean_absolute_error: 0.0022 - val_mean_squared_error: 1.7910e-05\n",
      "\n",
      "Epoch 00001: val_loss improved from inf to 0.00001, saving model to results\\2021-08-07_BTC-sh-1-sc-1-sbd-0-huber_loss-adam-LSTM-seq-20-step-5-layers-2-units-128-epochs-20-batchsize-128-dropout-30-b.h5\n",
      "Epoch 2/20\n",
      "1229/1229 [==============================] - 50s 41ms/step - loss: 1.3411e-04 - mean_absolute_error: 0.0094 - mean_squared_error: 2.6823e-04 - val_loss: 1.5337e-05 - val_mean_absolute_error: 0.0033 - val_mean_squared_error: 3.0673e-05\n",
      "\n",
      "Epoch 00002: val_loss did not improve from 0.00001\n",
      "Epoch 3/20\n",
      "1229/1229 [==============================] - 40s 33ms/step - loss: 1.0586e-04 - mean_absolute_error: 0.0085 - mean_squared_error: 2.1172e-04 - val_loss: 1.2275e-05 - val_mean_absolute_error: 0.0031 - val_mean_squared_error: 2.4549e-05\n",
      "\n",
      "Epoch 00003: val_loss did not improve from 0.00001\n",
      "Epoch 4/20\n",
      "1229/1229 [==============================] - 40s 33ms/step - loss: 9.4261e-05 - mean_absolute_error: 0.0083 - mean_squared_error: 1.8852e-04 - val_loss: 1.9065e-05 - val_mean_absolute_error: 0.0041 - val_mean_squared_error: 3.8130e-05\n",
      "\n",
      "Epoch 00004: val_loss did not improve from 0.00001\n",
      "Epoch 5/20\n",
      "1229/1229 [==============================] - 40s 33ms/step - loss: 8.8594e-05 - mean_absolute_error: 0.0084 - mean_squared_error: 1.7719e-04 - val_loss: 1.4270e-05 - val_mean_absolute_error: 0.0035 - val_mean_squared_error: 2.8540e-05\n",
      "\n",
      "Epoch 00005: val_loss did not improve from 0.00001\n",
      "Epoch 6/20\n",
      "1229/1229 [==============================] - 40s 33ms/step - loss: 8.3901e-05 - mean_absolute_error: 0.0084 - mean_squared_error: 1.6780e-04 - val_loss: 1.2004e-05 - val_mean_absolute_error: 0.0034 - val_mean_squared_error: 2.4008e-05-05 - me - ETA: 2s - l\n",
      "\n",
      "Epoch 00006: val_loss did not improve from 0.00001\n",
      "Epoch 7/20\n",
      "1229/1229 [==============================] - 40s 33ms/step - loss: 8.2424e-05 - mean_absolute_error: 0.0085 - mean_squared_error: 1.6485e-04 - val_loss: 1.7766e-05 - val_mean_absolute_error: 0.0037 - val_mean_squared_error: 3.5531e-05\n",
      "\n",
      "Epoch 00007: val_loss did not improve from 0.00001\n",
      "Epoch 8/20\n",
      "1229/1229 [==============================] - 40s 33ms/step - loss: 8.3362e-05 - mean_absolute_error: 0.0086 - mean_squared_error: 1.6672e-04 - val_loss: 2.3368e-05 - val_mean_absolute_error: 0.0038 - val_mean_squared_error: 4.6736e-05 - loss: 8.0199e-05 - m - ETA: 26s - loss: 8.1305e-05 - mean_\n",
      "\n",
      "Epoch 00008: val_loss did not improve from 0.00001\n",
      "Epoch 9/20\n",
      "1229/1229 [==============================] - 40s 33ms/step - loss: 8.2060e-05 - mean_absolute_error: 0.0085 - mean_squared_error: 1.6412e-04 - val_loss: 7.4895e-06 - val_mean_absolute_error: 0.0021 - val_mean_squared_error: 1.4979e-05\n",
      "\n",
      "Epoch 00009: val_loss improved from 0.00001 to 0.00001, saving model to results\\2021-08-07_BTC-sh-1-sc-1-sbd-0-huber_loss-adam-LSTM-seq-20-step-5-layers-2-units-128-epochs-20-batchsize-128-dropout-30-b.h5\n",
      "Epoch 10/20\n",
      "1229/1229 [==============================] - 40s 33ms/step - loss: 7.9258e-05 - mean_absolute_error: 0.0084 - mean_squared_error: 1.5852e-04 - val_loss: 1.6984e-05 - val_mean_absolute_error: 0.0038 - val_mean_squared_error: 3.3968e-05\n",
      "\n",
      "Epoch 00010: val_loss did not improve from 0.00001\n",
      "Epoch 11/20\n",
      "1229/1229 [==============================] - 40s 33ms/step - loss: 8.2525e-05 - mean_absolute_error: 0.0086 - mean_squared_error: 1.6505e-04 - val_loss: 8.3813e-06 - val_mean_absolute_error: 0.0025 - val_mean_squared_error: 1.6763e-05\n",
      "\n",
      "Epoch 00011: val_loss did not improve from 0.00001\n",
      "Epoch 12/20\n",
      "1229/1229 [==============================] - 40s 33ms/step - loss: 7.9320e-05 - mean_absolute_error: 0.0084 - mean_squared_error: 1.5864e-04 - val_loss: 2.1122e-05 - val_mean_absolute_error: 0.0041 - val_mean_squared_error: 4.2245e-05\n",
      "\n",
      "Epoch 00012: val_loss did not improve from 0.00001\n",
      "Epoch 13/20\n",
      "1229/1229 [==============================] - 40s 33ms/step - loss: 7.9564e-05 - mean_absolute_error: 0.0084 - mean_squared_error: 1.5913e-04 - val_loss: 1.3396e-05 - val_mean_absolute_error: 0.0031 - val_mean_squared_error: 2.6792e-05\n",
      "\n",
      "Epoch 00013: val_loss did not improve from 0.00001\n",
      "Epoch 14/20\n",
      "1229/1229 [==============================] - 40s 33ms/step - loss: 8.0321e-05 - mean_absolute_error: 0.0085 - mean_squared_error: 1.6064e-04 - val_loss: 4.9304e-05 - val_mean_absolute_error: 0.0076 - val_mean_squared_error: 9.8609e-05\n",
      "\n",
      "Epoch 00014: val_loss did not improve from 0.00001\n",
      "Epoch 15/20\n",
      "1229/1229 [==============================] - 40s 32ms/step - loss: 7.8396e-05 - mean_absolute_error: 0.0083 - mean_squared_error: 1.5679e-04 - val_loss: 2.3727e-05 - val_mean_absolute_error: 0.0054 - val_mean_squared_error: 4.7454e-05\n",
      "\n",
      "Epoch 00015: val_loss did not improve from 0.00001\n",
      "Epoch 16/20\n",
      "1229/1229 [==============================] - 40s 33ms/step - loss: 7.8488e-05 - mean_absolute_error: 0.0083 - mean_squared_error: 1.5698e-04 - val_loss: 1.5381e-05 - val_mean_absolute_error: 0.0034 - val_mean_squared_error: 3.0763e-05\n",
      "\n",
      "Epoch 00016: val_loss did not improve from 0.00001\n",
      "Epoch 17/20\n",
      "1229/1229 [==============================] - 40s 33ms/step - loss: 7.5059e-05 - mean_absolute_error: 0.0081 - mean_squared_error: 1.5012e-04 - val_loss: 9.3985e-05 - val_mean_absolute_error: 0.0088 - val_mean_squared_error: 1.8797e-04\n",
      "\n",
      "Epoch 00017: val_loss did not improve from 0.00001\n",
      "Epoch 18/20\n",
      "1229/1229 [==============================] - 40s 32ms/step - loss: 7.6869e-05 - mean_absolute_error: 0.0082 - mean_squared_error: 1.5374e-04 - val_loss: 1.0546e-05 - val_mean_absolute_error: 0.0026 - val_mean_squared_error: 2.1092e-05\n",
      "\n",
      "Epoch 00018: val_loss did not improve from 0.00001\n",
      "Epoch 19/20\n",
      "1229/1229 [==============================] - 40s 33ms/step - loss: 7.6214e-05 - mean_absolute_error: 0.0082 - mean_squared_error: 1.5243e-04 - val_loss: 9.9373e-06 - val_mean_absolute_error: 0.0025 - val_mean_squared_error: 1.9875e-05\n",
      "\n",
      "Epoch 00019: val_loss did not improve from 0.00001\n",
      "Epoch 20/20\n",
      "1229/1229 [==============================] - 40s 32ms/step - loss: 7.4480e-05 - mean_absolute_error: 0.0081 - mean_squared_error: 1.4896e-04 - val_loss: 2.4950e-05 - val_mean_absolute_error: 0.0045 - val_mean_squared_error: 4.9900e-05\n",
      "\n",
      "Epoch 00020: val_loss did not improve from 0.00001\n"
     ]
    }
   ],
   "source": [
    "# some tensorflow callbacks\n",
    "checkpointer = ModelCheckpoint(os.path.join(MY_PATH + \"results\", model_name + \".h5\"), save_weights_only=True, save_best_only=True, verbose=1)\n",
    "tensorboard = TensorBoard(log_dir=os.path.join(MY_PATH + \"logs\", model_name))\n",
    "# train the model and save the weights whenever we see \n",
    "# a new optimal model using ModelCheckpoint\n",
    "history = model.fit(data[\"X_train\"], data[\"y_train\"],\n",
    "                    batch_size=BATCH_SIZE,\n",
    "                    epochs=EPOCHS,\n",
    "                    validation_data=(data[\"X_test\"], data[\"y_test\"]),\n",
    "                    callbacks=[checkpointer, tensorboard],\n",
    "                    verbose=1)"
   ]
  },
  {
   "cell_type": "code",
   "execution_count": 154,
   "metadata": {
    "id": "XUcAu3lyoW34"
   },
   "outputs": [],
   "source": [
    "import matplotlib.pyplot as plt\n",
    "\n",
    "def plot_graph(test_df):\n",
    "    \"\"\"\n",
    "    This function plots true close price along with predicted close price\n",
    "    with blue and red colors respectively\n",
    "    \"\"\"\n",
    "    plt.plot(test_df[f'true_close_{LOOKUP_STEP}'], c='b')\n",
    "    plt.plot(test_df[f'close_{LOOKUP_STEP}'], c='r')\n",
    "    plt.xlabel(\"Periods\")\n",
    "    plt.ylabel(\"Price\")\n",
    "    plt.legend([\"Actual Price\", \"Predicted Price\"])\n",
    "    plt.show()"
   ]
  },
  {
   "cell_type": "code",
   "execution_count": 15,
   "metadata": {
    "id": "dYsbGkJCoW6y"
   },
   "outputs": [],
   "source": [
    "def get_final_df(model, data):\n",
    "    \"\"\"\n",
    "    This function takes the `model` and `data` dict to \n",
    "    construct a final dataframe that includes the features along \n",
    "    with true and predicted prices of the testing dataset\n",
    "    \"\"\"\n",
    "    # if predicted future price is higher than the current, \n",
    "    # then calculate the true future price minus the current price, to get the buy profit\n",
    "    buy_profit  = lambda current, pred_future, true_future: true_future - current if pred_future > current else 0\n",
    "    # if the predicted future price is lower than the current price,\n",
    "    # then subtract the true future price from the current price\n",
    "    sell_profit = lambda current, pred_future, true_future: current - true_future if pred_future < current else 0\n",
    "    \n",
    "    buy_profit_percent  = lambda current, pred_future, true_future: (true_future - current) / current if pred_future > current else 0\n",
    "    sell_profit_percent = lambda current, pred_future, true_future: (current - true_future) / current if pred_future < current else 0\n",
    "    #buy_profit_percent  = lambda current, pred_future, true_future: (true_future - current) / current if (pred_future - current)/current > 0.002 else 0\n",
    "    #sell_profit_percent = lambda current, pred_future, true_future: (current - true_future) / current if (pred_future - current)/current < -0.002 else 0\n",
    "    \n",
    "    X_test = data[\"X_test\"]\n",
    "    y_test = data[\"y_test\"]\n",
    "    # perform prediction and get prices\n",
    "    y_pred = model.predict(X_test)\n",
    "    if SCALE:\n",
    "        y_test = np.squeeze(data[\"column_scaler\"][\"close\"].inverse_transform(np.expand_dims(y_test, axis=0)))\n",
    "        y_pred = np.squeeze(data[\"column_scaler\"][\"close\"].inverse_transform(y_pred))\n",
    "    test_df = data[\"test_df\"]\n",
    "    # add predicted future prices to the dataframe\n",
    "    test_df[f\"close_{LOOKUP_STEP}\"] = y_pred\n",
    "    # add true future prices to the dataframe\n",
    "    test_df[f\"true_close_{LOOKUP_STEP}\"] = y_test\n",
    "    # sort the dataframe by date\n",
    "    test_df.sort_index(inplace=True)\n",
    "    final_df = test_df\n",
    "    # add the buy profit column\n",
    "    final_df[\"buy_profit\"] = list(map(buy_profit, \n",
    "                                    final_df[\"close\"], \n",
    "                                    final_df[f\"close_{LOOKUP_STEP}\"], \n",
    "                                    final_df[f\"true_close_{LOOKUP_STEP}\"])\n",
    "                                    # since we don't have profit for last sequence, add 0's\n",
    "                                    )\n",
    "    # add the sell profit column\n",
    "    final_df[\"sell_profit\"] = list(map(sell_profit, \n",
    "                                    final_df[\"close\"], \n",
    "                                    final_df[f\"close_{LOOKUP_STEP}\"], \n",
    "                                    final_df[f\"true_close_{LOOKUP_STEP}\"])\n",
    "                                    # since we don't have profit for last sequence, add 0's\n",
    "                                    )\n",
    "    # add the buy profit column\n",
    "    final_df[\"buy_profit_percent\"] = list(map(buy_profit_percent, \n",
    "                                    final_df[\"close\"], \n",
    "                                    final_df[f\"close_{LOOKUP_STEP}\"], \n",
    "                                    final_df[f\"true_close_{LOOKUP_STEP}\"])\n",
    "                                    # since we don't have profit for last sequence, add 0's\n",
    "                                    )\n",
    "    # add the sell profit column\n",
    "    final_df[\"sell_profit_percent\"] = list(map(sell_profit_percent, \n",
    "                                    final_df[\"close\"], \n",
    "                                    final_df[f\"close_{LOOKUP_STEP}\"], \n",
    "                                    final_df[f\"true_close_{LOOKUP_STEP}\"])\n",
    "                                    # since we don't have profit for last sequence, add 0's\n",
    "                                    )\n",
    "    return final_df"
   ]
  },
  {
   "cell_type": "code",
   "execution_count": 16,
   "metadata": {
    "id": "9z_wgYFCoW91"
   },
   "outputs": [],
   "source": [
    "def predict(model, data):\n",
    "    # retrieve the last sequence from data\n",
    "    last_sequence = data[\"last_sequence\"][-N_STEPS:]\n",
    "    print(f'shape:     {last_sequence.shape}')\n",
    "    # expand dimension\n",
    "    last_sequence = np.expand_dims(last_sequence, axis=0)\n",
    "    # get the prediction (scaled from 0 to 1)\n",
    "    prediction = model.predict(last_sequence)\n",
    "    # get the price (by inverting the scaling)\n",
    "    if SCALE:\n",
    "        predicted_price = data[\"column_scaler\"][\"close\"].inverse_transform(prediction)[0][0]\n",
    "    else:\n",
    "        predicted_price = prediction[0][0]\n",
    "    return predicted_price"
   ]
  },
  {
   "cell_type": "code",
   "execution_count": 17,
   "metadata": {
    "id": "ETY0XAN6TFFP"
   },
   "outputs": [],
   "source": [
    "# Specify model name from previosly trained model\n",
    "#model_name = '2021-06-06_BTC-sh-1-sc-0-sbd-0-huber_loss-adam-LSTM-seq-20-step-5-layers-2-units-256-epochs-20-batchsize-128-dropout-30.0-b'"
   ]
  },
  {
   "cell_type": "code",
   "execution_count": 18,
   "metadata": {
    "id": "rtz4vf2KoXBU"
   },
   "outputs": [],
   "source": [
    "# load optimal model weights from results folder\n",
    "model_path = os.path.join(MY_PATH + \"results\", model_name) + \".h5\"\n",
    "model.load_weights(model_path)"
   ]
  },
  {
   "cell_type": "code",
   "execution_count": 19,
   "metadata": {
    "id": "8E2jsgXvofWH"
   },
   "outputs": [],
   "source": [
    "# evaluate the model\n",
    "loss, mae, mse = model.evaluate(data[\"X_test\"], data[\"y_test\"], verbose=0)\n",
    "# calculate the mean absolute error (inverse scaling)\n",
    "if SCALE:\n",
    "    mean_absolute_error = data[\"column_scaler\"][\"close\"].inverse_transform([[mae]])[0][0]\n",
    "    mean_standard_error = data[\"column_scaler\"][\"close\"].inverse_transform([[mse]])[0][0]\n",
    "else:\n",
    "    mean_absolute_error = mae\n",
    "    mean_standard_error = mse"
   ]
  },
  {
   "cell_type": "code",
   "execution_count": 20,
   "metadata": {
    "id": "o0hIIn2eofZT"
   },
   "outputs": [],
   "source": [
    "# get the final dataframe for the testing set\n",
    "final_df = get_final_df(model, data)"
   ]
  },
  {
   "cell_type": "code",
   "execution_count": 21,
   "metadata": {
    "colab": {
     "base_uri": "https://localhost:8080/"
    },
    "id": "hTxssSuJofcf",
    "outputId": "a9009b5f-ca83-4c61-87ab-aac887542d3c"
   },
   "outputs": [
    {
     "name": "stdout",
     "output_type": "stream",
     "text": [
      "shape:     (20, 1)\n"
     ]
    }
   ],
   "source": [
    "# predict the future price\n",
    "future_price = predict(model, data)"
   ]
  },
  {
   "cell_type": "code",
   "execution_count": 22,
   "metadata": {
    "id": "SiqOEv22offv"
   },
   "outputs": [],
   "source": [
    "# we calculate the accuracy by counting the number of positive profits\n",
    "accuracy_score = (len(final_df[final_df['sell_profit'] > 0]) + len(final_df[final_df['buy_profit'] > 0])) / len(final_df)\n",
    "percent_buys = (len(final_df[final_df['buy_profit'] > 0]) + len(final_df[final_df['buy_profit'] < 0])) / len(final_df)\n",
    "percent_sells = (len(final_df[final_df['sell_profit'] > 0]) + len(final_df[final_df['sell_profit'] < 0])) / len(final_df)\n",
    "# calculating total buy & sell profit\n",
    "total_buy_profit  = final_df[\"buy_profit\"].sum()\n",
    "total_sell_profit = final_df[\"sell_profit\"].sum()\n",
    "total_buy_profit_percent  = final_df[\"buy_profit_percent\"].sum()\n",
    "total_sell_profit_percent = final_df[\"sell_profit_percent\"].sum()\n",
    "# total profit by adding sell & buy together\n",
    "total_profit = total_buy_profit + total_sell_profit\n",
    "total_profit_percent = total_buy_profit_percent + total_sell_profit_percent\n",
    "# dividing total profit by number of testing samples (number of trades)\n",
    "profit_per_trade = total_profit / len(final_df)\n",
    "profit_per_trade_percent = total_profit_percent / len(final_df)\n",
    "num_trades = len(final_df)\n",
    "percent_profitable_buys = len(final_df[final_df['buy_profit'] > 0]) / (len(final_df[final_df['buy_profit'] > 0]) + len(final_df[final_df['buy_profit'] < 0]))\n",
    "percent_profitable_sells = len(final_df[final_df['sell_profit'] > 0]) / (len(final_df[final_df['sell_profit'] > 0]) + len(final_df[final_df['sell_profit'] < 0]))"
   ]
  },
  {
   "cell_type": "code",
   "execution_count": 23,
   "metadata": {
    "colab": {
     "base_uri": "https://localhost:8080/"
    },
    "id": "Wkl0OGHRofjH",
    "outputId": "a1704223-02d8-44ab-9a99-e720c39254da"
   },
   "outputs": [
    {
     "name": "stdout",
     "output_type": "stream",
     "text": [
      "Future price after 5 time periods is 13738.33$\n",
      "huber_loss loss: 7.489536073990166e-06\n",
      "Mean Squared Error: 2817.2540\n",
      "Accuracy score: 0.5104\n",
      "Percent of buys: 0.6305\n",
      "Percent of sells: 0.3066\n",
      "Total buy profit: 32914.2300\n",
      "Total sell profit: 24505.7300\n",
      "Percent profitable buys: 0.5445\n",
      "Percent profitable sells: 0.5451\n",
      "Total buy profit %: 8.2532\n",
      "Total sell profit %: 6.4522\n",
      "Total profit: 57419.9600\n",
      "Total profit %: 14.7054\n",
      "Profit per trade: 1.4609\n",
      "Profit per trade %: 0.0004\n",
      "Possible Number of trades: 39305\n",
      "Number of trades: 36834.0000\n",
      "Steps: 20  Lookup Steps: 5   Testsize: 0.2   Layers: 2\n",
      "Epochs: 20   Batchsize: 128  Bidirectional: True\n",
      "Filename: archive/BTCUSDT_2017.csv\n",
      "Model Name: 2021-08-07_BTC-sh-1-sc-1-sbd-0-huber_loss-adam-LSTM-seq-20-step-5-layers-2-units-128-epochs-20-batchsize-128-dropout-30-b\n",
      "\n",
      "BUYING End Money: 275827.84     Max Money: 525293.57     Min Money: 95.84\n",
      "SHORTING End Money: 51884.49     Max Money: 133603.05     Min Money: 98.63\n"
     ]
    }
   ],
   "source": [
    "# printing metrics\n",
    "print(f\"Future price after {LOOKUP_STEP} time periods is {future_price:.2f}$\")\n",
    "print(f\"{LOSS} loss: {loss}\")\n",
    "#print(f\"Mean Absolute Error:\", mean_absolute_error)\n",
    "print(f\"Mean Squared Error: {mean_standard_error:.4f}\")\n",
    "print(f\"Accuracy score: {accuracy_score:.4f}\")\n",
    "print(f\"Percent of buys: {percent_buys:.4f}\")\n",
    "print(f\"Percent of sells: {percent_sells:.4f}\")\n",
    "print(f\"Total buy profit: {total_buy_profit:.4f}\")\n",
    "print(f\"Total sell profit: {total_sell_profit:.4f}\")\n",
    "print(f\"Percent profitable buys: {percent_profitable_buys:.4f}\")\n",
    "print(f\"Percent profitable sells: {percent_profitable_sells:.4f}\")\n",
    "print(f\"Total buy profit %: {total_buy_profit_percent:.4f}\")\n",
    "print(f\"Total sell profit %: {total_sell_profit_percent:.4f}\")\n",
    "print(f\"Total profit: {total_profit:.4f}\")\n",
    "print(f\"Total profit %: {total_profit_percent:.4f}\")\n",
    "print(f\"Profit per trade: {profit_per_trade:.4f}\")\n",
    "print(f\"Profit per trade %: {profit_per_trade_percent:.4f}\")\n",
    "print(f\"Possible Number of trades: {num_trades}\")\n",
    "print(f\"Number of trades: {(percent_buys + percent_sells) * num_trades:.4f}\")\n",
    "print(f\"Steps: {N_STEPS}  Lookup Steps: {LOOKUP_STEP}   Testsize: {TEST_SIZE}   Layers: {N_LAYERS}\")\n",
    "print(f\"Epochs: {EPOCHS}   Batchsize: {BATCH_SIZE}  Bidirectional: {BIDIRECTIONAL}\")\n",
    "print(f\"Filename: {FILE_NAME}\")\n",
    "print(f\"Model Name: {model_name}\")\n",
    "print()\n",
    "\n",
    "money = 100\n",
    "max_money = 100\n",
    "min_money = 100\n",
    "\n",
    "for i in final_df.buy_profit_percent:\n",
    "    money = money * (1 + i)\n",
    "    if money > max_money:\n",
    "        max_money = money\n",
    "    elif money < min_money:\n",
    "        min_money = money\n",
    "print(f\"BUYING End Money: {money:.2f}     Max Money: {max_money:0.2f}     Min Money: {min_money:0.2f}\")\n",
    "\n",
    "money = 100\n",
    "max_money = 100\n",
    "min_money = 100\n",
    "\n",
    "for i in final_df.sell_profit_percent:\n",
    "    money = money * (1 + i)\n",
    "    if money > max_money:\n",
    "        max_money = money\n",
    "    elif money < min_money:\n",
    "        min_money = money\n",
    "print(f\"SHORTING End Money: {money:.2f}     Max Money: {max_money:0.2f}     Min Money: {min_money:0.2f}\")"
   ]
  },
  {
   "cell_type": "code",
   "execution_count": 160,
   "metadata": {
    "colab": {
     "base_uri": "https://localhost:8080/",
     "height": 279
    },
    "id": "XotkHIa4omWj",
    "outputId": "4b23a27b-318a-497a-912d-0c263fccb3b4"
   },
   "outputs": [
    {
     "data": {
      "image/png": "[encoded data removed]",
      "text/plain": [
       "<Figure size 432x288 with 1 Axes>"
      ]
     },
     "metadata": {
      "needs_background": "light"
     },
     "output_type": "display_data"
    }
   ],
   "source": [
    "# plot true/pred prices graph\n",
    "plot_graph(final_df)"
   ]
  },
  {
   "cell_type": "code",
   "execution_count": 25,
   "metadata": {
    "colab": {
     "base_uri": "https://localhost:8080/",
     "height": 359
    },
    "id": "DOgDsuUyomaB",
    "outputId": "c1b0512c-6428-456e-a1ff-949a5e9c8984"
   },
   "outputs": [
    {
     "data": {
      "text/html": [
       "<div>\n",
       "<style scoped>\n",
       "    .dataframe tbody tr th:only-of-type {\n",
       "        vertical-align: middle;\n",
       "    }\n",
       "\n",
       "    .dataframe tbody tr th {\n",
       "        vertical-align: top;\n",
       "    }\n",
       "\n",
       "    .dataframe thead th {\n",
       "        text-align: right;\n",
       "    }\n",
       "</style>\n",
       "<table border=\"1\" class=\"dataframe\">\n",
       "  <thead>\n",
       "    <tr style=\"text-align: right;\">\n",
       "      <th></th>\n",
       "      <th>date</th>\n",
       "      <th>low</th>\n",
       "      <th>high</th>\n",
       "      <th>open</th>\n",
       "      <th>close</th>\n",
       "      <th>volume</th>\n",
       "      <th>close_5</th>\n",
       "      <th>true_close_5</th>\n",
       "      <th>buy_profit</th>\n",
       "      <th>sell_profit</th>\n",
       "      <th>buy_profit_percent</th>\n",
       "      <th>sell_profit_percent</th>\n",
       "    </tr>\n",
       "  </thead>\n",
       "  <tbody>\n",
       "    <tr>\n",
       "      <th>22.0</th>\n",
       "      <td>1502943720</td>\n",
       "      <td>4266.29</td>\n",
       "      <td>4266.29</td>\n",
       "      <td>4266.29</td>\n",
       "      <td>4266.29</td>\n",
       "      <td>0.000000</td>\n",
       "      <td>4274.463867</td>\n",
       "      <td>4266.29</td>\n",
       "      <td>0.00</td>\n",
       "      <td>0.00</td>\n",
       "      <td>0.000000</td>\n",
       "      <td>0.000000</td>\n",
       "    </tr>\n",
       "    <tr>\n",
       "      <th>32.0</th>\n",
       "      <td>1502944320</td>\n",
       "      <td>4274.67</td>\n",
       "      <td>4274.67</td>\n",
       "      <td>4274.67</td>\n",
       "      <td>4274.67</td>\n",
       "      <td>0.702048</td>\n",
       "      <td>4278.447754</td>\n",
       "      <td>4300.38</td>\n",
       "      <td>25.71</td>\n",
       "      <td>0.00</td>\n",
       "      <td>0.006014</td>\n",
       "      <td>0.000000</td>\n",
       "    </tr>\n",
       "    <tr>\n",
       "      <th>34.0</th>\n",
       "      <td>1502944440</td>\n",
       "      <td>4296.63</td>\n",
       "      <td>4296.63</td>\n",
       "      <td>4296.63</td>\n",
       "      <td>4296.63</td>\n",
       "      <td>0.952506</td>\n",
       "      <td>4281.891602</td>\n",
       "      <td>4300.38</td>\n",
       "      <td>0.00</td>\n",
       "      <td>-3.75</td>\n",
       "      <td>0.000000</td>\n",
       "      <td>-0.000873</td>\n",
       "    </tr>\n",
       "    <tr>\n",
       "      <th>47.0</th>\n",
       "      <td>1502945220</td>\n",
       "      <td>4310.07</td>\n",
       "      <td>4310.07</td>\n",
       "      <td>4310.07</td>\n",
       "      <td>4310.07</td>\n",
       "      <td>0.292919</td>\n",
       "      <td>4302.624023</td>\n",
       "      <td>4313.60</td>\n",
       "      <td>0.00</td>\n",
       "      <td>-3.53</td>\n",
       "      <td>0.000000</td>\n",
       "      <td>-0.000819</td>\n",
       "    </tr>\n",
       "    <tr>\n",
       "      <th>53.0</th>\n",
       "      <td>1502945580</td>\n",
       "      <td>4313.60</td>\n",
       "      <td>4313.61</td>\n",
       "      <td>4313.61</td>\n",
       "      <td>4313.60</td>\n",
       "      <td>0.563374</td>\n",
       "      <td>4316.384277</td>\n",
       "      <td>4308.83</td>\n",
       "      <td>-4.77</td>\n",
       "      <td>0.00</td>\n",
       "      <td>-0.001106</td>\n",
       "      <td>0.000000</td>\n",
       "    </tr>\n",
       "    <tr>\n",
       "      <th>64.0</th>\n",
       "      <td>1502946240</td>\n",
       "      <td>4304.31</td>\n",
       "      <td>4308.83</td>\n",
       "      <td>4308.83</td>\n",
       "      <td>4304.31</td>\n",
       "      <td>0.129580</td>\n",
       "      <td>4319.157227</td>\n",
       "      <td>4328.69</td>\n",
       "      <td>24.38</td>\n",
       "      <td>0.00</td>\n",
       "      <td>0.005664</td>\n",
       "      <td>0.000000</td>\n",
       "    </tr>\n",
       "    <tr>\n",
       "      <th>66.0</th>\n",
       "      <td>1502946360</td>\n",
       "      <td>4328.69</td>\n",
       "      <td>4328.69</td>\n",
       "      <td>4328.69</td>\n",
       "      <td>4328.69</td>\n",
       "      <td>0.512132</td>\n",
       "      <td>4323.551758</td>\n",
       "      <td>4328.69</td>\n",
       "      <td>0.00</td>\n",
       "      <td>0.00</td>\n",
       "      <td>0.000000</td>\n",
       "      <td>0.000000</td>\n",
       "    </tr>\n",
       "    <tr>\n",
       "      <th>69.0</th>\n",
       "      <td>1502946540</td>\n",
       "      <td>4328.69</td>\n",
       "      <td>4328.69</td>\n",
       "      <td>4328.69</td>\n",
       "      <td>4328.69</td>\n",
       "      <td>0.010853</td>\n",
       "      <td>4330.672852</td>\n",
       "      <td>4304.31</td>\n",
       "      <td>-24.38</td>\n",
       "      <td>0.00</td>\n",
       "      <td>-0.005632</td>\n",
       "      <td>0.000000</td>\n",
       "    </tr>\n",
       "    <tr>\n",
       "      <th>76.0</th>\n",
       "      <td>1502946960</td>\n",
       "      <td>4312.14</td>\n",
       "      <td>4319.99</td>\n",
       "      <td>4312.14</td>\n",
       "      <td>4319.99</td>\n",
       "      <td>4.193217</td>\n",
       "      <td>4323.076172</td>\n",
       "      <td>4320.00</td>\n",
       "      <td>0.01</td>\n",
       "      <td>0.00</td>\n",
       "      <td>0.000002</td>\n",
       "      <td>0.000000</td>\n",
       "    </tr>\n",
       "    <tr>\n",
       "      <th>79.0</th>\n",
       "      <td>1502947140</td>\n",
       "      <td>4320.00</td>\n",
       "      <td>4320.00</td>\n",
       "      <td>4320.00</td>\n",
       "      <td>4320.00</td>\n",
       "      <td>0.544539</td>\n",
       "      <td>4325.269043</td>\n",
       "      <td>4320.00</td>\n",
       "      <td>0.00</td>\n",
       "      <td>0.00</td>\n",
       "      <td>0.000000</td>\n",
       "      <td>0.000000</td>\n",
       "    </tr>\n",
       "  </tbody>\n",
       "</table>\n",
       "</div>"
      ],
      "text/plain": [
       "            date      low     high     open    close    volume      close_5  \\\n",
       "22.0  1502943720  4266.29  4266.29  4266.29  4266.29  0.000000  4274.463867   \n",
       "32.0  1502944320  4274.67  4274.67  4274.67  4274.67  0.702048  4278.447754   \n",
       "34.0  1502944440  4296.63  4296.63  4296.63  4296.63  0.952506  4281.891602   \n",
       "47.0  1502945220  4310.07  4310.07  4310.07  4310.07  0.292919  4302.624023   \n",
       "53.0  1502945580  4313.60  4313.61  4313.61  4313.60  0.563374  4316.384277   \n",
       "64.0  1502946240  4304.31  4308.83  4308.83  4304.31  0.129580  4319.157227   \n",
       "66.0  1502946360  4328.69  4328.69  4328.69  4328.69  0.512132  4323.551758   \n",
       "69.0  1502946540  4328.69  4328.69  4328.69  4328.69  0.010853  4330.672852   \n",
       "76.0  1502946960  4312.14  4319.99  4312.14  4319.99  4.193217  4323.076172   \n",
       "79.0  1502947140  4320.00  4320.00  4320.00  4320.00  0.544539  4325.269043   \n",
       "\n",
       "      true_close_5  buy_profit  sell_profit  buy_profit_percent  \\\n",
       "22.0       4266.29        0.00         0.00            0.000000   \n",
       "32.0       4300.38       25.71         0.00            0.006014   \n",
       "34.0       4300.38        0.00        -3.75            0.000000   \n",
       "47.0       4313.60        0.00        -3.53            0.000000   \n",
       "53.0       4308.83       -4.77         0.00           -0.001106   \n",
       "64.0       4328.69       24.38         0.00            0.005664   \n",
       "66.0       4328.69        0.00         0.00            0.000000   \n",
       "69.0       4304.31      -24.38         0.00           -0.005632   \n",
       "76.0       4320.00        0.01         0.00            0.000002   \n",
       "79.0       4320.00        0.00         0.00            0.000000   \n",
       "\n",
       "      sell_profit_percent  \n",
       "22.0             0.000000  \n",
       "32.0             0.000000  \n",
       "34.0            -0.000873  \n",
       "47.0            -0.000819  \n",
       "53.0             0.000000  \n",
       "64.0             0.000000  \n",
       "66.0             0.000000  \n",
       "69.0             0.000000  \n",
       "76.0             0.000000  \n",
       "79.0             0.000000  "
      ]
     },
     "execution_count": 25,
     "metadata": {},
     "output_type": "execute_result"
    }
   ],
   "source": [
    "final_df.head(10)"
   ]
  },
  {
   "cell_type": "code",
   "execution_count": 26,
   "metadata": {
    "colab": {
     "base_uri": "https://localhost:8080/",
     "height": 359
    },
    "id": "23W6ALtaomdS",
    "outputId": "6e068691-6b6b-4dc3-d8aa-1c30a8d802d0"
   },
   "outputs": [
    {
     "data": {
      "text/html": [
       "<div>\n",
       "<style scoped>\n",
       "    .dataframe tbody tr th:only-of-type {\n",
       "        vertical-align: middle;\n",
       "    }\n",
       "\n",
       "    .dataframe tbody tr th {\n",
       "        vertical-align: top;\n",
       "    }\n",
       "\n",
       "    .dataframe thead th {\n",
       "        text-align: right;\n",
       "    }\n",
       "</style>\n",
       "<table border=\"1\" class=\"dataframe\">\n",
       "  <thead>\n",
       "    <tr style=\"text-align: right;\">\n",
       "      <th></th>\n",
       "      <th>date</th>\n",
       "      <th>low</th>\n",
       "      <th>high</th>\n",
       "      <th>open</th>\n",
       "      <th>close</th>\n",
       "      <th>volume</th>\n",
       "      <th>close_5</th>\n",
       "      <th>true_close_5</th>\n",
       "      <th>buy_profit</th>\n",
       "      <th>sell_profit</th>\n",
       "      <th>buy_profit_percent</th>\n",
       "      <th>sell_profit_percent</th>\n",
       "    </tr>\n",
       "  </thead>\n",
       "  <tbody>\n",
       "    <tr>\n",
       "      <th>196489.0</th>\n",
       "      <td>1514761380</td>\n",
       "      <td>13799.98</td>\n",
       "      <td>13799.98</td>\n",
       "      <td>13777.59</td>\n",
       "      <td>13788.83</td>\n",
       "      <td>4.496518</td>\n",
       "      <td>13835.291992</td>\n",
       "      <td>13766.80</td>\n",
       "      <td>-22.03</td>\n",
       "      <td>0.00</td>\n",
       "      <td>-0.001598</td>\n",
       "      <td>0.000000</td>\n",
       "    </tr>\n",
       "    <tr>\n",
       "      <th>196498.0</th>\n",
       "      <td>1514761920</td>\n",
       "      <td>13737.79</td>\n",
       "      <td>13758.81</td>\n",
       "      <td>13706.68</td>\n",
       "      <td>13750.00</td>\n",
       "      <td>3.537241</td>\n",
       "      <td>13775.961914</td>\n",
       "      <td>13699.00</td>\n",
       "      <td>-51.00</td>\n",
       "      <td>0.00</td>\n",
       "      <td>-0.003709</td>\n",
       "      <td>0.000000</td>\n",
       "    </tr>\n",
       "    <tr>\n",
       "      <th>196503.0</th>\n",
       "      <td>1514762220</td>\n",
       "      <td>13685.77</td>\n",
       "      <td>13700.00</td>\n",
       "      <td>13666.02</td>\n",
       "      <td>13699.00</td>\n",
       "      <td>8.557351</td>\n",
       "      <td>13748.866211</td>\n",
       "      <td>13715.40</td>\n",
       "      <td>16.40</td>\n",
       "      <td>0.00</td>\n",
       "      <td>0.001197</td>\n",
       "      <td>0.000000</td>\n",
       "    </tr>\n",
       "    <tr>\n",
       "      <th>196506.0</th>\n",
       "      <td>1514762400</td>\n",
       "      <td>13664.74</td>\n",
       "      <td>13689.00</td>\n",
       "      <td>13653.26</td>\n",
       "      <td>13688.03</td>\n",
       "      <td>7.679417</td>\n",
       "      <td>13719.727539</td>\n",
       "      <td>13698.64</td>\n",
       "      <td>10.61</td>\n",
       "      <td>0.00</td>\n",
       "      <td>0.000775</td>\n",
       "      <td>0.000000</td>\n",
       "    </tr>\n",
       "    <tr>\n",
       "      <th>196508.0</th>\n",
       "      <td>1514762520</td>\n",
       "      <td>13706.68</td>\n",
       "      <td>13720.00</td>\n",
       "      <td>13672.75</td>\n",
       "      <td>13715.40</td>\n",
       "      <td>3.514558</td>\n",
       "      <td>13718.812500</td>\n",
       "      <td>13709.97</td>\n",
       "      <td>-5.43</td>\n",
       "      <td>0.00</td>\n",
       "      <td>-0.000396</td>\n",
       "      <td>0.000000</td>\n",
       "    </tr>\n",
       "    <tr>\n",
       "      <th>196519.0</th>\n",
       "      <td>1514763180</td>\n",
       "      <td>13799.99</td>\n",
       "      <td>13818.64</td>\n",
       "      <td>13754.25</td>\n",
       "      <td>13786.73</td>\n",
       "      <td>5.604075</td>\n",
       "      <td>13730.571289</td>\n",
       "      <td>13788.00</td>\n",
       "      <td>0.00</td>\n",
       "      <td>-1.27</td>\n",
       "      <td>0.000000</td>\n",
       "      <td>-0.000092</td>\n",
       "    </tr>\n",
       "    <tr>\n",
       "      <th>196521.0</th>\n",
       "      <td>1514763300</td>\n",
       "      <td>13799.97</td>\n",
       "      <td>13799.99</td>\n",
       "      <td>13732.81</td>\n",
       "      <td>13785.98</td>\n",
       "      <td>5.519148</td>\n",
       "      <td>13740.994141</td>\n",
       "      <td>13801.00</td>\n",
       "      <td>0.00</td>\n",
       "      <td>-15.02</td>\n",
       "      <td>0.000000</td>\n",
       "      <td>-0.001090</td>\n",
       "    </tr>\n",
       "    <tr>\n",
       "      <th>196528.0</th>\n",
       "      <td>1514763720</td>\n",
       "      <td>13778.72</td>\n",
       "      <td>13791.28</td>\n",
       "      <td>13732.89</td>\n",
       "      <td>13759.82</td>\n",
       "      <td>4.113854</td>\n",
       "      <td>13754.603516</td>\n",
       "      <td>13742.99</td>\n",
       "      <td>0.00</td>\n",
       "      <td>16.83</td>\n",
       "      <td>0.000000</td>\n",
       "      <td>0.001223</td>\n",
       "    </tr>\n",
       "    <tr>\n",
       "      <th>196533.0</th>\n",
       "      <td>1514764020</td>\n",
       "      <td>13745.00</td>\n",
       "      <td>13745.00</td>\n",
       "      <td>13706.17</td>\n",
       "      <td>13742.99</td>\n",
       "      <td>1.573812</td>\n",
       "      <td>13745.731445</td>\n",
       "      <td>13718.60</td>\n",
       "      <td>-24.39</td>\n",
       "      <td>0.00</td>\n",
       "      <td>-0.001775</td>\n",
       "      <td>0.000000</td>\n",
       "    </tr>\n",
       "    <tr>\n",
       "      <th>196539.0</th>\n",
       "      <td>1514764380</td>\n",
       "      <td>13718.54</td>\n",
       "      <td>13718.54</td>\n",
       "      <td>13685.02</td>\n",
       "      <td>13709.08</td>\n",
       "      <td>4.819266</td>\n",
       "      <td>13744.569336</td>\n",
       "      <td>13740.96</td>\n",
       "      <td>31.88</td>\n",
       "      <td>0.00</td>\n",
       "      <td>0.002325</td>\n",
       "      <td>0.000000</td>\n",
       "    </tr>\n",
       "  </tbody>\n",
       "</table>\n",
       "</div>"
      ],
      "text/plain": [
       "                date       low      high      open     close    volume  \\\n",
       "196489.0  1514761380  13799.98  13799.98  13777.59  13788.83  4.496518   \n",
       "196498.0  1514761920  13737.79  13758.81  13706.68  13750.00  3.537241   \n",
       "196503.0  1514762220  13685.77  13700.00  13666.02  13699.00  8.557351   \n",
       "196506.0  1514762400  13664.74  13689.00  13653.26  13688.03  7.679417   \n",
       "196508.0  1514762520  13706.68  13720.00  13672.75  13715.40  3.514558   \n",
       "196519.0  1514763180  13799.99  13818.64  13754.25  13786.73  5.604075   \n",
       "196521.0  1514763300  13799.97  13799.99  13732.81  13785.98  5.519148   \n",
       "196528.0  1514763720  13778.72  13791.28  13732.89  13759.82  4.113854   \n",
       "196533.0  1514764020  13745.00  13745.00  13706.17  13742.99  1.573812   \n",
       "196539.0  1514764380  13718.54  13718.54  13685.02  13709.08  4.819266   \n",
       "\n",
       "               close_5  true_close_5  buy_profit  sell_profit  \\\n",
       "196489.0  13835.291992      13766.80      -22.03         0.00   \n",
       "196498.0  13775.961914      13699.00      -51.00         0.00   \n",
       "196503.0  13748.866211      13715.40       16.40         0.00   \n",
       "196506.0  13719.727539      13698.64       10.61         0.00   \n",
       "196508.0  13718.812500      13709.97       -5.43         0.00   \n",
       "196519.0  13730.571289      13788.00        0.00        -1.27   \n",
       "196521.0  13740.994141      13801.00        0.00       -15.02   \n",
       "196528.0  13754.603516      13742.99        0.00        16.83   \n",
       "196533.0  13745.731445      13718.60      -24.39         0.00   \n",
       "196539.0  13744.569336      13740.96       31.88         0.00   \n",
       "\n",
       "          buy_profit_percent  sell_profit_percent  \n",
       "196489.0           -0.001598             0.000000  \n",
       "196498.0           -0.003709             0.000000  \n",
       "196503.0            0.001197             0.000000  \n",
       "196506.0            0.000775             0.000000  \n",
       "196508.0           -0.000396             0.000000  \n",
       "196519.0            0.000000            -0.000092  \n",
       "196521.0            0.000000            -0.001090  \n",
       "196528.0            0.000000             0.001223  \n",
       "196533.0           -0.001775             0.000000  \n",
       "196539.0            0.002325             0.000000  "
      ]
     },
     "execution_count": 26,
     "metadata": {},
     "output_type": "execute_result"
    }
   ],
   "source": [
    "final_df.tail(10)"
   ]
  },
  {
   "cell_type": "code",
   "execution_count": 28,
   "metadata": {
    "id": "06-8duE3omgx"
   },
   "outputs": [],
   "source": [
    "# save the final dataframe to csv-results folder\n",
    "csv_results_folder = \"csv-results\"\n",
    "if not os.path.isdir(csv_results_folder):\n",
    "    os.mkdir(csv_results_folder)\n",
    "csv_filename = os.path.join(csv_results_folder, model_name + \".csv\")\n",
    "final_df.to_csv(csv_filename)"
   ]
  },
  {
   "cell_type": "code",
   "execution_count": 29,
   "metadata": {
    "id": "qC62B-e6PI8t"
   },
   "outputs": [],
   "source": [
    "#from google.colab import files"
   ]
  },
  {
   "cell_type": "code",
   "execution_count": 30,
   "metadata": {
    "id": "_ARhqZroWGTW"
   },
   "outputs": [],
   "source": [
    "#files.download(model_path)\n",
    "#files.download(csv_filename)"
   ]
  },
  {
   "cell_type": "code",
   "execution_count": 91,
   "metadata": {
    "id": "wfo2ZsbMM_HG"
   },
   "outputs": [],
   "source": [
    "FILE_NAME = 'archive/BTCUSDT_2021.csv'#'archive/ETHUSDT_2021.csv' \n",
    "TEST_SIZE = 0.9999"
   ]
  },
  {
   "cell_type": "code",
   "execution_count": 92,
   "metadata": {
    "colab": {
     "base_uri": "https://localhost:8080/"
    },
    "id": "29yYGdPyTFFV",
    "outputId": "38dc219a-0590-42f8-f6e7-f833dd49fb2f"
   },
   "outputs": [
    {
     "name": "stdout",
     "output_type": "stream",
     "text": [
      "One\n",
      "              date       low      high      open     close     volume\n",
      "0       1609459200  28913.12  28961.66  28923.63  28961.66  27.457032\n",
      "1       1609459260  28961.01  29017.50  28961.67  29009.91  58.477501\n",
      "2       1609459320  28973.58  29016.71  29009.54  28989.30  42.470329\n",
      "3       1609459380  28972.33  28999.85  28989.68  28982.69  30.360677\n",
      "4       1609459440  28971.80  28995.93  28982.67  28975.65  24.124339\n",
      "...            ...       ...       ...       ...       ...        ...\n",
      "188066  1620779100  56877.58  56952.58  56836.73  56936.72  34.775288\n",
      "188067  1620779160  56936.73  57005.57  56936.72  56985.32  36.081370\n",
      "188068  1620779220  56985.33  57009.97  56950.00  56995.56  43.744229\n",
      "188069  1620779280  56995.56  57007.94  56966.09  56980.00  38.086665\n",
      "188070  1620779340  56980.00  56998.00  56930.45  56985.68  33.428374\n",
      "\n",
      "[188071 rows x 6 columns]\n",
      "Two\n",
      "Three\n",
      "Model: \"sequential_3\"\n",
      "_________________________________________________________________\n",
      "Layer (type)                 Output Shape              Param #   \n",
      "=================================================================\n",
      "bidirectional_6 (Bidirection (None, 20, 256)           133120    \n",
      "_________________________________________________________________\n",
      "dropout_6 (Dropout)          (None, 20, 256)           0         \n",
      "_________________________________________________________________\n",
      "bidirectional_7 (Bidirection (None, 256)               394240    \n",
      "_________________________________________________________________\n",
      "dropout_7 (Dropout)          (None, 256)               0         \n",
      "_________________________________________________________________\n",
      "dense_3 (Dense)              (None, 1)                 257       \n",
      "=================================================================\n",
      "Total params: 527,617\n",
      "Trainable params: 527,617\n",
      "Non-trainable params: 0\n",
      "_________________________________________________________________\n"
     ]
    }
   ],
   "source": [
    "# create these folders if they does not exist\n",
    "if not os.path.isdir(\"results\"):\n",
    "    os.mkdir(\"results\")\n",
    "\n",
    "if not os.path.isdir(\"logs\"):\n",
    "    os.mkdir(\"logs\")\n",
    "\n",
    "if not os.path.isdir(\"data\"):\n",
    "    os.mkdir(\"data\")\n",
    "print(\"One\")\n",
    "# load the data\n",
    "data = load_data(ticker, N_STEPS, scale=SCALE, split_by_date=SPLIT_BY_DATE, \n",
    "                shuffle=SHUFFLE, lookup_step=LOOKUP_STEP, test_size=TEST_SIZE, \n",
    "                feature_columns=FEATURE_COLUMNS, multiyear=False, file_name = FILE_NAME)\n",
    "print(\"Two\")\n",
    "# save the dataframe\n",
    "data[\"df\"].to_csv(ticker_data_filename)\n",
    "print(\"Three\")\n",
    "# construct the model\n",
    "model = create_model(N_STEPS, len(FEATURE_COLUMNS), loss=LOSS, units=UNITS, cell=CELL, n_layers=N_LAYERS,\n",
    "                    dropout=DROPOUT, optimizer=OPTIMIZER, bidirectional=BIDIRECTIONAL)\n",
    "\n",
    "model.summary()"
   ]
  },
  {
   "cell_type": "code",
   "execution_count": 93,
   "metadata": {
    "colab": {
     "base_uri": "https://localhost:8080/"
    },
    "id": "lJR26REHTFFV",
    "outputId": "0d801469-b959-449f-9fbe-cb2c74eed021"
   },
   "outputs": [
    {
     "name": "stdout",
     "output_type": "stream",
     "text": [
      "shape:     (20, 1)\n"
     ]
    }
   ],
   "source": [
    "# load optimal model weights from results folder\n",
    "#model_path = \"results/2021-06-21_BTC-sh-1-sc-1-sbd-0-huber_loss-adam-LSTM-seq-20-step-5-layers-2-units-256-epochs-10-batchsize-128-dropout-50-b.h5\"\n",
    "model_path = os.path.join(\"results\", model_name) + \".h5\"\n",
    "\n",
    "# put custom path for model weights here\n",
    "#model_path = \"results/2021-06-06_BTC-sh-1-sc-1-sbd-0-huber_loss-adam-LSTM-seq-20-step-5-layers-2-units-256-epochs-5-batchsize-128-dropout-30-b.h5\"\n",
    "\n",
    "model.load_weights(MY_PATH + model_path)\n",
    "\n",
    "# evaluate the model\n",
    "loss, mae, mse = model.evaluate(data[\"X_test\"], data[\"y_test\"], verbose=0)\n",
    "# calculate the mean absolute error (inverse scaling)\n",
    "if SCALE:\n",
    "    mean_absolute_error = data[\"column_scaler\"][\"close\"].inverse_transform([[mae]])[0][0]\n",
    "    mean_standard_error = data[\"column_scaler\"][\"close\"].inverse_transform([[mse]])[0][0]\n",
    "else:\n",
    "    mean_absolute_error = mae\n",
    "    mean_standard_error = mse\n",
    "    \n",
    "# get the final dataframe for the testing set\n",
    "final_df = get_final_df(model, data)\n",
    "\n",
    "# predict the future price\n",
    "future_price = predict(model, data)\n",
    "\n",
    "# we calculate the accuracy by counting the number of positive profits\n",
    "accuracy_score = (len(final_df[final_df['sell_profit'] > 0]) + len(final_df[final_df['buy_profit'] > 0])) / len(final_df)\n",
    "percent_buys = (len(final_df[final_df['buy_profit'] > 0]) + len(final_df[final_df['buy_profit'] < 0])) / len(final_df)\n",
    "percent_sells = (len(final_df[final_df['sell_profit'] > 0]) + len(final_df[final_df['sell_profit'] < 0])) / len(final_df)\n",
    "# calculating total buy & sell profit\n",
    "total_buy_profit  = final_df[\"buy_profit\"].sum()\n",
    "total_sell_profit = final_df[\"sell_profit\"].sum()\n",
    "total_buy_profit_percent  = final_df[\"buy_profit_percent\"].sum()\n",
    "total_sell_profit_percent = final_df[\"sell_profit_percent\"].sum()\n",
    "# total profit by adding sell & buy together\n",
    "total_profit = total_buy_profit + total_sell_profit\n",
    "total_profit_percent = total_buy_profit_percent + total_sell_profit_percent\n",
    "# dividing total profit by number of testing samples (number of trades)\n",
    "profit_per_trade = total_profit / len(final_df)\n",
    "profit_per_trade_percent = total_profit_percent / len(final_df)\n",
    "num_trades = len(final_df.where(final_df.close != final_df[f\"close_{LOOKUP_STEP}\"]))\n",
    "\n",
    "percent_profitable_buys = len(final_df[final_df['buy_profit'] > 0]) / (len(final_df[final_df['buy_profit'] > 0]) + len(final_df[final_df['buy_profit'] < 0]))\n",
    "percent_profitable_sells = len(final_df[final_df['sell_profit'] > 0]) / (len(final_df[final_df['sell_profit'] > 0]) + len(final_df[final_df['sell_profit'] < 0]))\n"
   ]
  },
  {
   "cell_type": "code",
   "execution_count": 94,
   "metadata": {
    "colab": {
     "base_uri": "https://localhost:8080/"
    },
    "id": "_pgbuBadTFFW",
    "outputId": "06e1e867-d42d-4f4a-ad53-5764f37d358f"
   },
   "outputs": [
    {
     "name": "stdout",
     "output_type": "stream",
     "text": [
      "Future price after 5 time periods is $56964.07\n",
      "huber_loss loss: 1.3901844795327634e-05\n",
      "Mean Squared Error: 28236.4866\n",
      "Accuracy score: 0.5253\n",
      "Percent of buys: 0.4567\n",
      "Percent of sells: 0.5428\n",
      "Total buy profit: 282842.0300\n",
      "Total sell profit: 141363.7700\n",
      "Percent profitable buys: 0.5264\n",
      "Percent profitable sells: 0.5249\n",
      "Total buy profit %: 6.1018\n",
      "Total sell profit %: 1.6649\n",
      "Total profit: 424205.8000\n",
      "Total profit %: 7.7667\n",
      "Profit per trade: 2.2561\n",
      "Profit per trade %: 0.0000\n",
      "Possible Number of trades: 188029\n",
      "Number of trades: 187920.99999999997\n",
      "Steps: 20  Lookup Steps: 5   Testsize: 0.9999   Layers: 2\n",
      "Epochs: 20   Batchsize: 128  Bidirectional: True\n",
      "Filename: archive/BTCUSDT_2021.csv\n",
      "Model Name: 2021-08-07_BTC-sh-1-sc-1-sbd-0-huber_loss-adam-LSTM-seq-20-step-5-layers-2-units-128-epochs-20-batchsize-128-dropout-30-b\n",
      "\n",
      "BUYING End Money: 25297.72     Max Money: 25297.72     Min Money: 73.55\n",
      "SHORTING End Money: 338.08     Max Money: 351.85     Min Money: 11.13\n",
      "85866 Buys     102055 Sells     373197 Passes\n"
     ]
    }
   ],
   "source": [
    "# printing metrics\n",
    "print(f\"Future price after {LOOKUP_STEP} time periods is ${future_price:.2f}\")\n",
    "print(f\"{LOSS} loss: {loss}\")\n",
    "#print(f\"Mean Absolute Error:\", mean_absolute_error)\n",
    "print(f\"Mean Squared Error: {mean_standard_error:.4f}\")\n",
    "print(f\"Accuracy score: {accuracy_score:.4f}\")\n",
    "print(f\"Percent of buys: {percent_buys:.4f}\")\n",
    "print(f\"Percent of sells: {percent_sells:.4f}\")\n",
    "print(f\"Total buy profit: {total_buy_profit:.4f}\")\n",
    "print(f\"Total sell profit: {total_sell_profit:.4f}\")\n",
    "print(f\"Percent profitable buys: {percent_profitable_buys:.4f}\")\n",
    "print(f\"Percent profitable sells: {percent_profitable_sells:.4f}\")\n",
    "print(f\"Total buy profit %: {total_buy_profit_percent:.4f}\")\n",
    "print(f\"Total sell profit %: {total_sell_profit_percent:.4f}\")\n",
    "print(f\"Total profit: {total_profit:.4f}\")\n",
    "print(f\"Total profit %: {total_profit_percent:.4f}\")\n",
    "print(f\"Profit per trade: {profit_per_trade:.4f}\")\n",
    "print(f\"Profit per trade %: {profit_per_trade_percent:.4f}\")\n",
    "print(f\"Possible Number of trades: {num_trades}\")\n",
    "print(f\"Number of trades: {(percent_buys + percent_sells) * num_trades}\")\n",
    "print(f\"Steps: {N_STEPS}  Lookup Steps: {LOOKUP_STEP}   Testsize: {TEST_SIZE}   Layers: {N_LAYERS}\")\n",
    "print(f\"Epochs: {EPOCHS}   Batchsize: {BATCH_SIZE}  Bidirectional: {BIDIRECTIONAL}\")\n",
    "print(f\"Filename: {FILE_NAME}\")\n",
    "print(f\"Model Name: {model_name}\")\n",
    "print()\n",
    "\n",
    "money = 100\n",
    "max_money = 100\n",
    "min_money = 100\n",
    "buy_count = 0\n",
    "stand_count = 0\n",
    "\n",
    "for i in final_df.buy_profit_percent:\n",
    "    if i != 0:\n",
    "        buy_count += 1\n",
    "    else:\n",
    "        stand_count += 1\n",
    "    money = money * (1 + i)\n",
    "    if money > max_money:\n",
    "        max_money = money\n",
    "    elif money < min_money:\n",
    "        min_money = money\n",
    "    else:\n",
    "        stand_count += 1\n",
    "print(f\"BUYING End Money: {money:.2f}     Max Money: {max_money:0.2f}     Min Money: {min_money:0.2f}\")\n",
    "\n",
    "money = 100\n",
    "max_money = 100\n",
    "min_money = 100\n",
    "sell_count = 0\n",
    "\n",
    "for i in final_df.sell_profit_percent:\n",
    "    if i != 0:\n",
    "        sell_count += 1\n",
    "    else:\n",
    "        stand_count += 1\n",
    "    money = money * (1 + i)\n",
    "    if money > max_money:\n",
    "        max_money = money\n",
    "    elif money < min_money:\n",
    "        min_money = money\n",
    "print(f\"SHORTING End Money: {money:.2f}     Max Money: {max_money:0.2f}     Min Money: {min_money:0.2f}\")\n",
    "\n",
    "print(f\"{buy_count} Buys     {sell_count} Sells     {stand_count} Passes\")"
   ]
  },
  {
   "cell_type": "code",
   "execution_count": 95,
   "metadata": {
    "colab": {
     "base_uri": "https://localhost:8080/",
     "height": 279
    },
    "id": "13TWaANlTFFW",
    "outputId": "f8a534d6-f297-4def-ce8e-7f81b8268585"
   },
   "outputs": [
    {
     "data": {
      "image/png": "[encoded data removed]",
      "text/plain": [
       "<Figure size 432x288 with 1 Axes>"
      ]
     },
     "metadata": {
      "needs_background": "light"
     },
     "output_type": "display_data"
    }
   ],
   "source": [
    "# plot true/pred prices graph\n",
    "plot_graph(final_df)"
   ]
  },
  {
   "cell_type": "code",
   "execution_count": 96,
   "metadata": {
    "colab": {
     "base_uri": "https://localhost:8080/",
     "height": 204
    },
    "id": "EniZSzCrTFFW",
    "outputId": "54514259-3604-4de6-f1c8-1b78d5926e60"
   },
   "outputs": [
    {
     "data": {
      "text/html": [
       "<div>\n",
       "<style scoped>\n",
       "    .dataframe tbody tr th:only-of-type {\n",
       "        vertical-align: middle;\n",
       "    }\n",
       "\n",
       "    .dataframe tbody tr th {\n",
       "        vertical-align: top;\n",
       "    }\n",
       "\n",
       "    .dataframe thead th {\n",
       "        text-align: right;\n",
       "    }\n",
       "</style>\n",
       "<table border=\"1\" class=\"dataframe\">\n",
       "  <thead>\n",
       "    <tr style=\"text-align: right;\">\n",
       "      <th></th>\n",
       "      <th>date</th>\n",
       "      <th>low</th>\n",
       "      <th>high</th>\n",
       "      <th>open</th>\n",
       "      <th>close</th>\n",
       "      <th>volume</th>\n",
       "      <th>close_5</th>\n",
       "      <th>true_close_5</th>\n",
       "      <th>buy_profit</th>\n",
       "      <th>sell_profit</th>\n",
       "      <th>buy_profit_percent</th>\n",
       "      <th>sell_profit_percent</th>\n",
       "    </tr>\n",
       "  </thead>\n",
       "  <tbody>\n",
       "    <tr>\n",
       "      <th>19.0</th>\n",
       "      <td>1609460340</td>\n",
       "      <td>28820.72</td>\n",
       "      <td>28852.48</td>\n",
       "      <td>28823.21</td>\n",
       "      <td>28820.72</td>\n",
       "      <td>35.359406</td>\n",
       "      <td>28904.908203</td>\n",
       "      <td>28846.46</td>\n",
       "      <td>25.74</td>\n",
       "      <td>0.0</td>\n",
       "      <td>0.000893</td>\n",
       "      <td>0.0</td>\n",
       "    </tr>\n",
       "    <tr>\n",
       "      <th>20.0</th>\n",
       "      <td>1609460400</td>\n",
       "      <td>28751.58</td>\n",
       "      <td>28822.17</td>\n",
       "      <td>28822.17</td>\n",
       "      <td>28759.35</td>\n",
       "      <td>35.799104</td>\n",
       "      <td>28902.384766</td>\n",
       "      <td>28871.28</td>\n",
       "      <td>111.93</td>\n",
       "      <td>0.0</td>\n",
       "      <td>0.003892</td>\n",
       "      <td>0.0</td>\n",
       "    </tr>\n",
       "    <tr>\n",
       "      <th>21.0</th>\n",
       "      <td>1609460460</td>\n",
       "      <td>28744.09</td>\n",
       "      <td>28796.23</td>\n",
       "      <td>28757.97</td>\n",
       "      <td>28796.23</td>\n",
       "      <td>44.561433</td>\n",
       "      <td>28896.773438</td>\n",
       "      <td>28844.48</td>\n",
       "      <td>48.25</td>\n",
       "      <td>0.0</td>\n",
       "      <td>0.001676</td>\n",
       "      <td>0.0</td>\n",
       "    </tr>\n",
       "    <tr>\n",
       "      <th>22.0</th>\n",
       "      <td>1609460520</td>\n",
       "      <td>28780.11</td>\n",
       "      <td>28802.19</td>\n",
       "      <td>28796.23</td>\n",
       "      <td>28796.29</td>\n",
       "      <td>18.573683</td>\n",
       "      <td>28890.763672</td>\n",
       "      <td>28839.57</td>\n",
       "      <td>43.28</td>\n",
       "      <td>0.0</td>\n",
       "      <td>0.001503</td>\n",
       "      <td>0.0</td>\n",
       "    </tr>\n",
       "    <tr>\n",
       "      <th>23.0</th>\n",
       "      <td>1609460580</td>\n",
       "      <td>28796.56</td>\n",
       "      <td>28835.44</td>\n",
       "      <td>28796.56</td>\n",
       "      <td>28835.01</td>\n",
       "      <td>38.595434</td>\n",
       "      <td>28886.990234</td>\n",
       "      <td>28833.96</td>\n",
       "      <td>-1.05</td>\n",
       "      <td>0.0</td>\n",
       "      <td>-0.000036</td>\n",
       "      <td>0.0</td>\n",
       "    </tr>\n",
       "  </tbody>\n",
       "</table>\n",
       "</div>"
      ],
      "text/plain": [
       "            date       low      high      open     close     volume  \\\n",
       "19.0  1609460340  28820.72  28852.48  28823.21  28820.72  35.359406   \n",
       "20.0  1609460400  28751.58  28822.17  28822.17  28759.35  35.799104   \n",
       "21.0  1609460460  28744.09  28796.23  28757.97  28796.23  44.561433   \n",
       "22.0  1609460520  28780.11  28802.19  28796.23  28796.29  18.573683   \n",
       "23.0  1609460580  28796.56  28835.44  28796.56  28835.01  38.595434   \n",
       "\n",
       "           close_5  true_close_5  buy_profit  sell_profit  buy_profit_percent  \\\n",
       "19.0  28904.908203      28846.46       25.74          0.0            0.000893   \n",
       "20.0  28902.384766      28871.28      111.93          0.0            0.003892   \n",
       "21.0  28896.773438      28844.48       48.25          0.0            0.001676   \n",
       "22.0  28890.763672      28839.57       43.28          0.0            0.001503   \n",
       "23.0  28886.990234      28833.96       -1.05          0.0           -0.000036   \n",
       "\n",
       "      sell_profit_percent  \n",
       "19.0                  0.0  \n",
       "20.0                  0.0  \n",
       "21.0                  0.0  \n",
       "22.0                  0.0  \n",
       "23.0                  0.0  "
      ]
     },
     "execution_count": 96,
     "metadata": {},
     "output_type": "execute_result"
    }
   ],
   "source": [
    "final_df.head(5)"
   ]
  },
  {
   "cell_type": "code",
   "execution_count": 97,
   "metadata": {
    "colab": {
     "base_uri": "https://localhost:8080/",
     "height": 204
    },
    "id": "DJ8lS2oMTFFW",
    "outputId": "66cb9370-3c83-42cc-a096-cb7a8c9744d6"
   },
   "outputs": [
    {
     "data": {
      "text/html": [
       "<div>\n",
       "<style scoped>\n",
       "    .dataframe tbody tr th:only-of-type {\n",
       "        vertical-align: middle;\n",
       "    }\n",
       "\n",
       "    .dataframe tbody tr th {\n",
       "        vertical-align: top;\n",
       "    }\n",
       "\n",
       "    .dataframe thead th {\n",
       "        text-align: right;\n",
       "    }\n",
       "</style>\n",
       "<table border=\"1\" class=\"dataframe\">\n",
       "  <thead>\n",
       "    <tr style=\"text-align: right;\">\n",
       "      <th></th>\n",
       "      <th>date</th>\n",
       "      <th>low</th>\n",
       "      <th>high</th>\n",
       "      <th>open</th>\n",
       "      <th>close</th>\n",
       "      <th>volume</th>\n",
       "      <th>close_5</th>\n",
       "      <th>true_close_5</th>\n",
       "      <th>buy_profit</th>\n",
       "      <th>sell_profit</th>\n",
       "      <th>buy_profit_percent</th>\n",
       "      <th>sell_profit_percent</th>\n",
       "    </tr>\n",
       "  </thead>\n",
       "  <tbody>\n",
       "    <tr>\n",
       "      <th>188061.0</th>\n",
       "      <td>1620778800</td>\n",
       "      <td>56913.09</td>\n",
       "      <td>56956.53</td>\n",
       "      <td>56810.00</td>\n",
       "      <td>56827.84</td>\n",
       "      <td>39.763972</td>\n",
       "      <td>56839.656250</td>\n",
       "      <td>56936.72</td>\n",
       "      <td>108.88</td>\n",
       "      <td>0.00</td>\n",
       "      <td>0.001916</td>\n",
       "      <td>0.000000</td>\n",
       "    </tr>\n",
       "    <tr>\n",
       "      <th>188062.0</th>\n",
       "      <td>1620778860</td>\n",
       "      <td>56826.38</td>\n",
       "      <td>56913.31</td>\n",
       "      <td>56825.68</td>\n",
       "      <td>56902.75</td>\n",
       "      <td>43.891996</td>\n",
       "      <td>56867.347656</td>\n",
       "      <td>56985.32</td>\n",
       "      <td>0.00</td>\n",
       "      <td>-82.57</td>\n",
       "      <td>0.000000</td>\n",
       "      <td>-0.001451</td>\n",
       "    </tr>\n",
       "    <tr>\n",
       "      <th>188063.0</th>\n",
       "      <td>1620778920</td>\n",
       "      <td>56902.76</td>\n",
       "      <td>56940.61</td>\n",
       "      <td>56892.12</td>\n",
       "      <td>56917.76</td>\n",
       "      <td>31.132963</td>\n",
       "      <td>56897.425781</td>\n",
       "      <td>56995.56</td>\n",
       "      <td>0.00</td>\n",
       "      <td>-77.80</td>\n",
       "      <td>0.000000</td>\n",
       "      <td>-0.001367</td>\n",
       "    </tr>\n",
       "    <tr>\n",
       "      <th>188064.0</th>\n",
       "      <td>1620778980</td>\n",
       "      <td>56917.76</td>\n",
       "      <td>56925.35</td>\n",
       "      <td>56874.82</td>\n",
       "      <td>56882.45</td>\n",
       "      <td>30.368818</td>\n",
       "      <td>56917.828125</td>\n",
       "      <td>56980.00</td>\n",
       "      <td>97.55</td>\n",
       "      <td>0.00</td>\n",
       "      <td>0.001715</td>\n",
       "      <td>0.000000</td>\n",
       "    </tr>\n",
       "    <tr>\n",
       "      <th>188065.0</th>\n",
       "      <td>1620779040</td>\n",
       "      <td>56882.44</td>\n",
       "      <td>56896.72</td>\n",
       "      <td>56857.62</td>\n",
       "      <td>56877.59</td>\n",
       "      <td>42.077266</td>\n",
       "      <td>56928.597656</td>\n",
       "      <td>56985.68</td>\n",
       "      <td>108.09</td>\n",
       "      <td>0.00</td>\n",
       "      <td>0.001900</td>\n",
       "      <td>0.000000</td>\n",
       "    </tr>\n",
       "  </tbody>\n",
       "</table>\n",
       "</div>"
      ],
      "text/plain": [
       "                date       low      high      open     close     volume  \\\n",
       "188061.0  1620778800  56913.09  56956.53  56810.00  56827.84  39.763972   \n",
       "188062.0  1620778860  56826.38  56913.31  56825.68  56902.75  43.891996   \n",
       "188063.0  1620778920  56902.76  56940.61  56892.12  56917.76  31.132963   \n",
       "188064.0  1620778980  56917.76  56925.35  56874.82  56882.45  30.368818   \n",
       "188065.0  1620779040  56882.44  56896.72  56857.62  56877.59  42.077266   \n",
       "\n",
       "               close_5  true_close_5  buy_profit  sell_profit  \\\n",
       "188061.0  56839.656250      56936.72      108.88         0.00   \n",
       "188062.0  56867.347656      56985.32        0.00       -82.57   \n",
       "188063.0  56897.425781      56995.56        0.00       -77.80   \n",
       "188064.0  56917.828125      56980.00       97.55         0.00   \n",
       "188065.0  56928.597656      56985.68      108.09         0.00   \n",
       "\n",
       "          buy_profit_percent  sell_profit_percent  \n",
       "188061.0            0.001916             0.000000  \n",
       "188062.0            0.000000            -0.001451  \n",
       "188063.0            0.000000            -0.001367  \n",
       "188064.0            0.001715             0.000000  \n",
       "188065.0            0.001900             0.000000  "
      ]
     },
     "execution_count": 97,
     "metadata": {},
     "output_type": "execute_result"
    }
   ],
   "source": [
    "final_df.tail(5)"
   ]
  },
  {
   "cell_type": "code",
   "execution_count": 98,
   "metadata": {
    "colab": {
     "base_uri": "https://localhost:8080/"
    },
    "id": "4SLcaExITFFX",
    "outputId": "0ae75e33-7825-40ed-cb18-81a69cb26784"
   },
   "outputs": [
    {
     "name": "stdout",
     "output_type": "stream",
     "text": [
      "BUYING End Money: 25297.72     Max Money: 25297.72     Min Money: 73.55\n",
      "SHORTING End Money: 338.08     Max Money: 351.85     Min Money: 11.13\n"
     ]
    }
   ],
   "source": [
    "money = 100\n",
    "max_money = 100\n",
    "min_money = 100\n",
    "\n",
    "for i in final_df.buy_profit_percent:\n",
    "    money = money * (1 + i)\n",
    "    if money > max_money:\n",
    "        max_money = money\n",
    "    elif money < min_money:\n",
    "        min_money = money\n",
    "print(f\"BUYING End Money: {money:.2f}     Max Money: {max_money:0.2f}     Min Money: {min_money:0.2f}\")\n",
    "\n",
    "money = 100\n",
    "max_money = 100\n",
    "min_money = 100\n",
    "\n",
    "for i in final_df.sell_profit_percent:\n",
    "    money = money * (1 + i)\n",
    "    if money > max_money:\n",
    "        max_money = money\n",
    "    elif money < min_money:\n",
    "        min_money = money\n",
    "print(f\"SHORTING End Money: {money:.2f}     Max Money: {max_money:0.2f}     Min Money: {min_money:0.2f}\")"
   ]
  },
  {
   "cell_type": "code",
   "execution_count": 99,
   "metadata": {
    "colab": {
     "base_uri": "https://localhost:8080/",
     "height": 419
    },
    "id": "dNhnYRt_TFFX",
    "outputId": "d39ccae9-e444-441f-f42b-42509c4f9aff"
   },
   "outputs": [
    {
     "data": {
      "text/html": [
       "<div>\n",
       "<style scoped>\n",
       "    .dataframe tbody tr th:only-of-type {\n",
       "        vertical-align: middle;\n",
       "    }\n",
       "\n",
       "    .dataframe tbody tr th {\n",
       "        vertical-align: top;\n",
       "    }\n",
       "\n",
       "    .dataframe thead th {\n",
       "        text-align: right;\n",
       "    }\n",
       "</style>\n",
       "<table border=\"1\" class=\"dataframe\">\n",
       "  <thead>\n",
       "    <tr style=\"text-align: right;\">\n",
       "      <th></th>\n",
       "      <th>date</th>\n",
       "      <th>low</th>\n",
       "      <th>high</th>\n",
       "      <th>open</th>\n",
       "      <th>close</th>\n",
       "      <th>volume</th>\n",
       "      <th>close_5</th>\n",
       "      <th>true_close_5</th>\n",
       "      <th>buy_profit</th>\n",
       "      <th>sell_profit</th>\n",
       "      <th>buy_profit_percent</th>\n",
       "      <th>sell_profit_percent</th>\n",
       "      <th>predicted_diff</th>\n",
       "    </tr>\n",
       "  </thead>\n",
       "  <tbody>\n",
       "    <tr>\n",
       "      <th>19.0</th>\n",
       "      <td>1609460340</td>\n",
       "      <td>28820.72</td>\n",
       "      <td>28852.48</td>\n",
       "      <td>28823.21</td>\n",
       "      <td>28820.72</td>\n",
       "      <td>35.359406</td>\n",
       "      <td>28904.908203</td>\n",
       "      <td>28846.46</td>\n",
       "      <td>25.74</td>\n",
       "      <td>0.00</td>\n",
       "      <td>0.000893</td>\n",
       "      <td>0.000000</td>\n",
       "      <td>0.002921</td>\n",
       "    </tr>\n",
       "    <tr>\n",
       "      <th>20.0</th>\n",
       "      <td>1609460400</td>\n",
       "      <td>28751.58</td>\n",
       "      <td>28822.17</td>\n",
       "      <td>28822.17</td>\n",
       "      <td>28759.35</td>\n",
       "      <td>35.799104</td>\n",
       "      <td>28902.384766</td>\n",
       "      <td>28871.28</td>\n",
       "      <td>111.93</td>\n",
       "      <td>0.00</td>\n",
       "      <td>0.003892</td>\n",
       "      <td>0.000000</td>\n",
       "      <td>0.004974</td>\n",
       "    </tr>\n",
       "    <tr>\n",
       "      <th>21.0</th>\n",
       "      <td>1609460460</td>\n",
       "      <td>28744.09</td>\n",
       "      <td>28796.23</td>\n",
       "      <td>28757.97</td>\n",
       "      <td>28796.23</td>\n",
       "      <td>44.561433</td>\n",
       "      <td>28896.773438</td>\n",
       "      <td>28844.48</td>\n",
       "      <td>48.25</td>\n",
       "      <td>0.00</td>\n",
       "      <td>0.001676</td>\n",
       "      <td>0.000000</td>\n",
       "      <td>0.003492</td>\n",
       "    </tr>\n",
       "    <tr>\n",
       "      <th>22.0</th>\n",
       "      <td>1609460520</td>\n",
       "      <td>28780.11</td>\n",
       "      <td>28802.19</td>\n",
       "      <td>28796.23</td>\n",
       "      <td>28796.29</td>\n",
       "      <td>18.573683</td>\n",
       "      <td>28890.763672</td>\n",
       "      <td>28839.57</td>\n",
       "      <td>43.28</td>\n",
       "      <td>0.00</td>\n",
       "      <td>0.001503</td>\n",
       "      <td>0.000000</td>\n",
       "      <td>0.003281</td>\n",
       "    </tr>\n",
       "    <tr>\n",
       "      <th>23.0</th>\n",
       "      <td>1609460580</td>\n",
       "      <td>28796.56</td>\n",
       "      <td>28835.44</td>\n",
       "      <td>28796.56</td>\n",
       "      <td>28835.01</td>\n",
       "      <td>38.595434</td>\n",
       "      <td>28886.990234</td>\n",
       "      <td>28833.96</td>\n",
       "      <td>-1.05</td>\n",
       "      <td>0.00</td>\n",
       "      <td>-0.000036</td>\n",
       "      <td>0.000000</td>\n",
       "      <td>0.001803</td>\n",
       "    </tr>\n",
       "    <tr>\n",
       "      <th>...</th>\n",
       "      <td>...</td>\n",
       "      <td>...</td>\n",
       "      <td>...</td>\n",
       "      <td>...</td>\n",
       "      <td>...</td>\n",
       "      <td>...</td>\n",
       "      <td>...</td>\n",
       "      <td>...</td>\n",
       "      <td>...</td>\n",
       "      <td>...</td>\n",
       "      <td>...</td>\n",
       "      <td>...</td>\n",
       "      <td>...</td>\n",
       "    </tr>\n",
       "    <tr>\n",
       "      <th>188061.0</th>\n",
       "      <td>1620778800</td>\n",
       "      <td>56913.09</td>\n",
       "      <td>56956.53</td>\n",
       "      <td>56810.00</td>\n",
       "      <td>56827.84</td>\n",
       "      <td>39.763972</td>\n",
       "      <td>56839.656250</td>\n",
       "      <td>56936.72</td>\n",
       "      <td>108.88</td>\n",
       "      <td>0.00</td>\n",
       "      <td>0.001916</td>\n",
       "      <td>0.000000</td>\n",
       "      <td>0.000208</td>\n",
       "    </tr>\n",
       "    <tr>\n",
       "      <th>188062.0</th>\n",
       "      <td>1620778860</td>\n",
       "      <td>56826.38</td>\n",
       "      <td>56913.31</td>\n",
       "      <td>56825.68</td>\n",
       "      <td>56902.75</td>\n",
       "      <td>43.891996</td>\n",
       "      <td>56867.347656</td>\n",
       "      <td>56985.32</td>\n",
       "      <td>0.00</td>\n",
       "      <td>-82.57</td>\n",
       "      <td>0.000000</td>\n",
       "      <td>-0.001451</td>\n",
       "      <td>-0.000622</td>\n",
       "    </tr>\n",
       "    <tr>\n",
       "      <th>188063.0</th>\n",
       "      <td>1620778920</td>\n",
       "      <td>56902.76</td>\n",
       "      <td>56940.61</td>\n",
       "      <td>56892.12</td>\n",
       "      <td>56917.76</td>\n",
       "      <td>31.132963</td>\n",
       "      <td>56897.425781</td>\n",
       "      <td>56995.56</td>\n",
       "      <td>0.00</td>\n",
       "      <td>-77.80</td>\n",
       "      <td>0.000000</td>\n",
       "      <td>-0.001367</td>\n",
       "      <td>-0.000357</td>\n",
       "    </tr>\n",
       "    <tr>\n",
       "      <th>188064.0</th>\n",
       "      <td>1620778980</td>\n",
       "      <td>56917.76</td>\n",
       "      <td>56925.35</td>\n",
       "      <td>56874.82</td>\n",
       "      <td>56882.45</td>\n",
       "      <td>30.368818</td>\n",
       "      <td>56917.828125</td>\n",
       "      <td>56980.00</td>\n",
       "      <td>97.55</td>\n",
       "      <td>0.00</td>\n",
       "      <td>0.001715</td>\n",
       "      <td>0.000000</td>\n",
       "      <td>0.000622</td>\n",
       "    </tr>\n",
       "    <tr>\n",
       "      <th>188065.0</th>\n",
       "      <td>1620779040</td>\n",
       "      <td>56882.44</td>\n",
       "      <td>56896.72</td>\n",
       "      <td>56857.62</td>\n",
       "      <td>56877.59</td>\n",
       "      <td>42.077266</td>\n",
       "      <td>56928.597656</td>\n",
       "      <td>56985.68</td>\n",
       "      <td>108.09</td>\n",
       "      <td>0.00</td>\n",
       "      <td>0.001900</td>\n",
       "      <td>0.000000</td>\n",
       "      <td>0.000897</td>\n",
       "    </tr>\n",
       "  </tbody>\n",
       "</table>\n",
       "<p>188029 rows × 13 columns</p>\n",
       "</div>"
      ],
      "text/plain": [
       "                date       low      high      open     close     volume  \\\n",
       "19.0      1609460340  28820.72  28852.48  28823.21  28820.72  35.359406   \n",
       "20.0      1609460400  28751.58  28822.17  28822.17  28759.35  35.799104   \n",
       "21.0      1609460460  28744.09  28796.23  28757.97  28796.23  44.561433   \n",
       "22.0      1609460520  28780.11  28802.19  28796.23  28796.29  18.573683   \n",
       "23.0      1609460580  28796.56  28835.44  28796.56  28835.01  38.595434   \n",
       "...              ...       ...       ...       ...       ...        ...   \n",
       "188061.0  1620778800  56913.09  56956.53  56810.00  56827.84  39.763972   \n",
       "188062.0  1620778860  56826.38  56913.31  56825.68  56902.75  43.891996   \n",
       "188063.0  1620778920  56902.76  56940.61  56892.12  56917.76  31.132963   \n",
       "188064.0  1620778980  56917.76  56925.35  56874.82  56882.45  30.368818   \n",
       "188065.0  1620779040  56882.44  56896.72  56857.62  56877.59  42.077266   \n",
       "\n",
       "               close_5  true_close_5  buy_profit  sell_profit  \\\n",
       "19.0      28904.908203      28846.46       25.74         0.00   \n",
       "20.0      28902.384766      28871.28      111.93         0.00   \n",
       "21.0      28896.773438      28844.48       48.25         0.00   \n",
       "22.0      28890.763672      28839.57       43.28         0.00   \n",
       "23.0      28886.990234      28833.96       -1.05         0.00   \n",
       "...                ...           ...         ...          ...   \n",
       "188061.0  56839.656250      56936.72      108.88         0.00   \n",
       "188062.0  56867.347656      56985.32        0.00       -82.57   \n",
       "188063.0  56897.425781      56995.56        0.00       -77.80   \n",
       "188064.0  56917.828125      56980.00       97.55         0.00   \n",
       "188065.0  56928.597656      56985.68      108.09         0.00   \n",
       "\n",
       "          buy_profit_percent  sell_profit_percent  predicted_diff  \n",
       "19.0                0.000893             0.000000        0.002921  \n",
       "20.0                0.003892             0.000000        0.004974  \n",
       "21.0                0.001676             0.000000        0.003492  \n",
       "22.0                0.001503             0.000000        0.003281  \n",
       "23.0               -0.000036             0.000000        0.001803  \n",
       "...                      ...                  ...             ...  \n",
       "188061.0            0.001916             0.000000        0.000208  \n",
       "188062.0            0.000000            -0.001451       -0.000622  \n",
       "188063.0            0.000000            -0.001367       -0.000357  \n",
       "188064.0            0.001715             0.000000        0.000622  \n",
       "188065.0            0.001900             0.000000        0.000897  \n",
       "\n",
       "[188029 rows x 13 columns]"
      ]
     },
     "execution_count": 99,
     "metadata": {},
     "output_type": "execute_result"
    }
   ],
   "source": [
    "final_df['predicted_diff'] = (final_df[f\"close_{LOOKUP_STEP}\"] - final_df['close']) / final_df['close']\n",
    "final_df"
   ]
  },
  {
   "cell_type": "code",
   "execution_count": 100,
   "metadata": {
    "colab": {
     "base_uri": "https://localhost:8080/",
     "height": 315
    },
    "id": "CmdGmablTFFX",
    "outputId": "4e169b25-96d1-4fc8-b6b8-dfe0b45d30c8"
   },
   "outputs": [
    {
     "data": {
      "text/plain": [
       "array([[<matplotlib.axes._subplots.AxesSubplot object at 0x000002E24445A5E0>]],\n",
       "      dtype=object)"
      ]
     },
     "execution_count": 100,
     "metadata": {},
     "output_type": "execute_result"
    },
    {
     "data": {
      "image/png": "[encoded data removed]",
      "text/plain": [
       "<Figure size 432x288 with 1 Axes>"
      ]
     },
     "metadata": {
      "needs_background": "light"
     },
     "output_type": "display_data"
    }
   ],
   "source": [
    "final_df.hist('predicted_diff', bins=100)"
   ]
  },
  {
   "cell_type": "code",
   "execution_count": 101,
   "metadata": {
    "colab": {
     "base_uri": "https://localhost:8080/"
    },
    "id": "KhxYVytxTFFY",
    "outputId": "5f9c779f-e6fe-4674-8131-6a59012fe8d8"
   },
   "outputs": [
    {
     "name": "stdout",
     "output_type": "stream",
     "text": [
      "Number positive:  85949\n",
      "Number negative:  102080\n"
     ]
    }
   ],
   "source": [
    "pos = final_df['predicted_diff'].where(final_df['predicted_diff'] > 0).count()\n",
    "neg = final_df['predicted_diff'].where(final_df['predicted_diff'] < 0).count()\n",
    "tot = final_df['predicted_diff'].count()\n",
    "\n",
    "print(f\"Number positive:  {pos}\")\n",
    "print(f\"Number negative:  {neg}\")"
   ]
  },
  {
   "cell_type": "code",
   "execution_count": 102,
   "metadata": {
    "colab": {
     "base_uri": "https://localhost:8080/"
    },
    "id": "f9B8clkXTFFY",
    "outputId": "bef1ae2f-8d5f-4e98-d0c7-fcb856fec701"
   },
   "outputs": [
    {
     "name": "stdout",
     "output_type": "stream",
     "text": [
      "For value of 0\n",
      "Num pos: 85949     Num neg: 102080\n",
      "Percent positive: 45.710502103398944\n",
      "Percent negative: 54.289497896601056\n",
      "\n",
      "For value of 0.001\n",
      "Num pos: 51595     Num neg: 61232\n",
      "Percent positive: 27.43991618314196\n",
      "Percent negative: 32.56518941227151\n",
      "\n",
      "For value of 0.002\n",
      "Num pos: 30692     Num neg: 32292\n",
      "Percent positive: 16.323014003159088\n",
      "Percent negative: 17.17394657207133\n",
      "\n",
      "For value of 0.01\n",
      "Num pos: 1351     Num neg: 808\n",
      "Percent positive: 0.7185061878752745\n",
      "Percent negative: 0.42972094730068233\n",
      "\n",
      "For value of 0.03\n",
      "Num pos: 27     Num neg: 22\n",
      "Percent positive: 0.014359487100394088\n",
      "Percent negative: 0.011700322822543331\n",
      "\n"
     ]
    }
   ],
   "source": [
    "vals = [0, 0.001, 0.002, 0.01, 0.03]\n",
    "tot = final_df['predicted_diff'].count()\n",
    "\n",
    "for i in vals:\n",
    "    pos = final_df['predicted_diff'].where(final_df['predicted_diff'] > i).count()\n",
    "    neg = final_df['predicted_diff'].where(final_df['predicted_diff'] < -i).count()\n",
    "\n",
    "    print(f'For value of {i}')\n",
    "    print(f'Num pos: {pos}     Num neg: {neg}')\n",
    "    print(f'Percent positive: {100*pos/tot}')\n",
    "    print(f'Percent negative: {100*neg/tot}')\n",
    "    print()"
   ]
  },
  {
   "cell_type": "code",
   "execution_count": 103,
   "metadata": {
    "colab": {
     "base_uri": "https://localhost:8080/"
    },
    "id": "grjRcIvoTFFY",
    "outputId": "94b0e1b2-e593-4570-a536-5fab3695747a"
   },
   "outputs": [
    {
     "data": {
      "text/plain": [
       "count    188029.000000\n",
       "mean         -0.000043\n",
       "std           0.002982\n",
       "min          -0.058871\n",
       "25%          -0.001420\n",
       "50%          -0.000189\n",
       "75%           0.001179\n",
       "max           0.074208\n",
       "Name: predicted_diff, dtype: float64"
      ]
     },
     "execution_count": 103,
     "metadata": {},
     "output_type": "execute_result"
    }
   ],
   "source": [
    "final_df['predicted_diff'].describe()"
   ]
  },
  {
   "cell_type": "code",
   "execution_count": 104,
   "metadata": {
    "colab": {
     "base_uri": "https://localhost:8080/"
    },
    "id": "_xsONcXZTFFZ",
    "outputId": "8ed100f0-ec08-4546-eb97-178e72aacf2d"
   },
   "outputs": [
    {
     "data": {
      "text/plain": [
       "count    85949.000000\n",
       "mean         3.290812\n",
       "std        158.931108\n",
       "min      -4330.030000\n",
       "25%        -67.270000\n",
       "50%          6.540000\n",
       "75%         79.560000\n",
       "max       2742.880000\n",
       "Name: buy_profit, dtype: float64"
      ]
     },
     "execution_count": 104,
     "metadata": {},
     "output_type": "execute_result"
    }
   ],
   "source": [
    "final_df['buy_profit'].where(final_df['predicted_diff'] > 0).describe()"
   ]
  },
  {
   "cell_type": "code",
   "execution_count": 105,
   "metadata": {
    "colab": {
     "base_uri": "https://localhost:8080/",
     "height": 282
    },
    "id": "32F5km_7TFFZ",
    "outputId": "74c0101b-45f3-45fa-979b-6381e71cae1b"
   },
   "outputs": [
    {
     "data": {
      "text/plain": [
       "<matplotlib.axes._subplots.AxesSubplot at 0x2e3e99bb760>"
      ]
     },
     "execution_count": 105,
     "metadata": {},
     "output_type": "execute_result"
    },
    {
     "data": {
      "image/png": "[encoded data removed]",
      "text/plain": [
       "<Figure size 432x288 with 1 Axes>"
      ]
     },
     "metadata": {
      "needs_background": "light"
     },
     "output_type": "display_data"
    }
   ],
   "source": [
    "final_df['buy_profit'].where(final_df['predicted_diff'] > 0).hist(bins = 50)"
   ]
  },
  {
   "cell_type": "code",
   "execution_count": 106,
   "metadata": {
    "colab": {
     "base_uri": "https://localhost:8080/",
     "height": 435
    },
    "id": "xHLCauZ2TFFZ",
    "outputId": "638780e5-b76d-4af2-d54c-a574bc393dc2"
   },
   "outputs": [
    {
     "name": "stdout",
     "output_type": "stream",
     "text": [
      "count    102080.000000\n",
      "mean          1.384833\n",
      "std         135.856659\n",
      "min       -1827.710000\n",
      "25%         -64.510000\n",
      "50%           6.030000\n",
      "75%          71.782500\n",
      "max        1907.110000\n",
      "Name: sell_profit, dtype: float64\n"
     ]
    },
    {
     "data": {
      "text/plain": [
       "<matplotlib.axes._subplots.AxesSubplot at 0x2e22ec7aa30>"
      ]
     },
     "execution_count": 106,
     "metadata": {},
     "output_type": "execute_result"
    },
    {
     "data": {
      "image/png": "[encoded data removed]",
      "text/plain": [
       "<Figure size 432x288 with 1 Axes>"
      ]
     },
     "metadata": {
      "needs_background": "light"
     },
     "output_type": "display_data"
    }
   ],
   "source": [
    "print(final_df['sell_profit'].where(final_df['predicted_diff'] < 0).describe())\n",
    "\n",
    "final_df['sell_profit'].where(final_df['predicted_diff'] < 0).hist(bins = 50)"
   ]
  },
  {
   "cell_type": "code",
   "execution_count": 74,
   "metadata": {
    "id": "RINsuFk8TFFZ"
   },
   "outputs": [],
   "source": [
    "#final_df.running_buy_total = final_df.running_buy_total.shift(-1) * (1 + final_df.buy_profit_percent)"
   ]
  },
  {
   "cell_type": "code",
   "execution_count": 107,
   "metadata": {
    "colab": {
     "base_uri": "https://localhost:8080/"
    },
    "id": "JoK2DHQ9TFFZ",
    "outputId": "3224bab5-aae8-4e35-a316-135b14a2ccaa"
   },
   "outputs": [
    {
     "name": "stdout",
     "output_type": "stream",
     "text": [
      "BUYING End Money: 25297.72     Max Money: 25297.72     Min Money: 73.55\n",
      "SELLING End Money: 338.08     Max Money: 351.85     Min Money: 11.13\n"
     ]
    }
   ],
   "source": [
    "money = 100\n",
    "max_money = 100\n",
    "min_money = 100\n",
    "\n",
    "for i, row in final_df.iterrows():\n",
    "    money = money * (1 + row.buy_profit_percent)\n",
    "    final_df.at[i, 'running_buy_total'] = money\n",
    "    if money > max_money:\n",
    "        max_money = money\n",
    "    elif money < min_money:\n",
    "        min_money = money\n",
    "print(f\"BUYING End Money: {money:.2f}     Max Money: {max_money:0.2f}     Min Money: {min_money:0.2f}\")\n",
    "\n",
    "money = 100\n",
    "max_money = 100\n",
    "min_money = 100\n",
    "\n",
    "for i, row in final_df.iterrows():\n",
    "    money = money * (1 + row.sell_profit_percent)\n",
    "    final_df.at[i, 'running_sell_total'] = money\n",
    "    if money > max_money:\n",
    "        max_money = money\n",
    "    elif money < min_money:\n",
    "        min_money = money\n",
    "print(f\"SELLING End Money: {money:.2f}     Max Money: {max_money:0.2f}     Min Money: {min_money:0.2f}\")\n"
   ]
  },
  {
   "cell_type": "code",
   "execution_count": 108,
   "metadata": {
    "colab": {
     "base_uri": "https://localhost:8080/",
     "height": 204
    },
    "id": "UFg2CfWdTFFa",
    "outputId": "098d773f-d89e-4336-a83a-954f7fa938fc"
   },
   "outputs": [
    {
     "data": {
      "text/html": [
       "<div>\n",
       "<style scoped>\n",
       "    .dataframe tbody tr th:only-of-type {\n",
       "        vertical-align: middle;\n",
       "    }\n",
       "\n",
       "    .dataframe tbody tr th {\n",
       "        vertical-align: top;\n",
       "    }\n",
       "\n",
       "    .dataframe thead th {\n",
       "        text-align: right;\n",
       "    }\n",
       "</style>\n",
       "<table border=\"1\" class=\"dataframe\">\n",
       "  <thead>\n",
       "    <tr style=\"text-align: right;\">\n",
       "      <th></th>\n",
       "      <th>date</th>\n",
       "      <th>low</th>\n",
       "      <th>high</th>\n",
       "      <th>open</th>\n",
       "      <th>close</th>\n",
       "      <th>volume</th>\n",
       "      <th>close_5</th>\n",
       "      <th>true_close_5</th>\n",
       "      <th>buy_profit</th>\n",
       "      <th>sell_profit</th>\n",
       "      <th>buy_profit_percent</th>\n",
       "      <th>sell_profit_percent</th>\n",
       "      <th>predicted_diff</th>\n",
       "      <th>running_buy_total</th>\n",
       "      <th>running_sell_total</th>\n",
       "    </tr>\n",
       "  </thead>\n",
       "  <tbody>\n",
       "    <tr>\n",
       "      <th>188061.0</th>\n",
       "      <td>1620778800</td>\n",
       "      <td>56913.09</td>\n",
       "      <td>56956.53</td>\n",
       "      <td>56810.00</td>\n",
       "      <td>56827.84</td>\n",
       "      <td>39.763972</td>\n",
       "      <td>56839.656250</td>\n",
       "      <td>56936.72</td>\n",
       "      <td>108.88</td>\n",
       "      <td>0.00</td>\n",
       "      <td>0.001916</td>\n",
       "      <td>0.000000</td>\n",
       "      <td>0.000208</td>\n",
       "      <td>25206.511353</td>\n",
       "      <td>339.037076</td>\n",
       "    </tr>\n",
       "    <tr>\n",
       "      <th>188062.0</th>\n",
       "      <td>1620778860</td>\n",
       "      <td>56826.38</td>\n",
       "      <td>56913.31</td>\n",
       "      <td>56825.68</td>\n",
       "      <td>56902.75</td>\n",
       "      <td>43.891996</td>\n",
       "      <td>56867.347656</td>\n",
       "      <td>56985.32</td>\n",
       "      <td>0.00</td>\n",
       "      <td>-82.57</td>\n",
       "      <td>0.000000</td>\n",
       "      <td>-0.001451</td>\n",
       "      <td>-0.000622</td>\n",
       "      <td>25206.511353</td>\n",
       "      <td>338.545109</td>\n",
       "    </tr>\n",
       "    <tr>\n",
       "      <th>188063.0</th>\n",
       "      <td>1620778920</td>\n",
       "      <td>56902.76</td>\n",
       "      <td>56940.61</td>\n",
       "      <td>56892.12</td>\n",
       "      <td>56917.76</td>\n",
       "      <td>31.132963</td>\n",
       "      <td>56897.425781</td>\n",
       "      <td>56995.56</td>\n",
       "      <td>0.00</td>\n",
       "      <td>-77.80</td>\n",
       "      <td>0.000000</td>\n",
       "      <td>-0.001367</td>\n",
       "      <td>-0.000357</td>\n",
       "      <td>25206.511353</td>\n",
       "      <td>338.082357</td>\n",
       "    </tr>\n",
       "    <tr>\n",
       "      <th>188064.0</th>\n",
       "      <td>1620778980</td>\n",
       "      <td>56917.76</td>\n",
       "      <td>56925.35</td>\n",
       "      <td>56874.82</td>\n",
       "      <td>56882.45</td>\n",
       "      <td>30.368818</td>\n",
       "      <td>56917.828125</td>\n",
       "      <td>56980.00</td>\n",
       "      <td>97.55</td>\n",
       "      <td>0.00</td>\n",
       "      <td>0.001715</td>\n",
       "      <td>0.000000</td>\n",
       "      <td>0.000622</td>\n",
       "      <td>25249.739013</td>\n",
       "      <td>338.082357</td>\n",
       "    </tr>\n",
       "    <tr>\n",
       "      <th>188065.0</th>\n",
       "      <td>1620779040</td>\n",
       "      <td>56882.44</td>\n",
       "      <td>56896.72</td>\n",
       "      <td>56857.62</td>\n",
       "      <td>56877.59</td>\n",
       "      <td>42.077266</td>\n",
       "      <td>56928.597656</td>\n",
       "      <td>56985.68</td>\n",
       "      <td>108.09</td>\n",
       "      <td>0.00</td>\n",
       "      <td>0.001900</td>\n",
       "      <td>0.000000</td>\n",
       "      <td>0.000897</td>\n",
       "      <td>25297.723540</td>\n",
       "      <td>338.082357</td>\n",
       "    </tr>\n",
       "  </tbody>\n",
       "</table>\n",
       "</div>"
      ],
      "text/plain": [
       "                date       low      high      open     close     volume  \\\n",
       "188061.0  1620778800  56913.09  56956.53  56810.00  56827.84  39.763972   \n",
       "188062.0  1620778860  56826.38  56913.31  56825.68  56902.75  43.891996   \n",
       "188063.0  1620778920  56902.76  56940.61  56892.12  56917.76  31.132963   \n",
       "188064.0  1620778980  56917.76  56925.35  56874.82  56882.45  30.368818   \n",
       "188065.0  1620779040  56882.44  56896.72  56857.62  56877.59  42.077266   \n",
       "\n",
       "               close_5  true_close_5  buy_profit  sell_profit  \\\n",
       "188061.0  56839.656250      56936.72      108.88         0.00   \n",
       "188062.0  56867.347656      56985.32        0.00       -82.57   \n",
       "188063.0  56897.425781      56995.56        0.00       -77.80   \n",
       "188064.0  56917.828125      56980.00       97.55         0.00   \n",
       "188065.0  56928.597656      56985.68      108.09         0.00   \n",
       "\n",
       "          buy_profit_percent  sell_profit_percent  predicted_diff  \\\n",
       "188061.0            0.001916             0.000000        0.000208   \n",
       "188062.0            0.000000            -0.001451       -0.000622   \n",
       "188063.0            0.000000            -0.001367       -0.000357   \n",
       "188064.0            0.001715             0.000000        0.000622   \n",
       "188065.0            0.001900             0.000000        0.000897   \n",
       "\n",
       "          running_buy_total  running_sell_total  \n",
       "188061.0       25206.511353          339.037076  \n",
       "188062.0       25206.511353          338.545109  \n",
       "188063.0       25206.511353          338.082357  \n",
       "188064.0       25249.739013          338.082357  \n",
       "188065.0       25297.723540          338.082357  "
      ]
     },
     "execution_count": 108,
     "metadata": {},
     "output_type": "execute_result"
    }
   ],
   "source": [
    "final_df.tail()"
   ]
  },
  {
   "cell_type": "code",
   "execution_count": 109,
   "metadata": {
    "colab": {
     "base_uri": "https://localhost:8080/",
     "height": 359
    },
    "id": "eUoNjdLjTFFa",
    "outputId": "581835a8-e67c-4728-e367-6b0fe27199c8"
   },
   "outputs": [
    {
     "data": {
      "text/html": [
       "<div>\n",
       "<style scoped>\n",
       "    .dataframe tbody tr th:only-of-type {\n",
       "        vertical-align: middle;\n",
       "    }\n",
       "\n",
       "    .dataframe tbody tr th {\n",
       "        vertical-align: top;\n",
       "    }\n",
       "\n",
       "    .dataframe thead th {\n",
       "        text-align: right;\n",
       "    }\n",
       "</style>\n",
       "<table border=\"1\" class=\"dataframe\">\n",
       "  <thead>\n",
       "    <tr style=\"text-align: right;\">\n",
       "      <th></th>\n",
       "      <th>date</th>\n",
       "      <th>low</th>\n",
       "      <th>high</th>\n",
       "      <th>open</th>\n",
       "      <th>close</th>\n",
       "      <th>volume</th>\n",
       "      <th>close_5</th>\n",
       "      <th>true_close_5</th>\n",
       "      <th>buy_profit</th>\n",
       "      <th>sell_profit</th>\n",
       "      <th>buy_profit_percent</th>\n",
       "      <th>sell_profit_percent</th>\n",
       "      <th>predicted_diff</th>\n",
       "      <th>running_buy_total</th>\n",
       "      <th>running_sell_total</th>\n",
       "    </tr>\n",
       "  </thead>\n",
       "  <tbody>\n",
       "    <tr>\n",
       "      <th>19.0</th>\n",
       "      <td>1609460340</td>\n",
       "      <td>28820.72</td>\n",
       "      <td>28852.48</td>\n",
       "      <td>28823.21</td>\n",
       "      <td>28820.72</td>\n",
       "      <td>35.359406</td>\n",
       "      <td>28904.908203</td>\n",
       "      <td>28846.46</td>\n",
       "      <td>25.74</td>\n",
       "      <td>0.0</td>\n",
       "      <td>0.000893</td>\n",
       "      <td>0.0</td>\n",
       "      <td>0.002921</td>\n",
       "      <td>100.089311</td>\n",
       "      <td>100.0</td>\n",
       "    </tr>\n",
       "    <tr>\n",
       "      <th>20.0</th>\n",
       "      <td>1609460400</td>\n",
       "      <td>28751.58</td>\n",
       "      <td>28822.17</td>\n",
       "      <td>28822.17</td>\n",
       "      <td>28759.35</td>\n",
       "      <td>35.799104</td>\n",
       "      <td>28902.384766</td>\n",
       "      <td>28871.28</td>\n",
       "      <td>111.93</td>\n",
       "      <td>0.0</td>\n",
       "      <td>0.003892</td>\n",
       "      <td>0.0</td>\n",
       "      <td>0.004974</td>\n",
       "      <td>100.478854</td>\n",
       "      <td>100.0</td>\n",
       "    </tr>\n",
       "    <tr>\n",
       "      <th>21.0</th>\n",
       "      <td>1609460460</td>\n",
       "      <td>28744.09</td>\n",
       "      <td>28796.23</td>\n",
       "      <td>28757.97</td>\n",
       "      <td>28796.23</td>\n",
       "      <td>44.561433</td>\n",
       "      <td>28896.773438</td>\n",
       "      <td>28844.48</td>\n",
       "      <td>48.25</td>\n",
       "      <td>0.0</td>\n",
       "      <td>0.001676</td>\n",
       "      <td>0.0</td>\n",
       "      <td>0.003492</td>\n",
       "      <td>100.647213</td>\n",
       "      <td>100.0</td>\n",
       "    </tr>\n",
       "    <tr>\n",
       "      <th>22.0</th>\n",
       "      <td>1609460520</td>\n",
       "      <td>28780.11</td>\n",
       "      <td>28802.19</td>\n",
       "      <td>28796.23</td>\n",
       "      <td>28796.29</td>\n",
       "      <td>18.573683</td>\n",
       "      <td>28890.763672</td>\n",
       "      <td>28839.57</td>\n",
       "      <td>43.28</td>\n",
       "      <td>0.0</td>\n",
       "      <td>0.001503</td>\n",
       "      <td>0.0</td>\n",
       "      <td>0.003281</td>\n",
       "      <td>100.798482</td>\n",
       "      <td>100.0</td>\n",
       "    </tr>\n",
       "    <tr>\n",
       "      <th>23.0</th>\n",
       "      <td>1609460580</td>\n",
       "      <td>28796.56</td>\n",
       "      <td>28835.44</td>\n",
       "      <td>28796.56</td>\n",
       "      <td>28835.01</td>\n",
       "      <td>38.595434</td>\n",
       "      <td>28886.990234</td>\n",
       "      <td>28833.96</td>\n",
       "      <td>-1.05</td>\n",
       "      <td>0.0</td>\n",
       "      <td>-0.000036</td>\n",
       "      <td>0.0</td>\n",
       "      <td>0.001803</td>\n",
       "      <td>100.794812</td>\n",
       "      <td>100.0</td>\n",
       "    </tr>\n",
       "    <tr>\n",
       "      <th>24.0</th>\n",
       "      <td>1609460640</td>\n",
       "      <td>28822.03</td>\n",
       "      <td>28846.46</td>\n",
       "      <td>28835.01</td>\n",
       "      <td>28846.46</td>\n",
       "      <td>23.787130</td>\n",
       "      <td>28882.470703</td>\n",
       "      <td>28836.63</td>\n",
       "      <td>-9.83</td>\n",
       "      <td>0.0</td>\n",
       "      <td>-0.000341</td>\n",
       "      <td>0.0</td>\n",
       "      <td>0.001248</td>\n",
       "      <td>100.760464</td>\n",
       "      <td>100.0</td>\n",
       "    </tr>\n",
       "    <tr>\n",
       "      <th>25.0</th>\n",
       "      <td>1609460700</td>\n",
       "      <td>28841.66</td>\n",
       "      <td>28871.28</td>\n",
       "      <td>28844.88</td>\n",
       "      <td>28871.28</td>\n",
       "      <td>37.069495</td>\n",
       "      <td>28880.789062</td>\n",
       "      <td>28875.75</td>\n",
       "      <td>4.47</td>\n",
       "      <td>0.0</td>\n",
       "      <td>0.000155</td>\n",
       "      <td>0.0</td>\n",
       "      <td>0.000329</td>\n",
       "      <td>100.776064</td>\n",
       "      <td>100.0</td>\n",
       "    </tr>\n",
       "    <tr>\n",
       "      <th>26.0</th>\n",
       "      <td>1609460760</td>\n",
       "      <td>28822.01</td>\n",
       "      <td>28875.55</td>\n",
       "      <td>28871.28</td>\n",
       "      <td>28844.48</td>\n",
       "      <td>50.016234</td>\n",
       "      <td>28872.095703</td>\n",
       "      <td>28858.53</td>\n",
       "      <td>14.05</td>\n",
       "      <td>0.0</td>\n",
       "      <td>0.000487</td>\n",
       "      <td>0.0</td>\n",
       "      <td>0.000957</td>\n",
       "      <td>100.825152</td>\n",
       "      <td>100.0</td>\n",
       "    </tr>\n",
       "    <tr>\n",
       "      <th>27.0</th>\n",
       "      <td>1609460820</td>\n",
       "      <td>28823.49</td>\n",
       "      <td>28844.48</td>\n",
       "      <td>28844.48</td>\n",
       "      <td>28839.57</td>\n",
       "      <td>31.830089</td>\n",
       "      <td>28860.576172</td>\n",
       "      <td>28871.97</td>\n",
       "      <td>32.40</td>\n",
       "      <td>0.0</td>\n",
       "      <td>0.001123</td>\n",
       "      <td>0.0</td>\n",
       "      <td>0.000728</td>\n",
       "      <td>100.938425</td>\n",
       "      <td>100.0</td>\n",
       "    </tr>\n",
       "    <tr>\n",
       "      <th>28.0</th>\n",
       "      <td>1609460880</td>\n",
       "      <td>28828.92</td>\n",
       "      <td>28844.10</td>\n",
       "      <td>28839.58</td>\n",
       "      <td>28833.96</td>\n",
       "      <td>10.930214</td>\n",
       "      <td>28849.529297</td>\n",
       "      <td>28890.00</td>\n",
       "      <td>56.04</td>\n",
       "      <td>0.0</td>\n",
       "      <td>0.001944</td>\n",
       "      <td>0.0</td>\n",
       "      <td>0.000540</td>\n",
       "      <td>101.134603</td>\n",
       "      <td>100.0</td>\n",
       "    </tr>\n",
       "  </tbody>\n",
       "</table>\n",
       "</div>"
      ],
      "text/plain": [
       "            date       low      high      open     close     volume  \\\n",
       "19.0  1609460340  28820.72  28852.48  28823.21  28820.72  35.359406   \n",
       "20.0  1609460400  28751.58  28822.17  28822.17  28759.35  35.799104   \n",
       "21.0  1609460460  28744.09  28796.23  28757.97  28796.23  44.561433   \n",
       "22.0  1609460520  28780.11  28802.19  28796.23  28796.29  18.573683   \n",
       "23.0  1609460580  28796.56  28835.44  28796.56  28835.01  38.595434   \n",
       "24.0  1609460640  28822.03  28846.46  28835.01  28846.46  23.787130   \n",
       "25.0  1609460700  28841.66  28871.28  28844.88  28871.28  37.069495   \n",
       "26.0  1609460760  28822.01  28875.55  28871.28  28844.48  50.016234   \n",
       "27.0  1609460820  28823.49  28844.48  28844.48  28839.57  31.830089   \n",
       "28.0  1609460880  28828.92  28844.10  28839.58  28833.96  10.930214   \n",
       "\n",
       "           close_5  true_close_5  buy_profit  sell_profit  buy_profit_percent  \\\n",
       "19.0  28904.908203      28846.46       25.74          0.0            0.000893   \n",
       "20.0  28902.384766      28871.28      111.93          0.0            0.003892   \n",
       "21.0  28896.773438      28844.48       48.25          0.0            0.001676   \n",
       "22.0  28890.763672      28839.57       43.28          0.0            0.001503   \n",
       "23.0  28886.990234      28833.96       -1.05          0.0           -0.000036   \n",
       "24.0  28882.470703      28836.63       -9.83          0.0           -0.000341   \n",
       "25.0  28880.789062      28875.75        4.47          0.0            0.000155   \n",
       "26.0  28872.095703      28858.53       14.05          0.0            0.000487   \n",
       "27.0  28860.576172      28871.97       32.40          0.0            0.001123   \n",
       "28.0  28849.529297      28890.00       56.04          0.0            0.001944   \n",
       "\n",
       "      sell_profit_percent  predicted_diff  running_buy_total  \\\n",
       "19.0                  0.0        0.002921         100.089311   \n",
       "20.0                  0.0        0.004974         100.478854   \n",
       "21.0                  0.0        0.003492         100.647213   \n",
       "22.0                  0.0        0.003281         100.798482   \n",
       "23.0                  0.0        0.001803         100.794812   \n",
       "24.0                  0.0        0.001248         100.760464   \n",
       "25.0                  0.0        0.000329         100.776064   \n",
       "26.0                  0.0        0.000957         100.825152   \n",
       "27.0                  0.0        0.000728         100.938425   \n",
       "28.0                  0.0        0.000540         101.134603   \n",
       "\n",
       "      running_sell_total  \n",
       "19.0               100.0  \n",
       "20.0               100.0  \n",
       "21.0               100.0  \n",
       "22.0               100.0  \n",
       "23.0               100.0  \n",
       "24.0               100.0  \n",
       "25.0               100.0  \n",
       "26.0               100.0  \n",
       "27.0               100.0  \n",
       "28.0               100.0  "
      ]
     },
     "execution_count": 109,
     "metadata": {},
     "output_type": "execute_result"
    }
   ],
   "source": [
    "final_df.head(10)"
   ]
  },
  {
   "cell_type": "code",
   "execution_count": 110,
   "metadata": {
    "colab": {
     "base_uri": "https://localhost:8080/",
     "height": 293
    },
    "id": "hda6D_iXTFFa",
    "outputId": "fcee3f21-26f1-4f58-e78a-bea1cb27b495"
   },
   "outputs": [
    {
     "data": {
      "text/plain": [
       "<matplotlib.axes._subplots.AxesSubplot at 0x2e22ec71250>"
      ]
     },
     "execution_count": 110,
     "metadata": {},
     "output_type": "execute_result"
    },
    {
     "data": {
      "image/png": "[encoded data removed]",
      "text/plain": [
       "<Figure size 432x288 with 1 Axes>"
      ]
     },
     "metadata": {
      "needs_background": "light"
     },
     "output_type": "display_data"
    }
   ],
   "source": [
    "final_df.running_buy_total.plot()"
   ]
  },
  {
   "cell_type": "code",
   "execution_count": 111,
   "metadata": {
    "colab": {
     "base_uri": "https://localhost:8080/",
     "height": 293
    },
    "id": "-vMZpP2-TFFa",
    "outputId": "f5f05c37-d6e0-48da-8f59-c96766442a55"
   },
   "outputs": [
    {
     "data": {
      "text/plain": [
       "<matplotlib.axes._subplots.AxesSubplot at 0x2e2140fabb0>"
      ]
     },
     "execution_count": 111,
     "metadata": {},
     "output_type": "execute_result"
    },
    {
     "data": {
      "image/png": "[encoded data removed]",
      "text/plain": [
       "<Figure size 432x288 with 1 Axes>"
      ]
     },
     "metadata": {
      "needs_background": "light"
     },
     "output_type": "display_data"
    }
   ],
   "source": [
    "final_df.running_sell_total.plot()"
   ]
  },
  {
   "cell_type": "code",
   "execution_count": null,
   "metadata": {
    "colab": {
     "base_uri": "https://localhost:8080/",
     "height": 52
    },
    "id": "lVMRov7xTFFa",
    "outputId": "1baceccb-8eb9-438b-c78e-37d0539a52b1"
   },
   "outputs": [],
   "source": [
    "# Fetch the Keras session and save the model\n",
    "# The signature definition is defined by the input and output tensors,\n",
    "# and stored with the default serving key\n",
    "'''\n",
    "import tempfile\n",
    "\n",
    "MODEL_DIR = tempfile.gettempdir()\n",
    "version = 1\n",
    "export_path = os.path.join(MODEL_DIR, str(version))\n",
    "print('export_path = {}\\n'.format(export_path))\n",
    "\n",
    "tf.keras.models.save_model(\n",
    "    model,\n",
    "    export_path,\n",
    "    overwrite=True,\n",
    "    include_optimizer=True,\n",
    "    save_format=None,\n",
    "    signatures=None,\n",
    "    options=None\n",
    ")\n",
    "\n",
    "print('\\nSaved model:')\n",
    "!ls -l {export_path}\n",
    "'''"
   ]
  },
  {
   "cell_type": "code",
   "execution_count": 81,
   "metadata": {
    "id": "tGR4rqWiTFFb"
   },
   "outputs": [],
   "source": [
    "def get_final_df_min_profit(model, data, hurdle=0):\n",
    "    \"\"\"\n",
    "    This function takes the `model` and `data` dict to \n",
    "    construct a final dataframe that includes the features along \n",
    "    with true and predicted prices of the testing dataset\n",
    "    If the change predicted is less than the 'hurdle' you will not do the trade.\n",
    "    \"\"\"\n",
    "    # if predicted future price is higher than the current, \n",
    "    # then calculate the true future price minus the current price, to get the buy profit\n",
    "    #buy_profit  = lambda current, pred_future, true_future: true_future - current if pred_future > current else 0\n",
    "    buy_profit  = lambda current, pred_future, true_future: true_future - current if (pred_future - current)/current > hurdle else 0\n",
    "\n",
    "    # if the predicted future price is lower than the current price,\n",
    "    # then subtract the true future price from the current price\n",
    "    #sell_profit = lambda current, pred_future, true_future: current - true_future if pred_future < current else 0\n",
    "    sell_profit = lambda current, pred_future, true_future: current - true_future if (pred_future - current)/current < -hurdle else 0\n",
    "    \n",
    "    #buy_profit_percent  = lambda current, pred_future, true_future: (true_future - current) / current if pred_future > current else 0\n",
    "    #sell_profit_percent = lambda current, pred_future, true_future: (current - true_future) / current if pred_future < current else 0\n",
    "    buy_profit_percent  = lambda current, pred_future, true_future: (true_future - current) / current if (pred_future - current)/current > hurdle else 0\n",
    "    sell_profit_percent = lambda current, pred_future, true_future: (current - true_future) / current if (pred_future - current)/current < -hurdle else 0\n",
    "    \n",
    "    X_test = data[\"X_test\"]\n",
    "    y_test = data[\"y_test\"]\n",
    "    # perform prediction and get prices\n",
    "    y_pred = model.predict(X_test)\n",
    "    if SCALE:\n",
    "        y_test = np.squeeze(data[\"column_scaler\"][\"close\"].inverse_transform(np.expand_dims(y_test, axis=0)))\n",
    "        y_pred = np.squeeze(data[\"column_scaler\"][\"close\"].inverse_transform(y_pred))\n",
    "    test_df = data[\"test_df\"]\n",
    "    # add predicted future prices to the dataframe\n",
    "    test_df[f\"close_{LOOKUP_STEP}\"] = y_pred\n",
    "    # add true future prices to the dataframe\n",
    "    test_df[f\"true_close_{LOOKUP_STEP}\"] = y_test\n",
    "    # sort the dataframe by date\n",
    "    test_df.sort_index(inplace=True)\n",
    "    final_df = test_df\n",
    "    # add the buy profit column\n",
    "    final_df[\"buy_profit\"] = list(map(buy_profit, \n",
    "                                    final_df[\"close\"], \n",
    "                                    final_df[f\"close_{LOOKUP_STEP}\"], \n",
    "                                    final_df[f\"true_close_{LOOKUP_STEP}\"])\n",
    "                                    # since we don't have profit for last sequence, add 0's\n",
    "                                    )\n",
    "    # add the sell profit column\n",
    "    final_df[\"sell_profit\"] = list(map(sell_profit, \n",
    "                                    final_df[\"close\"], \n",
    "                                    final_df[f\"close_{LOOKUP_STEP}\"], \n",
    "                                    final_df[f\"true_close_{LOOKUP_STEP}\"])\n",
    "                                    # since we don't have profit for last sequence, add 0's\n",
    "                                    )\n",
    "    # add the buy profit column\n",
    "    final_df[\"buy_profit_percent\"] = list(map(buy_profit_percent, \n",
    "                                    final_df[\"close\"], \n",
    "                                    final_df[f\"close_{LOOKUP_STEP}\"], \n",
    "                                    final_df[f\"true_close_{LOOKUP_STEP}\"])\n",
    "                                    # since we don't have profit for last sequence, add 0's\n",
    "                                    )\n",
    "    # add the sell profit column\n",
    "    final_df[\"sell_profit_percent\"] = list(map(sell_profit_percent, \n",
    "                                    final_df[\"close\"], \n",
    "                                    final_df[f\"close_{LOOKUP_STEP}\"], \n",
    "                                    final_df[f\"true_close_{LOOKUP_STEP}\"])\n",
    "                                    # since we don't have profit for last sequence, add 0's\n",
    "                                    )\n",
    "    \n",
    "    final_df['predicted_diff'] = (final_df[f\"close_{LOOKUP_STEP}\"] - final_df['close']) / final_df['close']\n",
    "\n",
    "    money = 100\n",
    "    max_money = 100\n",
    "    min_money = 100\n",
    "\n",
    "    for i, row in final_df.iterrows():\n",
    "        money = money * (1 + row.buy_profit_percent)\n",
    "        final_df.at[i, 'running_buy_total'] = money\n",
    "        if money > max_money:\n",
    "            max_money = money\n",
    "        elif money < min_money:\n",
    "            min_money = money\n",
    "    print(f\"BUYING End Money: {money:.2f}     Max Money: {max_money:0.2f}     Min Money: {min_money:0.2f}\")\n",
    "\n",
    "    money = 100\n",
    "    max_money = 100\n",
    "    min_money = 100\n",
    "\n",
    "    for i, row in final_df.iterrows():\n",
    "        money = money * (1 + row.sell_profit_percent)\n",
    "        final_df.at[i, 'running_sell_total'] = money\n",
    "        if money > max_money:\n",
    "            max_money = money\n",
    "        elif money < min_money:\n",
    "            min_money = money\n",
    "    print(f\"SELLING End Money: {money:.2f}     Max Money: {max_money:0.2f}     Min Money: {min_money:0.2f}\")\n",
    "\n",
    "    return final_df"
   ]
  },
  {
   "cell_type": "code",
   "execution_count": 156,
   "metadata": {
    "id": "VW0j4ChhTFFb"
   },
   "outputs": [],
   "source": [
    "def Test_On_File(file_name, hurdle=0):\n",
    "    TEST_SIZE = 0.9999\n",
    "\n",
    "    # set seed, so we can get the same results after rerunning several times\n",
    "    np.random.seed(315)\n",
    "    tf.random.set_seed(315)\n",
    "    random.seed(315)\n",
    "\n",
    "    # create these folders if they does not exist\n",
    "    if not os.path.isdir(\"results\"):\n",
    "        os.mkdir(\"results\")\n",
    "\n",
    "    if not os.path.isdir(\"logs\"):\n",
    "        os.mkdir(\"logs\")\n",
    "\n",
    "    if not os.path.isdir(\"data\"):\n",
    "        os.mkdir(\"data\")\n",
    "    print(\"One\")\n",
    "    # load the data\n",
    "    data = load_data(ticker, N_STEPS, scale=SCALE, split_by_date=SPLIT_BY_DATE, \n",
    "                    shuffle=SHUFFLE, lookup_step=LOOKUP_STEP, test_size=TEST_SIZE, \n",
    "                    feature_columns=FEATURE_COLUMNS, multiyear=False, file_name=MY_PATH + 'archive/' + file_name)\n",
    "    print(\"Two\")\n",
    "    # save the dataframe\n",
    "    data[\"df\"].to_csv(ticker_data_filename)\n",
    "    print(\"Three\")\n",
    "    '''\n",
    "    # construct the model\n",
    "    model = create_model(N_STEPS, len(FEATURE_COLUMNS), loss=LOSS, units=UNITS, cell=CELL, n_layers=N_LAYERS,\n",
    "                        dropout=DROPOUT, optimizer=OPTIMIZER, bidirectional=BIDIRECTIONAL)\n",
    "\n",
    "    print(\"--------------------\")\n",
    "    print(model.summary())\n",
    "    print(\"--------------------\")\n",
    "    print()\n",
    "    '''\n",
    "    # load optimal model weights from results folder\n",
    "    model_path = os.path.join(MY_PATH + \"results\", model_name) + \".h5\"\n",
    "\n",
    "    # put custom path for model weights here\n",
    "    #model_path = \"results/2021-06-06_BTC-sh-1-sc-1-sbd-0-huber_loss-adam-LSTM-seq-20-step-5-layers-2-units-256-epochs-5-batchsize-128-dropout-30-b.h5\"\n",
    "\n",
    "    model.load_weights(model_path)\n",
    "\n",
    "    # evaluate the model\n",
    "    loss, mae, mse = model.evaluate(data[\"X_test\"], data[\"y_test\"], verbose=0)\n",
    "    # calculate the mean absolute error (inverse scaling)\n",
    "    if SCALE:\n",
    "        mean_absolute_error = data[\"column_scaler\"][\"close\"].inverse_transform([[mae]])[0][0]\n",
    "        mean_standard_error = data[\"column_scaler\"][\"close\"].inverse_transform([[mse]])[0][0]\n",
    "    else:\n",
    "        mean_absolute_error = mae\n",
    "        mean_standard_error = mse\n",
    "\n",
    "    # get the final dataframe for the testing set\n",
    "    final_df = get_final_df_min_profit(model, data, hurdle)\n",
    "\n",
    "    # predict the future price\n",
    "    future_price = predict(model, data)\n",
    "\n",
    "    # we calculate the accuracy by counting the number of positive profits\n",
    "    accuracy_score = (len(final_df[final_df['sell_profit'] > 0]) + len(final_df[final_df['buy_profit'] > 0])) / len(final_df)\n",
    "    percent_buys = (len(final_df[final_df['buy_profit'] > 0]) + len(final_df[final_df['buy_profit'] < 0])) / len(final_df)\n",
    "    percent_sells = (len(final_df[final_df['sell_profit'] > 0]) + len(final_df[final_df['sell_profit'] < 0])) / len(final_df)\n",
    "    # calculating total buy & sell profit\n",
    "    total_buy_profit  = final_df[\"buy_profit\"].sum()\n",
    "    total_sell_profit = final_df[\"sell_profit\"].sum()\n",
    "    total_buy_profit_percent  = final_df[\"buy_profit_percent\"].sum()\n",
    "    total_sell_profit_percent = final_df[\"sell_profit_percent\"].sum()\n",
    "    # total profit by adding sell & buy together\n",
    "    total_profit = total_buy_profit + total_sell_profit\n",
    "    total_profit_percent = total_buy_profit_percent + total_sell_profit_percent\n",
    "    # dividing total profit by number of testing samples (number of trades)\n",
    "    profit_per_trade = total_profit / len(final_df)\n",
    "    profit_per_trade_percent = total_profit_percent / len(final_df)\n",
    "    num_trades = len(final_df)\n",
    "    percent_profitable_buys = len(final_df[final_df['buy_profit'] > 0]) / (len(final_df[final_df['buy_profit'] > 0]) + len(final_df[final_df['buy_profit'] < 0]))\n",
    "    percent_profitable_sell = len(final_df[final_df['sell_profit'] > 0]) / (len(final_df[final_df['sell_profit'] > 0]) + len(final_df[final_df['sell_profit'] < 0]))\n",
    "    \n",
    "    \n",
    "    # printing metrics\n",
    "    print(f\"Future price after {LOOKUP_STEP} time periods is ${future_price}\")\n",
    "    print(f\"{LOSS} loss: {loss}\")\n",
    "    #print(f\"Mean Absolute Error:\", mean_absolute_error)\n",
    "    print(f\"Mean Squared Error: {mean_standard_error:.4f}\")\n",
    "    print(f\"Accuracy score: {accuracy_score:.4f}\")\n",
    "    print(f\"Percent of buys: {percent_buys:.4f}\")\n",
    "    print(f\"Percent of sells: {percent_sells:.4f}\")\n",
    "    print(f\"Total buy profit: {total_buy_profit:.4f}\")\n",
    "    print(f\"Total sell profit: {total_sell_profit:.4f}\")\n",
    "    print(f\"Percent profitable buys: {percent_profitable_buys:.4f}\")\n",
    "    print(f\"Percent profitable sells: {percent_profitable_sells:.4f}\")\n",
    "    print(f\"Total buy profit %: {total_buy_profit_percent:.4f}\")\n",
    "    print(f\"Total sell profit %: {total_sell_profit_percent:.4f}\")\n",
    "    print(f\"Total profit: {total_profit:.4f}\")\n",
    "    print(f\"Total profit %: {total_profit_percent:.4f}\")\n",
    "    print(f\"Profit per trade: {profit_per_trade:.9f}\")\n",
    "    print(f\"Profit per trade %: {profit_per_trade_percent:.9f}\")\n",
    "    print(f\"Possible Number of trades: {num_trades}\")\n",
    "    print(f\"Number of trades: {(percent_buys + percent_sells) * num_trades}\")\n",
    "    print(f\"Steps: {N_STEPS}  Lookup Steps: {LOOKUP_STEP}   Testsize: {TEST_SIZE}   Layers: {N_LAYERS}\")\n",
    "    print(f\"Epochs: {EPOCHS}   Batchsize: {BATCH_SIZE}  Bidirectional: {BIDIRECTIONAL}\")\n",
    "    print(f\"Filename: {file_name}\")\n",
    "    print(f\"Model Name: {model_name}\")\n",
    "    print()\n",
    "\n",
    "    '''\n",
    "    money = 100\n",
    "    max_money = 100\n",
    "    min_money = 100\n",
    "    buy_count = 0\n",
    "    stand_count = 0\n",
    "\n",
    "    for i in final_df.buy_profit_percent:\n",
    "        if i != 0:\n",
    "            buy_count += 1\n",
    "            stand_count -= 1\n",
    "        else:\n",
    "            stand_count += 1\n",
    "        money = money * (1 + i)\n",
    "        if money > max_money:\n",
    "            max_money = money\n",
    "        elif money < min_money:\n",
    "            min_money = money\n",
    "\n",
    "    print(f\"BUYING End Money: {money:.2f}     Max Money: {max_money:0.2f}     Min Money: {min_money:0.2f}\")\n",
    "\n",
    "    money = 100\n",
    "    max_money = 100\n",
    "    min_money = 100\n",
    "    sell_count = 0\n",
    "\n",
    "    for i in final_df.sell_profit_percent:\n",
    "        if i != 0:\n",
    "            sell_count += 1\n",
    "            stand_count -= 1\n",
    "        else:\n",
    "            stand_count += 1\n",
    "        money = money * (1 + i)\n",
    "        if money > max_money:\n",
    "            max_money = money\n",
    "        elif money < min_money:\n",
    "            min_money = money\n",
    "    print(f\"SHORTING End Money: {money:.2f}     Max Money: {max_money:0.2f}     Min Money: {min_money:0.2f}\")\n",
    "\n",
    "    print(f\"{buy_count} Buys     {sell_count} Sells     {stand_count} Passes\")\n",
    "    '''\n",
    "    # plot true/pred prices graph\n",
    "    plot_graph(final_df)\n",
    "\n",
    "    #print(final_df.hist('predicted_diff', bins=100))\n",
    "    final_df.running_buy_total.plot()\n",
    "    #print(final_df.running_sell_total.plot())\n",
    "    \n",
    "    return final_df"
   ]
  },
  {
   "cell_type": "code",
   "execution_count": 83,
   "metadata": {
    "colab": {
     "base_uri": "https://localhost:8080/",
     "height": 1000
    },
    "id": "nFSYXLDD04fb",
    "outputId": "938e05c8-bc44-48e1-ce2e-94f4902b0b65"
   },
   "outputs": [
    {
     "name": "stdout",
     "output_type": "stream",
     "text": [
      "One\n",
      "              date       low      high      open     close     volume\n",
      "0       1609459200  28913.12  28961.66  28923.63  28961.66  27.457032\n",
      "1       1609459260  28961.01  29017.50  28961.67  29009.91  58.477501\n",
      "2       1609459320  28973.58  29016.71  29009.54  28989.30  42.470329\n",
      "3       1609459380  28972.33  28999.85  28989.68  28982.69  30.360677\n",
      "4       1609459440  28971.80  28995.93  28982.67  28975.65  24.124339\n",
      "...            ...       ...       ...       ...       ...        ...\n",
      "188066  1620779100  56877.58  56952.58  56836.73  56936.72  34.775288\n",
      "188067  1620779160  56936.73  57005.57  56936.72  56985.32  36.081370\n",
      "188068  1620779220  56985.33  57009.97  56950.00  56995.56  43.744229\n",
      "188069  1620779280  56995.56  57007.94  56966.09  56980.00  38.086665\n",
      "188070  1620779340  56980.00  56998.00  56930.45  56985.68  33.428374\n",
      "\n",
      "[188071 rows x 6 columns]\n",
      "Two\n",
      "Three\n",
      "BUYING End Money: 2498.50     Max Money: 2617.44     Min Money: 76.69\n",
      "SELLING End Money: 44.30     Max Money: 103.79     Min Money: 21.49\n",
      "shape:     (20, 1)\n",
      "Future price after 5 time periods is 56964.06640625$\n",
      "huber_loss loss: 1.39016219691257e-05\n",
      "Mean Squared Error: 28236.4866\n",
      "Accuracy score: 0.0639\n",
      "Percent of buys: 0.0631\n",
      "Percent of sells: 0.0538\n",
      "Total buy profit: 147133.4400\n",
      "Total sell profit: -10646.9100\n",
      "Percent profitable buys: 0.5507\n",
      "Percent profitable sells: 0.5402\n",
      "Total buy profit %: 3.4536\n",
      "Total sell profit %: -0.6915\n",
      "Total profit: 136486.5300\n",
      "Total profit %: 2.7621\n",
      "Profit per trade: 0.7259\n",
      "Profit per trade %: 0.0000\n",
      "Possible Number of trades: 188029\n",
      "Number of trades: 21977.0\n",
      "Steps: 20  Lookup Steps: 5   Testsize: 0.9999   Layers: 2\n",
      "Epochs: 20   Batchsize: 128  Bidirectional: True\n",
      "Filename: BTCUSDT_2021.csv\n",
      "Model Name: 2021-08-07_BTC-sh-1-sc-1-sbd-0-huber_loss-adam-LSTM-seq-20-step-5-layers-2-units-128-epochs-20-batchsize-128-dropout-30-b\n",
      "\n"
     ]
    },
    {
     "data": {
      "image/png": "[encoded data removed]",
      "text/plain": [
       "<Figure size 432x288 with 1 Axes>"
      ]
     },
     "metadata": {
      "needs_background": "light"
     },
     "output_type": "display_data"
    },
    {
     "data": {
      "image/png": "[encoded data removed]",
      "text/plain": [
       "<Figure size 432x288 with 1 Axes>"
      ]
     },
     "metadata": {
      "needs_background": "light"
     },
     "output_type": "display_data"
    }
   ],
   "source": [
    "a4 = Test_On_File('BTCUSDT_2021.csv', hurdle=0.004)"
   ]
  },
  {
   "cell_type": "code",
   "execution_count": 84,
   "metadata": {
    "colab": {
     "base_uri": "https://localhost:8080/",
     "height": 1000
    },
    "id": "VeNIONPaTFFb",
    "outputId": "36b6ccd5-d629-416b-98ed-318e5b1bc95f"
   },
   "outputs": [
    {
     "name": "stdout",
     "output_type": "stream",
     "text": [
      "One\n",
      "              date       low      high      open     close     volume\n",
      "0       1609459200  28913.12  28961.66  28923.63  28961.66  27.457032\n",
      "1       1609459260  28961.01  29017.50  28961.67  29009.91  58.477501\n",
      "2       1609459320  28973.58  29016.71  29009.54  28989.30  42.470329\n",
      "3       1609459380  28972.33  28999.85  28989.68  28982.69  30.360677\n",
      "4       1609459440  28971.80  28995.93  28982.67  28975.65  24.124339\n",
      "...            ...       ...       ...       ...       ...        ...\n",
      "188066  1620779100  56877.58  56952.58  56836.73  56936.72  34.775288\n",
      "188067  1620779160  56936.73  57005.57  56936.72  56985.32  36.081370\n",
      "188068  1620779220  56985.33  57009.97  56950.00  56995.56  43.744229\n",
      "188069  1620779280  56995.56  57007.94  56966.09  56980.00  38.086665\n",
      "188070  1620779340  56980.00  56998.00  56930.45  56985.68  33.428374\n",
      "\n",
      "[188071 rows x 6 columns]\n",
      "Two\n",
      "Three\n",
      "BUYING End Money: 18380.12     Max Money: 19367.66     Min Money: 76.17\n",
      "SELLING End Money: 165.32     Max Money: 166.21     Min Money: 12.48\n",
      "shape:     (20, 1)\n",
      "Future price after 5 time periods is 56964.06640625$\n",
      "huber_loss loss: 1.39016219691257e-05\n",
      "Mean Squared Error: 28236.4866\n",
      "Accuracy score: 0.1824\n",
      "Percent of buys: 0.1632\n",
      "Percent of sells: 0.1717\n",
      "Total buy profit: 253336.3600\n",
      "Total sell profit: 77779.6200\n",
      "Percent profitable buys: 0.5440\n",
      "Percent profitable sells: 0.5402\n",
      "Total buy profit %: 5.5742\n",
      "Total sell profit %: 0.7329\n",
      "Total profit: 331115.9800\n",
      "Total profit %: 6.3071\n",
      "Profit per trade: 1.7610\n",
      "Profit per trade %: 0.0000\n",
      "Possible Number of trades: 188029\n",
      "Number of trades: 62972.0\n",
      "Steps: 20  Lookup Steps: 5   Testsize: 0.9999   Layers: 2\n",
      "Epochs: 20   Batchsize: 128  Bidirectional: True\n",
      "Filename: BTCUSDT_2021.csv\n",
      "Model Name: 2021-08-07_BTC-sh-1-sc-1-sbd-0-huber_loss-adam-LSTM-seq-20-step-5-layers-2-units-128-epochs-20-batchsize-128-dropout-30-b\n",
      "\n"
     ]
    },
    {
     "data": {
      "image/png": "[encoded data removed]",
      "text/plain": [
       "<Figure size 432x288 with 1 Axes>"
      ]
     },
     "metadata": {
      "needs_background": "light"
     },
     "output_type": "display_data"
    },
    {
     "data": {
      "image/png": "[encoded data removed]",
      "text/plain": [
       "<Figure size 432x288 with 1 Axes>"
      ]
     },
     "metadata": {
      "needs_background": "light"
     },
     "output_type": "display_data"
    }
   ],
   "source": [
    "a2 = Test_On_File('BTCUSDT_2021.csv', hurdle=0.002)"
   ]
  },
  {
   "cell_type": "code",
   "execution_count": 85,
   "metadata": {
    "colab": {
     "base_uri": "https://localhost:8080/",
     "height": 1000
    },
    "id": "l2Nf1Fyz0U1S",
    "outputId": "30f5bc47-ba5e-4bd4-b215-acf411cfc54e"
   },
   "outputs": [
    {
     "name": "stdout",
     "output_type": "stream",
     "text": [
      "One\n",
      "              date       low      high      open     close     volume\n",
      "0       1609459200  28913.12  28961.66  28923.63  28961.66  27.457032\n",
      "1       1609459260  28961.01  29017.50  28961.67  29009.91  58.477501\n",
      "2       1609459320  28973.58  29016.71  29009.54  28989.30  42.470329\n",
      "3       1609459380  28972.33  28999.85  28989.68  28982.69  30.360677\n",
      "4       1609459440  28971.80  28995.93  28982.67  28975.65  24.124339\n",
      "...            ...       ...       ...       ...       ...        ...\n",
      "188066  1620779100  56877.58  56952.58  56836.73  56936.72  34.775288\n",
      "188067  1620779160  56936.73  57005.57  56936.72  56985.32  36.081370\n",
      "188068  1620779220  56985.33  57009.97  56950.00  56995.56  43.744229\n",
      "188069  1620779280  56995.56  57007.94  56966.09  56980.00  38.086665\n",
      "188070  1620779340  56980.00  56998.00  56930.45  56985.68  33.428374\n",
      "\n",
      "[188071 rows x 6 columns]\n",
      "Two\n",
      "Three\n",
      "BUYING End Money: 80462.46     Max Money: 80462.46     Min Money: 75.11\n",
      "SELLING End Money: 171.86     Max Money: 176.90     Min Money: 9.68\n",
      "shape:     (20, 1)\n",
      "Future price after 5 time periods is 56964.06640625$\n",
      "huber_loss loss: 1.39016219691257e-05\n",
      "Mean Squared Error: 28236.4866\n",
      "Accuracy score: 0.3228\n",
      "Percent of buys: 0.2744\n",
      "Percent of sells: 0.3256\n",
      "Total buy profit: 332873.4400\n",
      "Total sell profit: 88954.5400\n",
      "Percent profitable buys: 0.5413\n",
      "Percent profitable sells: 0.5402\n",
      "Total buy profit %: 7.1437\n",
      "Total sell profit %: 0.8679\n",
      "Total profit: 421827.9800\n",
      "Total profit %: 8.0116\n",
      "Profit per trade: 2.2434\n",
      "Profit per trade %: 0.0000\n",
      "Possible Number of trades: 188029\n",
      "Number of trades: 112808.00000000001\n",
      "Steps: 20  Lookup Steps: 5   Testsize: 0.9999   Layers: 2\n",
      "Epochs: 20   Batchsize: 128  Bidirectional: True\n",
      "Filename: BTCUSDT_2021.csv\n",
      "Model Name: 2021-08-07_BTC-sh-1-sc-1-sbd-0-huber_loss-adam-LSTM-seq-20-step-5-layers-2-units-128-epochs-20-batchsize-128-dropout-30-b\n",
      "\n"
     ]
    },
    {
     "data": {
      "image/png": "[encoded data removed]",
      "text/plain": [
       "<Figure size 432x288 with 1 Axes>"
      ]
     },
     "metadata": {
      "needs_background": "light"
     },
     "output_type": "display_data"
    },
    {
     "data": {
      "image/png": "[encoded data removed]",
      "text/plain": [
       "<Figure size 432x288 with 1 Axes>"
      ]
     },
     "metadata": {
      "needs_background": "light"
     },
     "output_type": "display_data"
    }
   ],
   "source": [
    "a1 = Test_On_File('BTCUSDT_2021.csv', hurdle=0.001)"
   ]
  },
  {
   "cell_type": "code",
   "execution_count": 158,
   "metadata": {
    "colab": {
     "base_uri": "https://localhost:8080/",
     "height": 1000
    },
    "id": "-HrenOr3cW-n",
    "outputId": "5dd506be-ec30-414b-a549-0c485c6dcb50"
   },
   "outputs": [
    {
     "name": "stdout",
     "output_type": "stream",
     "text": [
      "One\n",
      "              date       low      high      open     close     volume\n",
      "0       1609459200  28913.12  28961.66  28923.63  28961.66  27.457032\n",
      "1       1609459260  28961.01  29017.50  28961.67  29009.91  58.477501\n",
      "2       1609459320  28973.58  29016.71  29009.54  28989.30  42.470329\n",
      "3       1609459380  28972.33  28999.85  28989.68  28982.69  30.360677\n",
      "4       1609459440  28971.80  28995.93  28982.67  28975.65  24.124339\n",
      "...            ...       ...       ...       ...       ...        ...\n",
      "188066  1620779100  56877.58  56952.58  56836.73  56936.72  34.775288\n",
      "188067  1620779160  56936.73  57005.57  56936.72  56985.32  36.081370\n",
      "188068  1620779220  56985.33  57009.97  56950.00  56995.56  43.744229\n",
      "188069  1620779280  56995.56  57007.94  56966.09  56980.00  38.086665\n",
      "188070  1620779340  56980.00  56998.00  56930.45  56985.68  33.428374\n",
      "\n",
      "[188071 rows x 6 columns]\n",
      "Two\n",
      "Three\n",
      "BUYING End Money: 25152.35     Max Money: 25152.35     Min Money: 73.55\n",
      "SELLING End Money: 345.93     Max Money: 360.02     Min Money: 11.29\n",
      "shape:     (20, 1)\n",
      "Future price after 5 time periods is $56964.06640625\n",
      "huber_loss loss: 1.39016219691257e-05\n",
      "Mean Squared Error: 28236.4866\n",
      "Accuracy score: 0.5253\n",
      "Percent of buys: 0.4567\n",
      "Percent of sells: 0.5427\n",
      "Total buy profit: 282444.5000\n",
      "Total sell profit: 142367.2700\n",
      "Percent profitable buys: 0.5264\n",
      "Percent profitable sells: 0.5249\n",
      "Total buy profit %: 6.0961\n",
      "Total sell profit %: 1.6878\n",
      "Total profit: 424811.7700\n",
      "Total profit %: 7.7839\n",
      "Profit per trade: 2.259288567\n",
      "Profit per trade %: 0.000041397\n",
      "Possible Number of trades: 188029\n",
      "Number of trades: 187920.0\n",
      "Steps: 20  Lookup Steps: 5   Testsize: 0.9999   Layers: 2\n",
      "Epochs: 20   Batchsize: 128  Bidirectional: True\n",
      "Filename: BTCUSDT_2021.csv\n",
      "Model Name: 2021-08-07_BTC-sh-1-sc-1-sbd-0-huber_loss-adam-LSTM-seq-20-step-5-layers-2-units-128-epochs-20-batchsize-128-dropout-30-b\n",
      "\n"
     ]
    },
    {
     "data": {
      "image/png": "[encoded data removed]",
      "text/plain": [
       "<Figure size 432x288 with 1 Axes>"
      ]
     },
     "metadata": {
      "needs_background": "light"
     },
     "output_type": "display_data"
    },
    {
     "data": {
      "image/png": "[encoded data removed]",
      "text/plain": [
       "<Figure size 432x288 with 1 Axes>"
      ]
     },
     "metadata": {
      "needs_background": "light"
     },
     "output_type": "display_data"
    }
   ],
   "source": [
    "a0 = Test_On_File('BTCUSDT_2021.csv', hurdle=0)"
   ]
  },
  {
   "cell_type": "code",
   "execution_count": 159,
   "metadata": {
    "colab": {
     "base_uri": "https://localhost:8080/",
     "height": 1000
    },
    "id": "uqav1NItfsKc",
    "outputId": "a75eeffc-1978-47cc-8c19-b2618d0f4c91"
   },
   "outputs": [
    {
     "name": "stdout",
     "output_type": "stream",
     "text": [
      "One\n",
      "                unix           date   symbol         open         high  \\\n",
      "0       1.609460e+12  1/1/2021 0:00  BTC/USD  28939.00000  28968.00000   \n",
      "1       1.609460e+12  1/1/2021 0:01  BTC/USD  28967.00000  29033.00000   \n",
      "2       1.609460e+12  1/1/2021 0:02  BTC/USD  29020.00000  29021.00000   \n",
      "3       1.609460e+12  1/1/2021 0:03  BTC/USD  28992.27007  29000.00000   \n",
      "4       1.609460e+12  1/1/2021 0:04  BTC/USD  28988.00000  28993.00000   \n",
      "...              ...            ...      ...          ...          ...   \n",
      "305454  1.628140e+12  8/5/2021 6:08  BTC/USD  39319.00000  39363.00000   \n",
      "305455  1.628140e+12  8/5/2021 6:09  BTC/USD  39360.57135  39361.00000   \n",
      "305456  1.628140e+12  8/5/2021 6:10  BTC/USD  39356.40297  39356.40297   \n",
      "305457  1.628140e+12  8/5/2021 6:11  BTC/USD  39325.00000  39325.00000   \n",
      "305458  1.628140e+12  8/5/2021 6:12  BTC/USD  39317.00000  39317.00000   \n",
      "\n",
      "                low        close     Volume USD  Volume BTC  \n",
      "0       28927.00000  28965.00000  236654.879700    8.170374  \n",
      "1       28967.00000  29018.00000  342142.164700   11.790687  \n",
      "2       28981.27612  28987.38387   72915.977930    2.515438  \n",
      "3       28973.00000  28991.00000   65347.487090    2.254061  \n",
      "4       28986.16232  28988.00000   44547.714830    1.536764  \n",
      "...             ...          ...            ...         ...  \n",
      "305454  39319.00000  39359.18189   27915.400570    0.709247  \n",
      "305455  39346.67676  39350.84514    6787.140508    0.172478  \n",
      "305456  39331.76412  39332.47566   19565.691830    0.497444  \n",
      "305457  39313.00000  39317.00000    9250.876878    0.235289  \n",
      "305458  39312.00000  39312.00000    5251.935387    0.133596  \n",
      "\n",
      "[305459 rows x 9 columns]\n",
      "Two\n",
      "Three\n",
      "BUYING End Money: 331.14     Max Money: 2732.20     Min Money: 59.44\n",
      "SELLING End Money: 17.05     Max Money: 106.61     Min Money: 4.26\n",
      "shape:     (20, 1)\n",
      "Future price after 5 time periods is $39358.5703125\n",
      "huber_loss loss: 1.3356398994801566e-05\n",
      "Mean Squared Error: 28582.9672\n",
      "Accuracy score: 0.5183\n",
      "Percent of buys: 0.5191\n",
      "Percent of sells: 0.4765\n",
      "Total buy profit: 84869.0974\n",
      "Total sell profit: 32225.4506\n",
      "Percent profitable buys: 0.5185\n",
      "Percent profitable sells: 0.5249\n",
      "Total buy profit %: 2.1892\n",
      "Total sell profit %: -1.0612\n",
      "Total profit: 117094.5480\n",
      "Total profit %: 1.1280\n",
      "Profit per trade: 0.383407436\n",
      "Profit per trade %: 0.000003693\n",
      "Possible Number of trades: 305405\n",
      "Number of trades: 304052.0\n",
      "Steps: 20  Lookup Steps: 5   Testsize: 0.9999   Layers: 2\n",
      "Epochs: 20   Batchsize: 128  Bidirectional: True\n",
      "Filename: Bitfinex_BTCUSD_minute2021.csv\n",
      "Model Name: 2021-08-07_BTC-sh-1-sc-1-sbd-0-huber_loss-adam-LSTM-seq-20-step-5-layers-2-units-128-epochs-20-batchsize-128-dropout-30-b\n",
      "\n"
     ]
    },
    {
     "data": {
      "image/png": "[encoded data removed]",
      "text/plain": [
       "<Figure size 432x288 with 1 Axes>"
      ]
     },
     "metadata": {
      "needs_background": "light"
     },
     "output_type": "display_data"
    },
    {
     "data": {
      "image/png": "[encoded data removed]",
      "text/plain": [
       "<Figure size 432x288 with 1 Axes>"
      ]
     },
     "metadata": {
      "needs_background": "light"
     },
     "output_type": "display_data"
    }
   ],
   "source": [
    "b0 = Test_On_File('Bitfinex_BTCUSD_minute2021.csv', hurdle=0)"
   ]
  },
  {
   "cell_type": "code",
   "execution_count": 88,
   "metadata": {
    "colab": {
     "base_uri": "https://localhost:8080/",
     "height": 1000
    },
    "id": "Jp0hmPIEgjJi",
    "outputId": "7aa3d573-892f-496c-e837-b16fd38fcdbe"
   },
   "outputs": [
    {
     "name": "stdout",
     "output_type": "stream",
     "text": [
      "One\n",
      "                unix           date   symbol         open         high  \\\n",
      "0       1.609460e+12  1/1/2021 0:00  BTC/USD  28939.00000  28968.00000   \n",
      "1       1.609460e+12  1/1/2021 0:01  BTC/USD  28967.00000  29033.00000   \n",
      "2       1.609460e+12  1/1/2021 0:02  BTC/USD  29020.00000  29021.00000   \n",
      "3       1.609460e+12  1/1/2021 0:03  BTC/USD  28992.27007  29000.00000   \n",
      "4       1.609460e+12  1/1/2021 0:04  BTC/USD  28988.00000  28993.00000   \n",
      "...              ...            ...      ...          ...          ...   \n",
      "305454  1.628140e+12  8/5/2021 6:08  BTC/USD  39319.00000  39363.00000   \n",
      "305455  1.628140e+12  8/5/2021 6:09  BTC/USD  39360.57135  39361.00000   \n",
      "305456  1.628140e+12  8/5/2021 6:10  BTC/USD  39356.40297  39356.40297   \n",
      "305457  1.628140e+12  8/5/2021 6:11  BTC/USD  39325.00000  39325.00000   \n",
      "305458  1.628140e+12  8/5/2021 6:12  BTC/USD  39317.00000  39317.00000   \n",
      "\n",
      "                low        close     Volume USD  Volume BTC  \n",
      "0       28927.00000  28965.00000  236654.879700    8.170374  \n",
      "1       28967.00000  29018.00000  342142.164700   11.790687  \n",
      "2       28981.27612  28987.38387   72915.977930    2.515438  \n",
      "3       28973.00000  28991.00000   65347.487090    2.254061  \n",
      "4       28986.16232  28988.00000   44547.714830    1.536764  \n",
      "...             ...          ...            ...         ...  \n",
      "305454  39319.00000  39359.18189   27915.400570    0.709247  \n",
      "305455  39346.67676  39350.84514    6787.140508    0.172478  \n",
      "305456  39331.76412  39332.47566   19565.691830    0.497444  \n",
      "305457  39313.00000  39317.00000    9250.876878    0.235289  \n",
      "305458  39312.00000  39312.00000    5251.935387    0.133596  \n",
      "\n",
      "[305459 rows x 9 columns]\n",
      "Two\n",
      "Three\n",
      "BUYING End Money: 4784.52     Max Money: 6804.39     Min Money: 68.59\n",
      "SELLING End Money: 78.31     Max Money: 100.00     Min Money: 8.55\n",
      "shape:     (20, 1)\n",
      "Future price after 5 time periods is 39358.5703125$\n",
      "huber_loss loss: 1.3356398994801566e-05\n",
      "Mean Squared Error: 28582.9672\n",
      "Accuracy score: 0.1787\n",
      "Percent of buys: 0.1830\n",
      "Percent of sells: 0.1483\n",
      "Total buy profit: 193559.5552\n",
      "Total sell profit: 39565.4400\n",
      "Percent profitable buys: 0.5371\n",
      "Percent profitable sells: 0.5402\n",
      "Total buy profit %: 4.5164\n",
      "Total sell profit %: 0.1363\n",
      "Total profit: 233124.9952\n",
      "Total profit %: 4.6527\n",
      "Profit per trade: 0.7633\n",
      "Profit per trade %: 0.0000\n",
      "Possible Number of trades: 305405\n",
      "Number of trades: 101173.99999999999\n",
      "Steps: 20  Lookup Steps: 5   Testsize: 0.9999   Layers: 2\n",
      "Epochs: 20   Batchsize: 128  Bidirectional: True\n",
      "Filename: Bitfinex_BTCUSD_minute2021.csv\n",
      "Model Name: 2021-08-07_BTC-sh-1-sc-1-sbd-0-huber_loss-adam-LSTM-seq-20-step-5-layers-2-units-128-epochs-20-batchsize-128-dropout-30-b\n",
      "\n"
     ]
    },
    {
     "data": {
      "image/png": "[encoded data removed]",
      "text/plain": [
       "<Figure size 432x288 with 1 Axes>"
      ]
     },
     "metadata": {
      "needs_background": "light"
     },
     "output_type": "display_data"
    },
    {
     "data": {
      "image/png": "[encoded data removed]",
      "text/plain": [
       "<Figure size 432x288 with 1 Axes>"
      ]
     },
     "metadata": {
      "needs_background": "light"
     },
     "output_type": "display_data"
    }
   ],
   "source": [
    "b2 = Test_On_File('Bitfinex_BTCUSD_minute2021.csv', hurdle=0.002)"
   ]
  },
  {
   "cell_type": "code",
   "execution_count": 89,
   "metadata": {
    "colab": {
     "base_uri": "https://localhost:8080/",
     "height": 1000
    },
    "id": "FVdo8Mxq8ndL",
    "outputId": "e5e07c0c-cb79-40ad-c4be-1349b2e7b521"
   },
   "outputs": [
    {
     "name": "stdout",
     "output_type": "stream",
     "text": [
      "One\n",
      "              date     low    high    open   close    volume\n",
      "0       1502942400  301.13  301.13  301.13  301.13   0.42643\n",
      "1       1502942460  301.13  301.13  301.13  301.13   2.75787\n",
      "2       1502942520  300.00  300.00  300.00  300.00   0.09930\n",
      "3       1502942580  300.00  300.00  300.00  300.00   0.31389\n",
      "4       1502942640  301.13  301.13  301.13  301.13   0.23202\n",
      "...            ...     ...     ...     ...     ...       ...\n",
      "196540  1514764500  732.50  733.79  732.50  732.52   7.61926\n",
      "196541  1514764560  732.99  734.01  732.53  734.01  58.11788\n",
      "196542  1514764620  734.01  734.97  733.10  734.01  19.83970\n",
      "196543  1514764680  734.01  734.01  732.56  733.99   9.52489\n",
      "196544  1514764740  733.99  734.00  733.98  733.98  12.76931\n",
      "\n",
      "[196545 rows x 6 columns]\n",
      "Two\n",
      "Three\n",
      "BUYING End Money: 922606794407637851768046485504.00     Max Money: 24947804852332135229932099862528.00     Min Money: 99.75\n",
      "SELLING End Money: 873005720145968560225648640.00     Max Money: 380668754192583728525333233664.00     Min Money: 94.87\n",
      "shape:     (20, 1)\n",
      "Future price after 5 time periods is 733.2011108398438$\n",
      "huber_loss loss: 1.0896574167418294e-05\n",
      "Mean Squared Error: 193.1146\n",
      "Accuracy score: 0.5008\n",
      "Percent of buys: 0.5618\n",
      "Percent of sells: 0.3323\n",
      "Total buy profit: 19626.9800\n",
      "Total sell profit: 17450.8200\n",
      "Percent profitable buys: 0.5591\n",
      "Percent profitable sells: 0.5402\n",
      "Total buy profit %: 66.2831\n",
      "Total sell profit %: 58.6667\n",
      "Total profit: 37077.8000\n",
      "Total profit %: 124.9498\n",
      "Profit per trade: 0.1887\n",
      "Profit per trade %: 0.0006\n",
      "Possible Number of trades: 196502\n",
      "Number of trades: 175688.0\n",
      "Steps: 20  Lookup Steps: 5   Testsize: 0.9999   Layers: 2\n",
      "Epochs: 20   Batchsize: 128  Bidirectional: True\n",
      "Filename: ETHUSDT_2017.csv\n",
      "Model Name: 2021-08-07_BTC-sh-1-sc-1-sbd-0-huber_loss-adam-LSTM-seq-20-step-5-layers-2-units-128-epochs-20-batchsize-128-dropout-30-b\n",
      "\n"
     ]
    },
    {
     "data": {
      "image/png": "[encoded data removed]",
      "text/plain": [
       "<Figure size 432x288 with 1 Axes>"
      ]
     },
     "metadata": {
      "needs_background": "light"
     },
     "output_type": "display_data"
    },
    {
     "data": {
      "image/png": "[encoded data removed]",
      "text/plain": [
       "<Figure size 432x288 with 1 Axes>"
      ]
     },
     "metadata": {
      "needs_background": "light"
     },
     "output_type": "display_data"
    }
   ],
   "source": [
    "e17 = Test_On_File('ETHUSDT_2017.csv', hurdle=0.000)"
   ]
  },
  {
   "cell_type": "code",
   "execution_count": 128,
   "metadata": {},
   "outputs": [
    {
     "data": {
      "text/html": [
       "<div>\n",
       "<style scoped>\n",
       "    .dataframe tbody tr th:only-of-type {\n",
       "        vertical-align: middle;\n",
       "    }\n",
       "\n",
       "    .dataframe tbody tr th {\n",
       "        vertical-align: top;\n",
       "    }\n",
       "\n",
       "    .dataframe thead th {\n",
       "        text-align: right;\n",
       "    }\n",
       "</style>\n",
       "<table border=\"1\" class=\"dataframe\">\n",
       "  <thead>\n",
       "    <tr style=\"text-align: right;\">\n",
       "      <th></th>\n",
       "      <th>date</th>\n",
       "      <th>low</th>\n",
       "      <th>high</th>\n",
       "      <th>open</th>\n",
       "      <th>close</th>\n",
       "      <th>volume</th>\n",
       "      <th>close_5</th>\n",
       "      <th>true_close_5</th>\n",
       "      <th>buy_profit</th>\n",
       "      <th>sell_profit</th>\n",
       "      <th>buy_profit_percent</th>\n",
       "      <th>sell_profit_percent</th>\n",
       "      <th>predicted_diff</th>\n",
       "      <th>running_buy_total</th>\n",
       "      <th>running_sell_total</th>\n",
       "    </tr>\n",
       "  </thead>\n",
       "  <tbody>\n",
       "    <tr>\n",
       "      <th>19.0</th>\n",
       "      <td>1502943540</td>\n",
       "      <td>299.05</td>\n",
       "      <td>299.05</td>\n",
       "      <td>299.05</td>\n",
       "      <td>299.05</td>\n",
       "      <td>0.37758</td>\n",
       "      <td>299.791138</td>\n",
       "      <td>300.10</td>\n",
       "      <td>1.05</td>\n",
       "      <td>0.00</td>\n",
       "      <td>0.003511</td>\n",
       "      <td>0.000000</td>\n",
       "      <td>0.002478</td>\n",
       "      <td>1.003511e+02</td>\n",
       "      <td>1.000000e+02</td>\n",
       "    </tr>\n",
       "    <tr>\n",
       "      <th>20.0</th>\n",
       "      <td>1502943600</td>\n",
       "      <td>299.05</td>\n",
       "      <td>299.05</td>\n",
       "      <td>299.05</td>\n",
       "      <td>299.05</td>\n",
       "      <td>0.17585</td>\n",
       "      <td>299.858429</td>\n",
       "      <td>299.40</td>\n",
       "      <td>0.35</td>\n",
       "      <td>0.00</td>\n",
       "      <td>0.001170</td>\n",
       "      <td>0.000000</td>\n",
       "      <td>0.002703</td>\n",
       "      <td>1.004686e+02</td>\n",
       "      <td>1.000000e+02</td>\n",
       "    </tr>\n",
       "    <tr>\n",
       "      <th>21.0</th>\n",
       "      <td>1502943660</td>\n",
       "      <td>299.05</td>\n",
       "      <td>300.10</td>\n",
       "      <td>299.05</td>\n",
       "      <td>300.10</td>\n",
       "      <td>6.40719</td>\n",
       "      <td>300.000885</td>\n",
       "      <td>300.80</td>\n",
       "      <td>0.00</td>\n",
       "      <td>-0.70</td>\n",
       "      <td>0.000000</td>\n",
       "      <td>-0.002333</td>\n",
       "      <td>-0.000330</td>\n",
       "      <td>1.004686e+02</td>\n",
       "      <td>9.976674e+01</td>\n",
       "    </tr>\n",
       "    <tr>\n",
       "      <th>22.0</th>\n",
       "      <td>1502943720</td>\n",
       "      <td>300.10</td>\n",
       "      <td>300.10</td>\n",
       "      <td>300.10</td>\n",
       "      <td>300.10</td>\n",
       "      <td>0.00000</td>\n",
       "      <td>300.175385</td>\n",
       "      <td>299.39</td>\n",
       "      <td>-0.71</td>\n",
       "      <td>0.00</td>\n",
       "      <td>-0.002366</td>\n",
       "      <td>0.000000</td>\n",
       "      <td>0.000251</td>\n",
       "      <td>1.002309e+02</td>\n",
       "      <td>9.976674e+01</td>\n",
       "    </tr>\n",
       "    <tr>\n",
       "      <th>23.0</th>\n",
       "      <td>1502943780</td>\n",
       "      <td>300.10</td>\n",
       "      <td>300.10</td>\n",
       "      <td>300.10</td>\n",
       "      <td>300.10</td>\n",
       "      <td>0.00000</td>\n",
       "      <td>300.249878</td>\n",
       "      <td>299.39</td>\n",
       "      <td>-0.71</td>\n",
       "      <td>0.00</td>\n",
       "      <td>-0.002366</td>\n",
       "      <td>0.000000</td>\n",
       "      <td>0.000499</td>\n",
       "      <td>9.999373e+01</td>\n",
       "      <td>9.976674e+01</td>\n",
       "    </tr>\n",
       "    <tr>\n",
       "      <th>...</th>\n",
       "      <td>...</td>\n",
       "      <td>...</td>\n",
       "      <td>...</td>\n",
       "      <td>...</td>\n",
       "      <td>...</td>\n",
       "      <td>...</td>\n",
       "      <td>...</td>\n",
       "      <td>...</td>\n",
       "      <td>...</td>\n",
       "      <td>...</td>\n",
       "      <td>...</td>\n",
       "      <td>...</td>\n",
       "      <td>...</td>\n",
       "      <td>...</td>\n",
       "      <td>...</td>\n",
       "    </tr>\n",
       "    <tr>\n",
       "      <th>196535.0</th>\n",
       "      <td>1514764200</td>\n",
       "      <td>736.22</td>\n",
       "      <td>736.73</td>\n",
       "      <td>735.13</td>\n",
       "      <td>736.00</td>\n",
       "      <td>6.96775</td>\n",
       "      <td>734.021851</td>\n",
       "      <td>732.52</td>\n",
       "      <td>0.00</td>\n",
       "      <td>3.48</td>\n",
       "      <td>0.000000</td>\n",
       "      <td>0.004728</td>\n",
       "      <td>-0.002688</td>\n",
       "      <td>9.207716e+29</td>\n",
       "      <td>8.692045e+26</td>\n",
       "    </tr>\n",
       "    <tr>\n",
       "      <th>196536.0</th>\n",
       "      <td>1514764260</td>\n",
       "      <td>736.00</td>\n",
       "      <td>736.71</td>\n",
       "      <td>735.07</td>\n",
       "      <td>735.07</td>\n",
       "      <td>74.28985</td>\n",
       "      <td>734.197937</td>\n",
       "      <td>734.01</td>\n",
       "      <td>0.00</td>\n",
       "      <td>1.06</td>\n",
       "      <td>0.000000</td>\n",
       "      <td>0.001442</td>\n",
       "      <td>-0.001186</td>\n",
       "      <td>9.207716e+29</td>\n",
       "      <td>8.704579e+26</td>\n",
       "    </tr>\n",
       "    <tr>\n",
       "      <th>196537.0</th>\n",
       "      <td>1514764320</td>\n",
       "      <td>735.07</td>\n",
       "      <td>735.68</td>\n",
       "      <td>735.07</td>\n",
       "      <td>735.08</td>\n",
       "      <td>25.28816</td>\n",
       "      <td>734.159119</td>\n",
       "      <td>734.01</td>\n",
       "      <td>0.00</td>\n",
       "      <td>1.07</td>\n",
       "      <td>0.000000</td>\n",
       "      <td>0.001456</td>\n",
       "      <td>-0.001253</td>\n",
       "      <td>9.207716e+29</td>\n",
       "      <td>8.717249e+26</td>\n",
       "    </tr>\n",
       "    <tr>\n",
       "      <th>196538.0</th>\n",
       "      <td>1514764380</td>\n",
       "      <td>735.08</td>\n",
       "      <td>735.51</td>\n",
       "      <td>735.02</td>\n",
       "      <td>735.07</td>\n",
       "      <td>71.26878</td>\n",
       "      <td>734.163147</td>\n",
       "      <td>733.99</td>\n",
       "      <td>0.00</td>\n",
       "      <td>1.08</td>\n",
       "      <td>0.000000</td>\n",
       "      <td>0.001469</td>\n",
       "      <td>-0.001234</td>\n",
       "      <td>9.207716e+29</td>\n",
       "      <td>8.730057e+26</td>\n",
       "    </tr>\n",
       "    <tr>\n",
       "      <th>196539.0</th>\n",
       "      <td>1514764440</td>\n",
       "      <td>735.03</td>\n",
       "      <td>735.07</td>\n",
       "      <td>732.51</td>\n",
       "      <td>732.52</td>\n",
       "      <td>9.49687</td>\n",
       "      <td>733.700195</td>\n",
       "      <td>733.98</td>\n",
       "      <td>1.46</td>\n",
       "      <td>0.00</td>\n",
       "      <td>0.001993</td>\n",
       "      <td>0.000000</td>\n",
       "      <td>0.001611</td>\n",
       "      <td>9.226068e+29</td>\n",
       "      <td>8.730057e+26</td>\n",
       "    </tr>\n",
       "  </tbody>\n",
       "</table>\n",
       "<p>196502 rows × 15 columns</p>\n",
       "</div>"
      ],
      "text/plain": [
       "                date     low    high    open   close    volume     close_5  \\\n",
       "19.0      1502943540  299.05  299.05  299.05  299.05   0.37758  299.791138   \n",
       "20.0      1502943600  299.05  299.05  299.05  299.05   0.17585  299.858429   \n",
       "21.0      1502943660  299.05  300.10  299.05  300.10   6.40719  300.000885   \n",
       "22.0      1502943720  300.10  300.10  300.10  300.10   0.00000  300.175385   \n",
       "23.0      1502943780  300.10  300.10  300.10  300.10   0.00000  300.249878   \n",
       "...              ...     ...     ...     ...     ...       ...         ...   \n",
       "196535.0  1514764200  736.22  736.73  735.13  736.00   6.96775  734.021851   \n",
       "196536.0  1514764260  736.00  736.71  735.07  735.07  74.28985  734.197937   \n",
       "196537.0  1514764320  735.07  735.68  735.07  735.08  25.28816  734.159119   \n",
       "196538.0  1514764380  735.08  735.51  735.02  735.07  71.26878  734.163147   \n",
       "196539.0  1514764440  735.03  735.07  732.51  732.52   9.49687  733.700195   \n",
       "\n",
       "          true_close_5  buy_profit  sell_profit  buy_profit_percent  \\\n",
       "19.0            300.10        1.05         0.00            0.003511   \n",
       "20.0            299.40        0.35         0.00            0.001170   \n",
       "21.0            300.80        0.00        -0.70            0.000000   \n",
       "22.0            299.39       -0.71         0.00           -0.002366   \n",
       "23.0            299.39       -0.71         0.00           -0.002366   \n",
       "...                ...         ...          ...                 ...   \n",
       "196535.0        732.52        0.00         3.48            0.000000   \n",
       "196536.0        734.01        0.00         1.06            0.000000   \n",
       "196537.0        734.01        0.00         1.07            0.000000   \n",
       "196538.0        733.99        0.00         1.08            0.000000   \n",
       "196539.0        733.98        1.46         0.00            0.001993   \n",
       "\n",
       "          sell_profit_percent  predicted_diff  running_buy_total  \\\n",
       "19.0                 0.000000        0.002478       1.003511e+02   \n",
       "20.0                 0.000000        0.002703       1.004686e+02   \n",
       "21.0                -0.002333       -0.000330       1.004686e+02   \n",
       "22.0                 0.000000        0.000251       1.002309e+02   \n",
       "23.0                 0.000000        0.000499       9.999373e+01   \n",
       "...                       ...             ...                ...   \n",
       "196535.0             0.004728       -0.002688       9.207716e+29   \n",
       "196536.0             0.001442       -0.001186       9.207716e+29   \n",
       "196537.0             0.001456       -0.001253       9.207716e+29   \n",
       "196538.0             0.001469       -0.001234       9.207716e+29   \n",
       "196539.0             0.000000        0.001611       9.226068e+29   \n",
       "\n",
       "          running_sell_total  \n",
       "19.0            1.000000e+02  \n",
       "20.0            1.000000e+02  \n",
       "21.0            9.976674e+01  \n",
       "22.0            9.976674e+01  \n",
       "23.0            9.976674e+01  \n",
       "...                      ...  \n",
       "196535.0        8.692045e+26  \n",
       "196536.0        8.704579e+26  \n",
       "196537.0        8.717249e+26  \n",
       "196538.0        8.730057e+26  \n",
       "196539.0        8.730057e+26  \n",
       "\n",
       "[196502 rows x 15 columns]"
      ]
     },
     "execution_count": 128,
     "metadata": {},
     "output_type": "execute_result"
    }
   ],
   "source": [
    "e17"
   ]
  },
  {
   "cell_type": "code",
   "execution_count": 157,
   "metadata": {
    "colab": {
     "base_uri": "https://localhost:8080/",
     "height": 1000
    },
    "id": "MCaKhWMO84sI",
    "outputId": "bd39d286-19a5-4a15-d62e-6245ced465d3"
   },
   "outputs": [
    {
     "name": "stdout",
     "output_type": "stream",
     "text": [
      "One\n",
      "              date      low     high     open    close      volume\n",
      "0       1609459200   735.94   737.09   736.42   737.02   647.71994\n",
      "1       1609459260   737.06   739.00   737.12   738.74  1122.95415\n",
      "2       1609459320   737.35   738.81   738.78   737.82   418.49987\n",
      "3       1609459380   737.28   738.20   737.74   737.43   305.98424\n",
      "4       1609459440   736.80   737.80   737.38   736.89   350.36312\n",
      "...            ...      ...      ...      ...      ...         ...\n",
      "196867  1621307160  3390.82  3390.82  3387.66  3388.46   368.31582\n",
      "196868  1621307220  3388.89  3398.75  3388.89  3393.71   640.40309\n",
      "196869  1621307280  3393.73  3393.73  3385.38  3389.95   502.90712\n",
      "196870  1621307340  3390.00  3396.12  3384.12  3386.18   907.30921\n",
      "196871  1621307400  3386.19  3388.33  3384.66  3388.32    58.64433\n",
      "\n",
      "[196872 rows x 6 columns]\n",
      "Two\n",
      "Three\n",
      "BUYING End Money: 64087.79     Max Money: 103341.41     Min Money: 93.03\n",
      "SELLING End Money: 9.69     Max Money: 103.01     Min Money: 3.82\n",
      "shape:     (20, 1)\n",
      "Future price after 5 time periods is $3390.5185546875\n",
      "huber_loss loss: 4.616174919647165e-06\n",
      "Mean Squared Error: 715.2537\n",
      "Accuracy score: 0.5194\n",
      "Percent of buys: 0.6072\n",
      "Percent of sells: 0.3917\n",
      "Total buy profit: 12116.1700\n",
      "Total sell profit: -1158.4100\n",
      "Percent profitable buys: 0.5226\n",
      "Percent profitable sells: 0.5249\n",
      "Total buy profit %: 7.5778\n",
      "Total sell profit %: -1.7618\n",
      "Total profit: 10957.7600\n",
      "Total profit %: 5.8161\n",
      "Profit per trade: 0.055671471\n",
      "Profit per trade %: 0.000029549\n",
      "Possible Number of trades: 196829\n",
      "Number of trades: 196608.0\n",
      "Steps: 20  Lookup Steps: 5   Testsize: 0.9999   Layers: 2\n",
      "Epochs: 20   Batchsize: 128  Bidirectional: True\n",
      "Filename: ETHUSDT_2021.csv\n",
      "Model Name: 2021-08-07_BTC-sh-1-sc-1-sbd-0-huber_loss-adam-LSTM-seq-20-step-5-layers-2-units-128-epochs-20-batchsize-128-dropout-30-b\n",
      "\n"
     ]
    },
    {
     "data": {
      "image/png": "[encoded data removed]",
      "text/plain": [
       "<Figure size 432x288 with 1 Axes>"
      ]
     },
     "metadata": {
      "needs_background": "light"
     },
     "output_type": "display_data"
    },
    {
     "data": {
      "image/png": "[encoded data removed]",
      "text/plain": [
       "<Figure size 432x288 with 1 Axes>"
      ]
     },
     "metadata": {
      "needs_background": "light"
     },
     "output_type": "display_data"
    }
   ],
   "source": [
    "e210 = Test_On_File('ETHUSDT_2021.csv', hurdle=0.000)"
   ]
  },
  {
   "cell_type": "code",
   "execution_count": 155,
   "metadata": {},
   "outputs": [
    {
     "data": {
      "image/png": "[encoded data removed]",
      "text/plain": [
       "<Figure size 432x288 with 1 Axes>"
      ]
     },
     "metadata": {
      "needs_background": "light"
     },
     "output_type": "display_data"
    }
   ],
   "source": [
    "plot_graph(e210)\n"
   ]
  },
  {
   "cell_type": "code",
   "execution_count": 113,
   "metadata": {
    "colab": {
     "base_uri": "https://localhost:8080/",
     "height": 1000
    },
    "id": "aPBRo8sm87e4",
    "outputId": "4d1714c8-0c70-4f58-db78-f5b1d5950e87"
   },
   "outputs": [
    {
     "name": "stdout",
     "output_type": "stream",
     "text": [
      "One\n",
      "              date      low     high     open    close      volume\n",
      "0       1609459200   735.94   737.09   736.42   737.02   647.71994\n",
      "1       1609459260   737.06   739.00   737.12   738.74  1122.95415\n",
      "2       1609459320   737.35   738.81   738.78   737.82   418.49987\n",
      "3       1609459380   737.28   738.20   737.74   737.43   305.98424\n",
      "4       1609459440   736.80   737.80   737.38   736.89   350.36312\n",
      "...            ...      ...      ...      ...      ...         ...\n",
      "196867  1621307160  3390.82  3390.82  3387.66  3388.46   368.31582\n",
      "196868  1621307220  3388.89  3398.75  3388.89  3393.71   640.40309\n",
      "196869  1621307280  3393.73  3393.73  3385.38  3389.95   502.90712\n",
      "196870  1621307340  3390.00  3396.12  3384.12  3386.18   907.30921\n",
      "196871  1621307400  3386.19  3388.33  3384.66  3388.32    58.64433\n",
      "\n",
      "[196872 rows x 6 columns]\n",
      "Two\n",
      "Three\n",
      "BUYING End Money: 108885.28     Max Money: 130970.34     Min Money: 96.41\n",
      "SELLING End Money: 21.87     Max Money: 101.06     Min Money: 10.94\n",
      "shape:     (20, 1)\n",
      "Future price after 5 time periods is 3390.5185546875$\n",
      "huber_loss loss: 4.616174919647165e-06\n",
      "Mean Squared Error: 715.2537\n",
      "Accuracy score: 0.2427\n",
      "Percent of buys: 0.2947\n",
      "Percent of sells: 0.1624\n",
      "Total buy profit: 14262.0800\n",
      "Total sell profit: -670.6600\n",
      "Percent profitable buys: 0.5361\n",
      "Percent profitable sells: 0.5249\n",
      "Total buy profit %: 7.8217\n",
      "Total sell profit %: -1.1813\n",
      "Total profit: 13591.4200\n",
      "Total profit %: 6.6404\n",
      "Profit per trade: 0.0691\n",
      "Profit per trade %: 0.0000\n",
      "Possible Number of trades: 196829\n",
      "Number of trades: 89985.99999999999\n",
      "Steps: 20  Lookup Steps: 5   Testsize: 0.9999   Layers: 2\n",
      "Epochs: 20   Batchsize: 128  Bidirectional: True\n",
      "Filename: ETHUSDT_2021.csv\n",
      "Model Name: 2021-08-07_BTC-sh-1-sc-1-sbd-0-huber_loss-adam-LSTM-seq-20-step-5-layers-2-units-128-epochs-20-batchsize-128-dropout-30-b\n",
      "\n"
     ]
    },
    {
     "data": {
      "image/png": "[encoded data removed]",
      "text/plain": [
       "<Figure size 432x288 with 1 Axes>"
      ]
     },
     "metadata": {
      "needs_background": "light"
     },
     "output_type": "display_data"
    },
    {
     "data": {
      "image/png": "[encoded data removed]",
      "text/plain": [
       "<Figure size 432x288 with 1 Axes>"
      ]
     },
     "metadata": {
      "needs_background": "light"
     },
     "output_type": "display_data"
    }
   ],
   "source": [
    "e212 = Test_On_File('ETHUSDT_2021.csv', hurdle=0.002)"
   ]
  },
  {
   "cell_type": "code",
   "execution_count": 114,
   "metadata": {
    "colab": {
     "base_uri": "https://localhost:8080/",
     "height": 1000
    },
    "id": "2oJBC8wJ_Cya",
    "outputId": "eb80c813-0801-4323-d997-325446b4361d"
   },
   "outputs": [
    {
     "name": "stdout",
     "output_type": "stream",
     "text": [
      "One\n",
      "              date       low      high      open     close  volume\n",
      "0       1609459200  0.004295  0.004298  0.004295  0.004298  185.59\n",
      "1       1609459260  0.004298  0.004305  0.004299  0.004302  263.31\n",
      "2       1609459320  0.004298  0.004304  0.004304  0.004300   72.61\n",
      "3       1609459380  0.004297  0.004300  0.004299  0.004298   35.22\n",
      "4       1609459440  0.004296  0.004301  0.004298  0.004297  136.97\n",
      "...            ...       ...       ...       ...       ...     ...\n",
      "196908  1621309620  0.006783  0.006786  0.006775  0.006775  213.87\n",
      "196909  1621309680  0.006775  0.006781  0.006775  0.006781   44.40\n",
      "196910  1621309740  0.006782  0.006785  0.006775  0.006785  122.64\n",
      "196911  1621309800  0.006785  0.006785  0.006767  0.006767  274.14\n",
      "196912  1621309860  0.006767  0.006773  0.006766  0.006770   28.70\n",
      "\n",
      "[196913 rows x 6 columns]\n",
      "Two\n",
      "Three\n",
      "BUYING End Money: 30046.26     Max Money: 30046.26     Min Money: 80.41\n",
      "SELLING End Money: 1204.12     Max Money: 3983.75     Min Money: 41.17\n",
      "shape:     (20, 1)\n",
      "Future price after 5 time periods is 0.006772095337510109$\n",
      "huber_loss loss: 1.401440295012435e-05\n",
      "Mean Squared Error: 0.0032\n",
      "Accuracy score: 0.4877\n",
      "Percent of buys: 0.5751\n",
      "Percent of sells: 0.3745\n",
      "Total buy profit: 0.0272\n",
      "Total sell profit: 0.0149\n",
      "Percent profitable buys: 0.4980\n",
      "Percent profitable sells: 0.5249\n",
      "Total buy profit %: 6.2704\n",
      "Total sell profit %: 2.9606\n",
      "Total profit: 0.0421\n",
      "Total profit %: 9.2310\n",
      "Profit per trade: 0.0000\n",
      "Profit per trade %: 0.0000\n",
      "Possible Number of trades: 196870\n",
      "Number of trades: 186939.0\n",
      "Steps: 20  Lookup Steps: 5   Testsize: 0.9999   Layers: 2\n",
      "Epochs: 20   Batchsize: 128  Bidirectional: True\n",
      "Filename: LTCBTC_2021.csv\n",
      "Model Name: 2021-08-07_BTC-sh-1-sc-1-sbd-0-huber_loss-adam-LSTM-seq-20-step-5-layers-2-units-128-epochs-20-batchsize-128-dropout-30-b\n",
      "\n"
     ]
    },
    {
     "data": {
      "image/png": "[encoded data removed]",
      "text/plain": [
       "<Figure size 432x288 with 1 Axes>"
      ]
     },
     "metadata": {
      "needs_background": "light"
     },
     "output_type": "display_data"
    },
    {
     "data": {
      "image/png": "[encoded data removed]",
      "text/plain": [
       "<Figure size 432x288 with 1 Axes>"
      ]
     },
     "metadata": {
      "needs_background": "light"
     },
     "output_type": "display_data"
    }
   ],
   "source": [
    "L210 = Test_On_File('LTCBTC_2021.csv', hurdle=0.000)"
   ]
  },
  {
   "cell_type": "code",
   "execution_count": 115,
   "metadata": {
    "colab": {
     "base_uri": "https://localhost:8080/",
     "height": 1000
    },
    "id": "PVQEFyw_DQs1",
    "outputId": "61d76242-8c69-4cf0-fded-b93c6ec529ef"
   },
   "outputs": [
    {
     "name": "stdout",
     "output_type": "stream",
     "text": [
      "One\n",
      "              date       low      high      open     close  volume\n",
      "0       1609459200  0.004295  0.004298  0.004295  0.004298  185.59\n",
      "1       1609459260  0.004298  0.004305  0.004299  0.004302  263.31\n",
      "2       1609459320  0.004298  0.004304  0.004304  0.004300   72.61\n",
      "3       1609459380  0.004297  0.004300  0.004299  0.004298   35.22\n",
      "4       1609459440  0.004296  0.004301  0.004298  0.004297  136.97\n",
      "...            ...       ...       ...       ...       ...     ...\n",
      "196908  1621309620  0.006783  0.006786  0.006775  0.006775  213.87\n",
      "196909  1621309680  0.006775  0.006781  0.006775  0.006781   44.40\n",
      "196910  1621309740  0.006782  0.006785  0.006775  0.006785  122.64\n",
      "196911  1621309800  0.006785  0.006785  0.006767  0.006767  274.14\n",
      "196912  1621309860  0.006767  0.006773  0.006766  0.006770   28.70\n",
      "\n",
      "[196913 rows x 6 columns]\n",
      "Two\n",
      "Three\n",
      "BUYING End Money: 164376.09     Max Money: 164376.09     Min Money: 93.14\n",
      "SELLING End Money: 341.38     Max Money: 425.42     Min Money: 51.91\n",
      "shape:     (20, 1)\n",
      "Future price after 5 time periods is 0.006772095337510109$\n",
      "huber_loss loss: 1.401440295012435e-05\n",
      "Mean Squared Error: 0.0032\n",
      "Accuracy score: 0.1840\n",
      "Percent of buys: 0.2105\n",
      "Percent of sells: 0.1339\n",
      "Total buy profit: 0.0320\n",
      "Total sell profit: 0.0096\n",
      "Percent profitable buys: 0.5244\n",
      "Percent profitable sells: 0.5249\n",
      "Total buy profit %: 7.7441\n",
      "Total sell profit %: 1.5012\n",
      "Total profit: 0.0417\n",
      "Total profit %: 9.2453\n",
      "Profit per trade: 0.0000\n",
      "Profit per trade %: 0.0000\n",
      "Possible Number of trades: 196870\n",
      "Number of trades: 67801.0\n",
      "Steps: 20  Lookup Steps: 5   Testsize: 0.9999   Layers: 2\n",
      "Epochs: 20   Batchsize: 128  Bidirectional: True\n",
      "Filename: LTCBTC_2021.csv\n",
      "Model Name: 2021-08-07_BTC-sh-1-sc-1-sbd-0-huber_loss-adam-LSTM-seq-20-step-5-layers-2-units-128-epochs-20-batchsize-128-dropout-30-b\n",
      "\n"
     ]
    },
    {
     "data": {
      "image/png": "[encoded data removed]",
      "text/plain": [
       "<Figure size 432x288 with 1 Axes>"
      ]
     },
     "metadata": {
      "needs_background": "light"
     },
     "output_type": "display_data"
    },
    {
     "data": {
      "image/png": "[encoded data removed]",
      "text/plain": [
       "<Figure size 432x288 with 1 Axes>"
      ]
     },
     "metadata": {
      "needs_background": "light"
     },
     "output_type": "display_data"
    }
   ],
   "source": [
    "L212 = Test_On_File('LTCBTC_2021.csv', hurdle=0.002)"
   ]
  },
  {
   "cell_type": "code",
   "execution_count": 116,
   "metadata": {
    "colab": {
     "base_uri": "https://localhost:8080/"
    },
    "id": "yDgfrgrfWxb-",
    "outputId": "0d1a7868-6727-4000-afba-004dbbcd4ca2"
   },
   "outputs": [
    {
     "data": {
      "text/plain": [
       "196870"
      ]
     },
     "execution_count": 116,
     "metadata": {},
     "output_type": "execute_result"
    }
   ],
   "source": [
    "len(L212.where(L212.buy_profit_percent > 0))"
   ]
  },
  {
   "cell_type": "code",
   "execution_count": 117,
   "metadata": {
    "colab": {
     "base_uri": "https://localhost:8080/"
    },
    "id": "dkR1CvTddAJO",
    "outputId": "2e430dd9-c09e-405c-86f0-a6c09b14a043"
   },
   "outputs": [
    {
     "name": "stdout",
     "output_type": "stream",
     "text": [
      "196870\n",
      "41438\n",
      "21730\n",
      "19708\n",
      "155432\n",
      "\n",
      "0.0026294777392147227\n",
      "-0.0025063146886088587\n"
     ]
    }
   ],
   "source": [
    "print(len(L212))\n",
    "print(len(L212[L212['buy_profit_percent'] != 0]))\n",
    "print(len(L212[L212['buy_profit_percent'] > 0]))\n",
    "print(len(L212[L212['buy_profit_percent'] < 0]))\n",
    "print(len(L212[L212['buy_profit_percent'] == 0]))\n",
    "print()\n",
    "print(L212[L212['buy_profit_percent'] > 0]['buy_profit_percent'].mean())\n",
    "print(L212[L212['buy_profit_percent'] < 0]['buy_profit_percent'].mean())"
   ]
  },
  {
   "cell_type": "code",
   "execution_count": 118,
   "metadata": {
    "colab": {
     "base_uri": "https://localhost:8080/",
     "height": 419
    },
    "id": "Tm-NsohBdabU",
    "outputId": "708fbcdb-b552-405e-d25e-99f736393bac"
   },
   "outputs": [
    {
     "data": {
      "text/html": [
       "<div>\n",
       "<style scoped>\n",
       "    .dataframe tbody tr th:only-of-type {\n",
       "        vertical-align: middle;\n",
       "    }\n",
       "\n",
       "    .dataframe tbody tr th {\n",
       "        vertical-align: top;\n",
       "    }\n",
       "\n",
       "    .dataframe thead th {\n",
       "        text-align: right;\n",
       "    }\n",
       "</style>\n",
       "<table border=\"1\" class=\"dataframe\">\n",
       "  <thead>\n",
       "    <tr style=\"text-align: right;\">\n",
       "      <th></th>\n",
       "      <th>date</th>\n",
       "      <th>low</th>\n",
       "      <th>high</th>\n",
       "      <th>open</th>\n",
       "      <th>close</th>\n",
       "      <th>volume</th>\n",
       "      <th>close_5</th>\n",
       "      <th>true_close_5</th>\n",
       "      <th>buy_profit</th>\n",
       "      <th>sell_profit</th>\n",
       "      <th>buy_profit_percent</th>\n",
       "      <th>sell_profit_percent</th>\n",
       "      <th>predicted_diff</th>\n",
       "      <th>running_buy_total</th>\n",
       "      <th>running_sell_total</th>\n",
       "    </tr>\n",
       "  </thead>\n",
       "  <tbody>\n",
       "    <tr>\n",
       "      <th>19.0</th>\n",
       "      <td>1609460340</td>\n",
       "      <td>0.004283</td>\n",
       "      <td>0.004285</td>\n",
       "      <td>0.004283</td>\n",
       "      <td>0.004284</td>\n",
       "      <td>13.21</td>\n",
       "      <td>0.004294</td>\n",
       "      <td>0.004278</td>\n",
       "      <td>-0.000006</td>\n",
       "      <td>0.0</td>\n",
       "      <td>-0.001401</td>\n",
       "      <td>0.0</td>\n",
       "      <td>0.002425</td>\n",
       "      <td>99.859944</td>\n",
       "      <td>100.000000</td>\n",
       "    </tr>\n",
       "    <tr>\n",
       "      <th>20.0</th>\n",
       "      <td>1609460400</td>\n",
       "      <td>0.004283</td>\n",
       "      <td>0.004287</td>\n",
       "      <td>0.004285</td>\n",
       "      <td>0.004283</td>\n",
       "      <td>9.08</td>\n",
       "      <td>0.004293</td>\n",
       "      <td>0.004278</td>\n",
       "      <td>-0.000005</td>\n",
       "      <td>0.0</td>\n",
       "      <td>-0.001167</td>\n",
       "      <td>0.0</td>\n",
       "      <td>0.002416</td>\n",
       "      <td>99.743367</td>\n",
       "      <td>100.000000</td>\n",
       "    </tr>\n",
       "    <tr>\n",
       "      <th>21.0</th>\n",
       "      <td>1609460460</td>\n",
       "      <td>0.004275</td>\n",
       "      <td>0.004282</td>\n",
       "      <td>0.004282</td>\n",
       "      <td>0.004281</td>\n",
       "      <td>302.11</td>\n",
       "      <td>0.004292</td>\n",
       "      <td>0.004275</td>\n",
       "      <td>-0.000006</td>\n",
       "      <td>0.0</td>\n",
       "      <td>-0.001402</td>\n",
       "      <td>0.0</td>\n",
       "      <td>0.002530</td>\n",
       "      <td>99.603572</td>\n",
       "      <td>100.000000</td>\n",
       "    </tr>\n",
       "    <tr>\n",
       "      <th>22.0</th>\n",
       "      <td>1609460520</td>\n",
       "      <td>0.004280</td>\n",
       "      <td>0.004283</td>\n",
       "      <td>0.004282</td>\n",
       "      <td>0.004281</td>\n",
       "      <td>346.84</td>\n",
       "      <td>0.004291</td>\n",
       "      <td>0.004271</td>\n",
       "      <td>-0.000010</td>\n",
       "      <td>0.0</td>\n",
       "      <td>-0.002336</td>\n",
       "      <td>0.0</td>\n",
       "      <td>0.002241</td>\n",
       "      <td>99.370908</td>\n",
       "      <td>100.000000</td>\n",
       "    </tr>\n",
       "    <tr>\n",
       "      <th>24.0</th>\n",
       "      <td>1609460640</td>\n",
       "      <td>0.004275</td>\n",
       "      <td>0.004283</td>\n",
       "      <td>0.004283</td>\n",
       "      <td>0.004278</td>\n",
       "      <td>647.60</td>\n",
       "      <td>0.004289</td>\n",
       "      <td>0.004270</td>\n",
       "      <td>-0.000008</td>\n",
       "      <td>0.0</td>\n",
       "      <td>-0.001870</td>\n",
       "      <td>0.0</td>\n",
       "      <td>0.002522</td>\n",
       "      <td>99.185081</td>\n",
       "      <td>100.000000</td>\n",
       "    </tr>\n",
       "    <tr>\n",
       "      <th>...</th>\n",
       "      <td>...</td>\n",
       "      <td>...</td>\n",
       "      <td>...</td>\n",
       "      <td>...</td>\n",
       "      <td>...</td>\n",
       "      <td>...</td>\n",
       "      <td>...</td>\n",
       "      <td>...</td>\n",
       "      <td>...</td>\n",
       "      <td>...</td>\n",
       "      <td>...</td>\n",
       "      <td>...</td>\n",
       "      <td>...</td>\n",
       "      <td>...</td>\n",
       "      <td>...</td>\n",
       "    </tr>\n",
       "    <tr>\n",
       "      <th>196748.0</th>\n",
       "      <td>1621300020</td>\n",
       "      <td>0.006647</td>\n",
       "      <td>0.006649</td>\n",
       "      <td>0.006630</td>\n",
       "      <td>0.006632</td>\n",
       "      <td>114.56</td>\n",
       "      <td>0.006647</td>\n",
       "      <td>0.006589</td>\n",
       "      <td>-0.000043</td>\n",
       "      <td>0.0</td>\n",
       "      <td>-0.006484</td>\n",
       "      <td>0.0</td>\n",
       "      <td>0.002188</td>\n",
       "      <td>161131.781757</td>\n",
       "      <td>363.451741</td>\n",
       "    </tr>\n",
       "    <tr>\n",
       "      <th>196749.0</th>\n",
       "      <td>1621300080</td>\n",
       "      <td>0.006632</td>\n",
       "      <td>0.006635</td>\n",
       "      <td>0.006614</td>\n",
       "      <td>0.006615</td>\n",
       "      <td>164.43</td>\n",
       "      <td>0.006644</td>\n",
       "      <td>0.006592</td>\n",
       "      <td>-0.000023</td>\n",
       "      <td>0.0</td>\n",
       "      <td>-0.003477</td>\n",
       "      <td>0.0</td>\n",
       "      <td>0.004406</td>\n",
       "      <td>160571.535200</td>\n",
       "      <td>363.451741</td>\n",
       "    </tr>\n",
       "    <tr>\n",
       "      <th>196750.0</th>\n",
       "      <td>1621300140</td>\n",
       "      <td>0.006616</td>\n",
       "      <td>0.006628</td>\n",
       "      <td>0.006603</td>\n",
       "      <td>0.006610</td>\n",
       "      <td>460.58</td>\n",
       "      <td>0.006640</td>\n",
       "      <td>0.006601</td>\n",
       "      <td>-0.000009</td>\n",
       "      <td>0.0</td>\n",
       "      <td>-0.001362</td>\n",
       "      <td>0.0</td>\n",
       "      <td>0.004559</td>\n",
       "      <td>160352.905273</td>\n",
       "      <td>363.451741</td>\n",
       "    </tr>\n",
       "    <tr>\n",
       "      <th>196751.0</th>\n",
       "      <td>1621300200</td>\n",
       "      <td>0.006610</td>\n",
       "      <td>0.006613</td>\n",
       "      <td>0.006605</td>\n",
       "      <td>0.006610</td>\n",
       "      <td>459.08</td>\n",
       "      <td>0.006636</td>\n",
       "      <td>0.006586</td>\n",
       "      <td>-0.000024</td>\n",
       "      <td>0.0</td>\n",
       "      <td>-0.003631</td>\n",
       "      <td>0.0</td>\n",
       "      <td>0.004004</td>\n",
       "      <td>159770.685949</td>\n",
       "      <td>363.451741</td>\n",
       "    </tr>\n",
       "    <tr>\n",
       "      <th>196752.0</th>\n",
       "      <td>1621300260</td>\n",
       "      <td>0.006610</td>\n",
       "      <td>0.006610</td>\n",
       "      <td>0.006595</td>\n",
       "      <td>0.006596</td>\n",
       "      <td>499.76</td>\n",
       "      <td>0.006632</td>\n",
       "      <td>0.006591</td>\n",
       "      <td>-0.000005</td>\n",
       "      <td>0.0</td>\n",
       "      <td>-0.000758</td>\n",
       "      <td>0.0</td>\n",
       "      <td>0.005408</td>\n",
       "      <td>159649.574150</td>\n",
       "      <td>363.451741</td>\n",
       "    </tr>\n",
       "  </tbody>\n",
       "</table>\n",
       "<p>19708 rows × 15 columns</p>\n",
       "</div>"
      ],
      "text/plain": [
       "                date       low      high      open     close  volume  \\\n",
       "19.0      1609460340  0.004283  0.004285  0.004283  0.004284   13.21   \n",
       "20.0      1609460400  0.004283  0.004287  0.004285  0.004283    9.08   \n",
       "21.0      1609460460  0.004275  0.004282  0.004282  0.004281  302.11   \n",
       "22.0      1609460520  0.004280  0.004283  0.004282  0.004281  346.84   \n",
       "24.0      1609460640  0.004275  0.004283  0.004283  0.004278  647.60   \n",
       "...              ...       ...       ...       ...       ...     ...   \n",
       "196748.0  1621300020  0.006647  0.006649  0.006630  0.006632  114.56   \n",
       "196749.0  1621300080  0.006632  0.006635  0.006614  0.006615  164.43   \n",
       "196750.0  1621300140  0.006616  0.006628  0.006603  0.006610  460.58   \n",
       "196751.0  1621300200  0.006610  0.006613  0.006605  0.006610  459.08   \n",
       "196752.0  1621300260  0.006610  0.006610  0.006595  0.006596  499.76   \n",
       "\n",
       "           close_5  true_close_5  buy_profit  sell_profit  buy_profit_percent  \\\n",
       "19.0      0.004294      0.004278   -0.000006          0.0           -0.001401   \n",
       "20.0      0.004293      0.004278   -0.000005          0.0           -0.001167   \n",
       "21.0      0.004292      0.004275   -0.000006          0.0           -0.001402   \n",
       "22.0      0.004291      0.004271   -0.000010          0.0           -0.002336   \n",
       "24.0      0.004289      0.004270   -0.000008          0.0           -0.001870   \n",
       "...            ...           ...         ...          ...                 ...   \n",
       "196748.0  0.006647      0.006589   -0.000043          0.0           -0.006484   \n",
       "196749.0  0.006644      0.006592   -0.000023          0.0           -0.003477   \n",
       "196750.0  0.006640      0.006601   -0.000009          0.0           -0.001362   \n",
       "196751.0  0.006636      0.006586   -0.000024          0.0           -0.003631   \n",
       "196752.0  0.006632      0.006591   -0.000005          0.0           -0.000758   \n",
       "\n",
       "          sell_profit_percent  predicted_diff  running_buy_total  \\\n",
       "19.0                      0.0        0.002425          99.859944   \n",
       "20.0                      0.0        0.002416          99.743367   \n",
       "21.0                      0.0        0.002530          99.603572   \n",
       "22.0                      0.0        0.002241          99.370908   \n",
       "24.0                      0.0        0.002522          99.185081   \n",
       "...                       ...             ...                ...   \n",
       "196748.0                  0.0        0.002188      161131.781757   \n",
       "196749.0                  0.0        0.004406      160571.535200   \n",
       "196750.0                  0.0        0.004559      160352.905273   \n",
       "196751.0                  0.0        0.004004      159770.685949   \n",
       "196752.0                  0.0        0.005408      159649.574150   \n",
       "\n",
       "          running_sell_total  \n",
       "19.0              100.000000  \n",
       "20.0              100.000000  \n",
       "21.0              100.000000  \n",
       "22.0              100.000000  \n",
       "24.0              100.000000  \n",
       "...                      ...  \n",
       "196748.0          363.451741  \n",
       "196749.0          363.451741  \n",
       "196750.0          363.451741  \n",
       "196751.0          363.451741  \n",
       "196752.0          363.451741  \n",
       "\n",
       "[19708 rows x 15 columns]"
      ]
     },
     "execution_count": 118,
     "metadata": {},
     "output_type": "execute_result"
    }
   ],
   "source": [
    "L212[L212['buy_profit_percent'] < 0]"
   ]
  },
  {
   "cell_type": "code",
   "execution_count": 119,
   "metadata": {
    "colab": {
     "base_uri": "https://localhost:8080/"
    },
    "id": "B0RO0K-AZiR3",
    "outputId": "bb09079e-8b0e-4053-98fa-31b618eaab0a"
   },
   "outputs": [
    {
     "data": {
      "text/plain": [
       "41438"
      ]
     },
     "execution_count": 119,
     "metadata": {},
     "output_type": "execute_result"
    }
   ],
   "source": [
    "len(L212[L212['buy_profit_percent'] != 0])"
   ]
  },
  {
   "cell_type": "code",
   "execution_count": 120,
   "metadata": {
    "colab": {
     "base_uri": "https://localhost:8080/"
    },
    "id": "X30V_GolbThf",
    "outputId": "9fb95cb1-1a6e-49e7-d4e1-351fe17db279"
   },
   "outputs": [
    {
     "data": {
      "text/plain": [
       "155432"
      ]
     },
     "execution_count": 120,
     "metadata": {},
     "output_type": "execute_result"
    }
   ],
   "source": [
    "len(L212[L212['buy_profit_percent'] == 0])"
   ]
  },
  {
   "cell_type": "code",
   "execution_count": 121,
   "metadata": {
    "colab": {
     "base_uri": "https://localhost:8080/"
    },
    "id": "J4amo-zgYfy2",
    "outputId": "f15bda70-3c7d-45b3-98a1-83a6d33cd8c1"
   },
   "outputs": [
    {
     "data": {
      "text/plain": [
       "date                   1.614995e+09\n",
       "low                    4.235883e-03\n",
       "high                   4.243718e-03\n",
       "open                   4.237672e-03\n",
       "close                  4.237081e-03\n",
       "volume                 4.363473e+02\n",
       "close_5                4.253098e-03\n",
       "true_close_5           4.237854e-03\n",
       "buy_profit             7.725518e-07\n",
       "sell_profit            0.000000e+00\n",
       "buy_profit_percent     1.868841e-04\n",
       "sell_profit_percent    0.000000e+00\n",
       "predicted_diff         3.741993e-03\n",
       "running_buy_total      1.789569e+04\n",
       "running_sell_total     1.853928e+02\n",
       "dtype: float64"
      ]
     },
     "execution_count": 121,
     "metadata": {},
     "output_type": "execute_result"
    }
   ],
   "source": [
    "L212[L212['buy_profit_percent'] != 0].mean()"
   ]
  },
  {
   "cell_type": "code",
   "execution_count": 122,
   "metadata": {
    "colab": {
     "base_uri": "https://localhost:8080/"
    },
    "id": "k0qq3plCY7ti",
    "outputId": "a270136d-4d57-48f4-f8b4-421fbb297d0d"
   },
   "outputs": [
    {
     "data": {
      "text/plain": [
       "196870"
      ]
     },
     "execution_count": 122,
     "metadata": {},
     "output_type": "execute_result"
    }
   ],
   "source": [
    "len(L212)"
   ]
  },
  {
   "cell_type": "code",
   "execution_count": 153,
   "metadata": {},
   "outputs": [
    {
     "name": "stdout",
     "output_type": "stream",
     "text": [
      "One\n",
      "              date       low      high      open     close  volume\n",
      "0       1500005340  0.019000  0.019000  0.019000  0.019000   20.00\n",
      "1       1500005400  0.019000  0.019000  0.019000  0.019000    0.00\n",
      "2       1500005460  0.019000  0.019000  0.019000  0.019000    0.00\n",
      "3       1500005520  0.019099  0.019099  0.019099  0.019099    1.59\n",
      "4       1500005580  0.019099  0.019099  0.019099  0.019099    0.00\n",
      "...            ...       ...       ...       ...       ...     ...\n",
      "245493  1514764500  0.016340  0.016340  0.016311  0.016311  131.22\n",
      "245494  1514764560  0.016338  0.016339  0.016311  0.016311  238.67\n",
      "245495  1514764620  0.016318  0.016339  0.016311  0.016311  203.50\n",
      "245496  1514764680  0.016311  0.016338  0.016311  0.016330  195.80\n",
      "245497  1514764740  0.016313  0.016330  0.016311  0.016320  114.62\n",
      "\n",
      "[245498 rows x 6 columns]\n",
      "Two\n",
      "Three\n",
      "BUYING End Money: 4102430012290139422720.00     Max Money: 148388604186829711736832.00     Min Money: 62.85\n",
      "SELLING End Money: 500767657542319472640.00     Max Money: 1763519914790987478597632.00     Min Money: 50.43\n",
      "shape:     (20, 1)\n",
      "Future price after 5 time periods is 0.016321951523423195$\n",
      "huber_loss loss: 1.3120144103595521e-05\n",
      "Mean Squared Error: 0.0053\n",
      "Accuracy score: 0.5370\n",
      "Percent of buys: 0.5355\n",
      "Percent of sells: 0.4201\n",
      "Total buy profit: 0.5562\n",
      "Total sell profit: 0.5711\n",
      "Percent profitable buys: 0.5492\n",
      "Percent profitable sells: 0.5249\n",
      "Total buy profit %: 46.4823\n",
      "Total sell profit %: 44.5423\n",
      "Total profit: 1.1273\n",
      "Total profit %: 91.0246\n",
      "Profit per trade: 0.0000\n",
      "Profit per trade %: 0.0004\n",
      "Possible Number of trades: 245450\n",
      "Number of trades: 234565.00000000003\n",
      "Steps: 20  Lookup Steps: 5   Testsize: 0.9999   Layers: 2\n",
      "Epochs: 20   Batchsize: 128  Bidirectional: True\n",
      "Filename: LTCBTC_2017.csv\n",
      "Model Name: 2021-08-07_BTC-sh-1-sc-1-sbd-0-huber_loss-adam-LSTM-seq-20-step-5-layers-2-units-128-epochs-20-batchsize-128-dropout-30-b\n",
      "\n"
     ]
    },
    {
     "data": {
      "image/png": "[encoded data removed]",
      "text/plain": [
       "<Figure size 432x288 with 1 Axes>"
      ]
     },
     "metadata": {
      "needs_background": "light"
     },
     "output_type": "display_data"
    },
    {
     "data": {
      "image/png": "[encoded data removed]",
      "text/plain": [
       "<Figure size 432x288 with 1 Axes>"
      ]
     },
     "metadata": {
      "needs_background": "light"
     },
     "output_type": "display_data"
    }
   ],
   "source": [
    "L17 = Test_On_File('LTCBTC_2017.csv', hurdle=0.000)"
   ]
  },
  {
   "cell_type": "code",
   "execution_count": 123,
   "metadata": {
    "colab": {
     "base_uri": "https://localhost:8080/",
     "height": 332
    },
    "id": "2a1KzwjV0k-L",
    "outputId": "debbca77-552b-4395-d407-f0c3aae55ee2"
   },
   "outputs": [
    {
     "name": "stdout",
     "output_type": "stream",
     "text": [
      "[[<matplotlib.axes._subplots.AxesSubplot object at 0x000002E234085040>]]\n",
      "AxesSubplot(0.125,0.125;0.775x0.755)\n",
      "AxesSubplot(0.125,0.125;0.775x0.755)\n"
     ]
    },
    {
     "data": {
      "image/png": "[encoded data removed]",
      "text/plain": [
       "<Figure size 432x288 with 1 Axes>"
      ]
     },
     "metadata": {
      "needs_background": "light"
     },
     "output_type": "display_data"
    }
   ],
   "source": [
    "    print(final_df.hist('predicted_diff', bins=100))\n",
    "    print(final_df.running_buy_total.plot())\n",
    "    print(final_df.running_sell_total.plot())"
   ]
  },
  {
   "cell_type": "code",
   "execution_count": 124,
   "metadata": {
    "colab": {
     "base_uri": "https://localhost:8080/"
    },
    "id": "CXuldvIJf8wg",
    "outputId": "bff9c3c5-99cd-480b-b76e-1ba43cfd6b18"
   },
   "outputs": [
    {
     "name": "stdout",
     "output_type": "stream",
     "text": [
      "BUYING End Money: 1643.76     Max Money: 1643.76     Min Money: 0.93\n",
      "SHORTING End Money: 3.41     Max Money: 4.25     Min Money: 0.52\n",
      "41438 Buys     26363 Sells     258138 Passes\n"
     ]
    }
   ],
   "source": [
    "money = 1\n",
    "max_money = 1\n",
    "min_money = 1\n",
    "buy_count = 0\n",
    "stand_count = 0\n",
    "\n",
    "for i in L212.buy_profit_percent:\n",
    "    if i != 0:\n",
    "        buy_count += 1\n",
    "        stand_count -= 1\n",
    "    else:\n",
    "        stand_count += 1\n",
    "    money = money * (1 + i)\n",
    "    if money > max_money:\n",
    "        max_money = money\n",
    "    elif money < min_money:\n",
    "        min_money = money\n",
    "\n",
    "print(f\"BUYING End Money: {money:.2f}     Max Money: {max_money:0.2f}     Min Money: {min_money:0.2f}\")\n",
    "\n",
    "money = 1\n",
    "max_money = 1\n",
    "min_money = 1\n",
    "sell_count = 0\n",
    "\n",
    "for i in L212.sell_profit_percent:\n",
    "    if i != 0:\n",
    "        sell_count += 1\n",
    "        stand_count -= 1\n",
    "    else:\n",
    "        stand_count += 1\n",
    "    money = money * (1 + i)\n",
    "    if money > max_money:\n",
    "        max_money = money\n",
    "    elif money < min_money:\n",
    "        min_money = money\n",
    "print(f\"SHORTING End Money: {money:.2f}     Max Money: {max_money:0.2f}     Min Money: {min_money:0.2f}\")\n",
    "\n",
    "print(f\"{buy_count} Buys     {sell_count} Sells     {stand_count} Passes\")"
   ]
  },
  {
   "cell_type": "code",
   "execution_count": 125,
   "metadata": {
    "colab": {
     "base_uri": "https://localhost:8080/"
    },
    "id": "w2Lj4QcdhC_y",
    "outputId": "5140435f-2823-4b4a-8d58-4160b91c45e4"
   },
   "outputs": [
    {
     "name": "stdout",
     "output_type": "stream",
     "text": [
      "BUYING End Money: 164376.09     Max Money: 164376.09     Min Money: 93.14\n",
      "SHORTING End Money: 341.38     Max Money: 425.42     Min Money: 51.91\n",
      "41438 Buys     26363 Sells     258138 Passes\n"
     ]
    }
   ],
   "source": [
    "money = 100\n",
    "max_money = 100\n",
    "min_money = 100\n",
    "buy_count = 0\n",
    "stand_count = 0\n",
    "\n",
    "for i in L212.buy_profit_percent:\n",
    "    if i != 0:\n",
    "        buy_count += 1\n",
    "        stand_count -= 1\n",
    "    else:\n",
    "        stand_count += 1\n",
    "    money = money * (1 + i)\n",
    "    if money > max_money:\n",
    "        max_money = money\n",
    "    elif money < min_money:\n",
    "        min_money = money\n",
    "\n",
    "print(f\"BUYING End Money: {money:.2f}     Max Money: {max_money:0.2f}     Min Money: {min_money:0.2f}\")\n",
    "\n",
    "money = 100\n",
    "max_money = 100\n",
    "min_money = 100\n",
    "sell_count = 0\n",
    "\n",
    "for i in L212.sell_profit_percent:\n",
    "    if i != 0:\n",
    "        sell_count += 1\n",
    "        stand_count -= 1\n",
    "    else:\n",
    "        stand_count += 1\n",
    "    money = money * (1 + i)\n",
    "    if money > max_money:\n",
    "        max_money = money\n",
    "    elif money < min_money:\n",
    "        min_money = money\n",
    "print(f\"SHORTING End Money: {money:.2f}     Max Money: {max_money:0.2f}     Min Money: {min_money:0.2f}\")\n",
    "\n",
    "print(f\"{buy_count} Buys     {sell_count} Sells     {stand_count} Passes\")"
   ]
  },
  {
   "cell_type": "markdown",
   "metadata": {
    "id": "_IKb3O5uCyRZ"
   },
   "source": [
    "# Use model to make prediction on current BTC data from Bitfinex API\n"
   ]
  },
  {
   "cell_type": "markdown",
   "metadata": {
    "id": "aXcCJeddC3BL"
   },
   "source": [
    "Make sure Bitcoin model is current so scaling is correct"
   ]
  },
  {
   "cell_type": "code",
   "execution_count": 126,
   "metadata": {
    "id": "EYkcETMSC9rg"
   },
   "outputs": [],
   "source": [
    "# This function will use Monte Carlo Dropout to make multiple predictions and the mean will be final prediction\n",
    "def MC_Drop_Pred(data, n_steps=N_STEPS, trials=20):\n",
    "    \"\"\"trials=20 is the number of darts it will throw at the wall\"\"\"\n",
    "    y_probas = np.stack([model(data[-n_steps:].reshape((1, n_steps, 1)), training=True) for sample in range(trials)])\n",
    "    y_proba = y_probas.mean(axis=0)\n",
    "    return y_proba[0][0], y_probas"
   ]
  },
  {
   "cell_type": "code",
   "execution_count": 146,
   "metadata": {
    "id": "6T00K3rNDAnd"
   },
   "outputs": [
    {
     "name": "stdout",
     "output_type": "stream",
     "text": [
      "Current Closing Price:   44069.00\n",
      "\n",
      "Predicted Closing Price in 5 minutes: 44031.40     Predicted Change: -37.60\n",
      "\n",
      "Monte Carlo Mean Prediction: 44010.14     Predicted Change: -58.86     Std Dev: 238.46\n",
      "Percent of positive Monte Carlo results: 35.0%\n"
     ]
    }
   ],
   "source": [
    "r = requests.get(url=\"https://api-pub.bitfinex.com/v2/candles/trade:1m:tBTCUSD/hist\")\n",
    "data9 = r.json()\n",
    "df9 = pd.DataFrame(data9, columns=[\"time\", \"open\", \"close\", \"high\", \"low\", \"volume\"])\n",
    "# Reverse dataframe so most recent time last\n",
    "df9 = df9[::-1].reset_index()\n",
    "\n",
    "# Transform data to correct shape\n",
    "my_data = np.expand_dims(df9[\"close\"][-20:], axis=0)\n",
    "my_data = my_data.transpose()\n",
    "p3 = data[\"column_scaler\"][\"close\"].transform(my_data)\n",
    "p4 = np.expand_dims(p3, axis=0)\n",
    "# Get prediction\n",
    "ans = model.predict(p4)\n",
    "# Unscale\n",
    "ans2 = data[\"column_scaler\"][\"close\"].inverse_transform(ans)\n",
    "cl = df9.iloc[-1]['close']\n",
    "p_cl = ans2[0][0]\n",
    "print(f\"Current Closing Price:   {cl:.2f}\")\n",
    "print()\n",
    "print(f\"Predicted Closing Price in 5 minutes: {p_cl:.2f}     Predicted Change: {p_cl - cl:.2f}\")\n",
    "\n",
    "print()\n",
    "\n",
    "# Use the Monte Carlo method to make prediction with range\n",
    "ans5, all_preds = MC_Drop_Pred(p3, trials=20)\n",
    "ans6 = data[\"column_scaler\"][\"close\"].inverse_transform(ans5.reshape(1, -1))\n",
    "cl2 = df9.iloc[-1]['close']\n",
    "p_cl2 = ans6[0][0]\n",
    "\n",
    "all_preds2 = []\n",
    "above, below = 0, 0\n",
    "for i in all_preds:\n",
    "    all_preds2.append(i[0])\n",
    "all_preds3 = data[\"column_scaler\"][\"close\"].inverse_transform(all_preds2)\n",
    "print(f\"Monte Carlo Mean Prediction: {all_preds3.mean():.2f}     Predicted Change: {all_preds3.mean() - cl2:.2f}     Std Dev: {all_preds3.std():.2f}\")\n",
    "\n",
    "all_preds4 = all_preds3 - cl2\n",
    "above, below = 0, 0\n",
    "\n",
    "for i in all_preds4:\n",
    "    if i[0] > 0:\n",
    "        above += 1\n",
    "    else:\n",
    "        below += 1\n",
    "print(f\"Percent of positive Monte Carlo results: {100 * above / (above + below)}%\")"
   ]
  },
  {
   "cell_type": "code",
   "execution_count": 151,
   "metadata": {},
   "outputs": [
    {
     "data": {
      "text/plain": [
       "array([[-344.18419651],\n",
       "       [ 177.60064252],\n",
       "       [ 275.58826758],\n",
       "       [-490.6191456 ],\n",
       "       [-355.96829786],\n",
       "       [ 168.43401957],\n",
       "       [-148.03677253],\n",
       "       [ -98.42564047],\n",
       "       [-127.16232779],\n",
       "       [ 353.10899866],\n",
       "       [  15.60030563],\n",
       "       [ -49.30705638],\n",
       "       [-356.73981107],\n",
       "       [-170.80512962],\n",
       "       [  -4.33263147],\n",
       "       [-133.82044312],\n",
       "       [ -89.6000961 ],\n",
       "       [-265.26537018],\n",
       "       [  78.46664473],\n",
       "       [ 388.29893624]])"
      ]
     },
     "execution_count": 151,
     "metadata": {},
     "output_type": "execute_result"
    }
   ],
   "source": [
    "all_preds4"
   ]
  },
  {
   "cell_type": "code",
   "execution_count": 162,
   "metadata": {},
   "outputs": [
    {
     "data": {
      "image/png": "[encoded data removed]",
      "text/plain": [
       "<Figure size 432x288 with 1 Axes>"
      ]
     },
     "metadata": {
      "needs_background": "light"
     },
     "output_type": "display_data"
    }
   ],
   "source": [
    "plt.hist(all_preds3-cl2, bins=5)\n",
    "plt.show()"
   ]
  },
  {
   "cell_type": "code",
   "execution_count": 174,
   "metadata": {},
   "outputs": [
    {
     "name": "stdout",
     "output_type": "stream",
     "text": [
      "Current Closing Price:   44711.00\n",
      "\n",
      "Predicted Closing Price in 5 minutes: 44761.20     Predicted Change: 50.20\n",
      "\n",
      "Monte Carlo Mean Prediction: 44758.16     Predicted Change: 47.16     Std Dev: 284.82\n",
      "Percent of positive Monte Carlo results: 56.9%\n",
      "operation took 27.18 seconds\n"
     ]
    }
   ],
   "source": [
    "starting_time = time.time()\n",
    "r = requests.get(url=\"https://api-pub.bitfinex.com/v2/candles/trade:1m:tBTCUSD/hist\")\n",
    "data9 = r.json()\n",
    "df9 = pd.DataFrame(data9, columns=[\"time\", \"open\", \"close\", \"high\", \"low\", \"volume\"])\n",
    "# Reverse dataframe so most recent time last\n",
    "df9 = df9[::-1].reset_index()\n",
    "\n",
    "# Transform data to correct shape\n",
    "my_data = np.expand_dims(df9[\"close\"][-20:], axis=0)\n",
    "my_data = my_data.transpose()\n",
    "p3 = data[\"column_scaler\"][\"close\"].transform(my_data)\n",
    "p4 = np.expand_dims(p3, axis=0)\n",
    "# Get prediction\n",
    "ans = model.predict(p4)\n",
    "# Unscale\n",
    "ans2 = data[\"column_scaler\"][\"close\"].inverse_transform(ans)\n",
    "cl = df9.iloc[-1]['close']\n",
    "p_cl = ans2[0][0]\n",
    "print(f\"Current Closing Price:   {cl:.2f}\")\n",
    "print()\n",
    "print(f\"Predicted Closing Price in 5 minutes: {p_cl:.2f}     Predicted Change: {p_cl - cl:.2f}\")\n",
    "\n",
    "print()\n",
    "\n",
    "# Use the Monte Carlo method to make prediction with range\n",
    "ans5, all_preds = MC_Drop_Pred(p3, trials=1000)\n",
    "ans6 = data[\"column_scaler\"][\"close\"].inverse_transform(ans5.reshape(1, -1))\n",
    "cl2 = df9.iloc[-1]['close']\n",
    "p_cl2 = ans6[0][0]\n",
    "\n",
    "all_preds2 = []\n",
    "above, below = 0, 0\n",
    "for i in all_preds:\n",
    "    all_preds2.append(i[0])\n",
    "all_preds3 = data[\"column_scaler\"][\"close\"].inverse_transform(all_preds2)\n",
    "print(f\"Monte Carlo Mean Prediction: {all_preds3.mean():.2f}     Predicted Change: {all_preds3.mean() - cl2:.2f}     Std Dev: {all_preds3.std():.2f}\")\n",
    "\n",
    "all_preds4 = all_preds3 - cl2\n",
    "above, below = 0, 0\n",
    "\n",
    "for i in all_preds4:\n",
    "    if i[0] > 0:\n",
    "        above += 1\n",
    "    else:\n",
    "        below += 1\n",
    "print(f\"Percent of positive Monte Carlo results: {100 * above / (above + below)}%\")\n",
    "print(f\"operation took {time.time() - starting_time:.2f} seconds\")"
   ]
  },
  {
   "cell_type": "code",
   "execution_count": 179,
   "metadata": {},
   "outputs": [
    {
     "data": {
      "image/png": "[encoded data removed]",
      "text/plain": [
       "<Figure size 432x288 with 1 Axes>"
      ]
     },
     "metadata": {
      "needs_background": "light"
     },
     "output_type": "display_data"
    }
   ],
   "source": [
    "plt.hist(all_preds3-cl2, bins=15)\n",
    "plt.show()"
   ]
  }
 ],
 "metadata": {
  "accelerator": "GPU",
  "colab": {
   "collapsed_sections": [],
   "name": "128 9999percent 2017 BTC_LTSM_Aug.ipynb",
   "provenance": []
  },
  "kernelspec": {
   "display_name": "Python 3",
   "language": "python",
   "name": "python3"
  },
  "language_info": {
   "codemirror_mode": {
    "name": "ipython",
    "version": 3
   },
   "file_extension": ".py",
   "mimetype": "text/x-python",
   "name": "python",
   "nbconvert_exporter": "python",
   "pygments_lexer": "ipython3",
   "version": "3.8.0"
  }
 },
 "nbformat": 4,
 "nbformat_minor": 1
}
